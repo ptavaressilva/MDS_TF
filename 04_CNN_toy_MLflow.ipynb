{
 "cells": [
  {
   "cell_type": "markdown",
   "metadata": {},
   "source": [
    "# Preparación para el TF MDS\n",
    "\n",
    "## Modelación\n",
    "\n",
    "Dataset: https://www.yelp.com/dataset/documentation/main\n",
    "\n",
    "**Requiere ejecución prévia del notebook 01_Preparación_flat_toy_dataset.ipynb** para crear dataframes de train y test.\n",
    "\n",
    "Se utiliza una CNN muy básica y un toy dataset con 100 fotos de cada label."
   ]
  },
  {
   "cell_type": "code",
   "execution_count": 1,
   "metadata": {
    "id": "wR5rF6WTMvFS"
   },
   "outputs": [
    {
     "name": "stderr",
     "output_type": "stream",
     "text": [
      "2022-09-07 15:37:06.011213: W tensorflow/stream_executor/platform/default/dso_loader.cc:64] Could not load dynamic library 'libcudart.so.11.0'; dlerror: libcudart.so.11.0: cannot open shared object file: No such file or directory\n",
      "2022-09-07 15:37:06.011259: I tensorflow/stream_executor/cuda/cudart_stub.cc:29] Ignore above cudart dlerror if you do not have a GPU set up on your machine.\n"
     ]
    }
   ],
   "source": [
    "import numpy as np\n",
    "import matplotlib.pyplot as plt\n",
    "import pandas as pd\n",
    "import pickle\n",
    "from keras import backend as K\n",
    "from keras.utils import np_utils\n",
    "from keras.models import Sequential\n",
    "from keras.layers import Dense, Dropout, Activation, Flatten, Convolution2D, Conv2D, MaxPooling2D\n",
    "from tensorflow import keras\n",
    "import time"
   ]
  },
  {
   "cell_type": "code",
   "execution_count": 3,
   "metadata": {},
   "outputs": [],
   "source": [
    "import mlflow\n",
    "from pathlib import Path\n",
    "\n",
    "# crear experimento\n",
    "experiment_id = mlflow.create_experiment(\n",
    "    \"Entrenamiento de CNN\",\n",
    "    artifact_location = 'mlruns2',#Path.cwd().joinpath(\"mlruns2\").as_uri(),\n",
    "    tags = {\"dataset\": \"flat_toy\",\n",
    "            \"photo_size\": 100},\n",
    ")"
   ]
  },
  {
   "cell_type": "code",
   "execution_count": 4,
   "metadata": {},
   "outputs": [
    {
     "data": {
      "text/plain": [
       "<ActiveRun: >"
      ]
     },
     "execution_count": 4,
     "metadata": {},
     "output_type": "execute_result"
    }
   ],
   "source": [
    "experiment = mlflow.get_experiment(experiment_id)\n",
    "\n",
    "# crear run\n",
    "run = mlflow.start_run(\n",
    "    run_name=\"Prueba_de_MLflow\",\n",
    "    experiment_id=experiment_id,\n",
    "    tags={\"Autor\": \"Pedro_T\"},\n",
    "    description=\"parent\",\n",
    ")"
   ]
  },
  {
   "cell_type": "code",
   "execution_count": 6,
   "metadata": {},
   "outputs": [
    {
     "name": "stdout",
     "output_type": "stream",
     "text": [
      "run_id: dcf65be3f4ba417cbae15589cc13eb68; status: RUNNING\n"
     ]
    }
   ],
   "source": [
    "# info del run\n",
    "run_id = run.info.run_id\n",
    "run = mlflow.active_run()\n",
    "print(\"run_id: {}; status: {}\".format(run.info.run_id, run.info.status))"
   ]
  },
  {
   "cell_type": "code",
   "execution_count": 13,
   "metadata": {},
   "outputs": [],
   "source": [
    "# activar auto logging\n",
    "mlflow.tensorflow.autolog()"
   ]
  },
  {
   "cell_type": "markdown",
   "metadata": {},
   "source": [
    "## Cargar flat toy dataset"
   ]
  },
  {
   "cell_type": "code",
   "execution_count": 7,
   "metadata": {},
   "outputs": [],
   "source": [
    "X_train = pickle.load(open('checkpoints/flat_toy_X_train.pkl','rb'))"
   ]
  },
  {
   "cell_type": "code",
   "execution_count": 8,
   "metadata": {},
   "outputs": [],
   "source": [
    "X_test = pickle.load(open('checkpoints/flat_toy_X_test.pkl','rb'))"
   ]
  },
  {
   "cell_type": "code",
   "execution_count": 9,
   "metadata": {},
   "outputs": [],
   "source": [
    "y_train = pickle.load(open('checkpoints/flat_toy_y_train.pkl','rb'))"
   ]
  },
  {
   "cell_type": "code",
   "execution_count": 10,
   "metadata": {},
   "outputs": [],
   "source": [
    "y_test = pickle.load(open('checkpoints/flat_toy_y_test.pkl','rb'))"
   ]
  },
  {
   "cell_type": "code",
   "execution_count": 11,
   "metadata": {},
   "outputs": [],
   "source": [
    "categories = pickle.load(open('checkpoints/flat_toy_categories.pkl','rb'))"
   ]
  },
  {
   "cell_type": "code",
   "execution_count": 14,
   "metadata": {
    "colab": {
     "base_uri": "https://localhost:8080/"
    },
    "executionInfo": {
     "elapsed": 492,
     "status": "ok",
     "timestamp": 1660656122248,
     "user": {
      "displayName": "Pedro Tavares Silva",
      "userId": "15176343071283963792"
     },
     "user_tz": -120
    },
    "id": "UAG_bHIspvTu",
    "outputId": "804add74-6311-4cd4-bc8e-0b7998d8392a"
   },
   "outputs": [
    {
     "name": "stdout",
     "output_type": "stream",
     "text": [
      "X_train: (400, 100, 100, 3)\n",
      "y_train: (400, 5)\n",
      "X_test: (100, 100, 100, 3)\n",
      "y_test: (100, 5)\n"
     ]
    }
   ],
   "source": [
    "print(\"X_train: {}\".format(X_train.shape))\n",
    "print(\"y_train: {}\".format(y_train.shape))\n",
    "print(\"X_test: {}\".format(X_test.shape))\n",
    "print(\"y_test: {}\".format(y_test.shape))"
   ]
  },
  {
   "cell_type": "markdown",
   "metadata": {
    "id": "xSNx3LptphXo"
   },
   "source": [
    "#### Visualizamos la imagen pixelada 28 x 28"
   ]
  },
  {
   "cell_type": "code",
   "execution_count": 15,
   "metadata": {
    "colab": {
     "base_uri": "https://localhost:8080/"
    },
    "executionInfo": {
     "elapsed": 10,
     "status": "ok",
     "timestamp": 1660475941919,
     "user": {
      "displayName": "Pedro Tavares Silva",
      "userId": "15176343071283963792"
     },
     "user_tz": -120
    },
    "id": "WuAx4YXQqCBH",
    "outputId": "467b4153-26e7-4a16-bf2a-d472c0c8b059"
   },
   "outputs": [
    {
     "name": "stdout",
     "output_type": "stream",
     "text": [
      "Formato de la imagen: (100, 100, 3)\n"
     ]
    }
   ],
   "source": [
    "# Seleccionamos la primera imagen del conjunto (primer dígito)\n",
    "single = X_train[0]\n",
    "print(\"Formato de la imagen: {}\".format(single.shape))"
   ]
  },
  {
   "cell_type": "markdown",
   "metadata": {
    "id": "7RkDrB5ev5Bm"
   },
   "source": [
    "#### Definición de parámetros"
   ]
  },
  {
   "cell_type": "code",
   "execution_count": 16,
   "metadata": {
    "id": "geIMOkjRv4Vb"
   },
   "outputs": [],
   "source": [
    "batch_size = 128\n",
    "num_classes = 5\n",
    "epochs = 2\n",
    "\n",
    "# Dimensiones de la imagen de entrada\n",
    "img_rows, img_cols, img_ch = 100, 100, 3"
   ]
  },
  {
   "cell_type": "code",
   "execution_count": 17,
   "metadata": {
    "id": "E_SS3e1zwNog"
   },
   "outputs": [],
   "source": [
    "# Si el formato de las imágenes sólo tiene un canal (escala de grises)\n",
    "if K.image_data_format() == 'channels_first':\n",
    "    X_train = X_train.reshape(X_train.shape[0], img_ch, img_rows, img_cols)\n",
    "    X_test = X_test.reshape(X_test.shape[0], img_ch, img_rows, img_cols)\n",
    "    input_shape = (img_ch, img_rows, img_cols)\n",
    "# en otro caso\n",
    "else:\n",
    "    X_train = X_train.reshape(X_train.shape[0], img_rows, img_cols, img_ch)\n",
    "    X_test = X_test.reshape(X_test.shape[0], img_rows, img_cols, img_ch)\n",
    "    input_shape = (img_rows, img_cols, img_ch)"
   ]
  },
  {
   "cell_type": "markdown",
   "metadata": {
    "id": "IomA3SLmyoXC"
   },
   "source": [
    "##### Comprobamos el nuevo formato de \"x_train\" y \"x_test\""
   ]
  },
  {
   "cell_type": "code",
   "execution_count": 18,
   "metadata": {
    "colab": {
     "base_uri": "https://localhost:8080/"
    },
    "executionInfo": {
     "elapsed": 2,
     "status": "ok",
     "timestamp": 1660475943434,
     "user": {
      "displayName": "Pedro Tavares Silva",
      "userId": "15176343071283963792"
     },
     "user_tz": -120
    },
    "id": "FK0RU0sgyDwK",
    "outputId": "08646405-070d-44fe-cf16-2ce6199ff6f3"
   },
   "outputs": [
    {
     "name": "stdout",
     "output_type": "stream",
     "text": [
      "Conjunto de Training: 400 imágenes\n",
      "(400, 100, 100, 3)\n",
      "\n",
      "Conjunto de TEST: 100 imágenes\n",
      "(100, 100, 100, 3)\n"
     ]
    }
   ],
   "source": [
    "print(\"Conjunto de Training: {}\".format(X_train.shape[0]), 'imágenes')\n",
    "print(X_train.shape)\n",
    "\n",
    "print()\n",
    "print(\"Conjunto de TEST: {}\".format(X_test.shape[0]), 'imágenes')\n",
    "print(X_test.shape)"
   ]
  },
  {
   "cell_type": "code",
   "execution_count": 19,
   "metadata": {
    "colab": {
     "base_uri": "https://localhost:8080/"
    },
    "id": "OnSDOjwfX3Qf",
    "outputId": "6a3990a2-98c1-4277-b526-b587cf65d639"
   },
   "outputs": [
    {
     "name": "stdout",
     "output_type": "stream",
     "text": [
      "[[103  76  52]\n",
      " [ 79  52  31]\n",
      " [ 69  42  25]\n",
      " [ 63  41  23]\n",
      " [ 68  48  29]\n",
      " [ 77  60  38]\n",
      " [ 59  38  15]\n",
      " [ 83  64  37]\n",
      " [ 92  76  49]\n",
      " [102  91  61]\n",
      " [112 106  71]\n",
      " [137 134  95]\n",
      " [147 145  99]\n",
      " [161 160 109]\n",
      " [154 152  96]\n",
      " [118 115  56]\n",
      " [115 112  50]\n",
      " [128 123  62]\n",
      " [172 168 109]\n",
      " [193 189 131]\n",
      " [147 145  91]\n",
      " [102  98  50]\n",
      " [162 150 110]\n",
      " [156 138 100]\n",
      " [150 126  85]\n",
      " [139 109  65]\n",
      " [147 112  67]\n",
      " [165 129  85]\n",
      " [146 111  73]\n",
      " [162 128  98]\n",
      " [149 118  99]\n",
      " [ 71  40  29]\n",
      " [ 39   6   2]\n",
      " [ 83  41  42]\n",
      " [154 101 106]\n",
      " [118  55  58]\n",
      " [126  53  56]\n",
      " [133  65  61]\n",
      " [103  55  44]\n",
      " [113  75  58]\n",
      " [ 93  59  39]\n",
      " [202 172 149]\n",
      " [203 177 152]\n",
      " [154 132 106]\n",
      " [151 132 109]\n",
      " [155 136 119]\n",
      " [ 89  71  62]\n",
      " [ 47  28  23]\n",
      " [ 48  27  25]\n",
      " [ 50  27  26]\n",
      " [ 57  30  27]\n",
      " [ 64  35  28]\n",
      " [ 77  48  37]\n",
      " [ 74  43  32]\n",
      " [ 86  54  49]\n",
      " [101  69  66]\n",
      " [100  69  65]\n",
      " [ 98  68  62]\n",
      " [101  72  63]\n",
      " [108  79  70]\n",
      " [102  72  64]\n",
      " [ 74  43  35]\n",
      " [ 53  18  13]\n",
      " [ 45   8   2]\n",
      " [135  94  88]\n",
      " [211 168 156]\n",
      " [150 104  88]\n",
      " [158 110  88]\n",
      " [176 124 100]\n",
      " [114  69  46]\n",
      " [ 78  50  34]\n",
      " [ 46  28  17]\n",
      " [ 40  21  12]\n",
      " [ 34  17   8]\n",
      " [ 35  17  11]\n",
      " [ 31  16  10]\n",
      " [ 28  15  10]\n",
      " [ 37  26  21]\n",
      " [ 51  42  34]\n",
      " [ 72  62  53]\n",
      " [ 79  69  58]\n",
      " [ 79  67  54]\n",
      " [ 84  67  53]\n",
      " [ 91  71  57]\n",
      " [ 99  76  60]\n",
      " [103  72  57]\n",
      " [ 97  55  39]\n",
      " [101  54  40]\n",
      " [100  54  40]\n",
      " [100  53  41]\n",
      " [100  55  43]\n",
      " [103  58  46]\n",
      " [104  61  48]\n",
      " [105  61  49]\n",
      " [106  62  49]\n",
      " [110  66  53]\n",
      " [120  74  59]\n",
      " [129  82  68]\n",
      " [138  90  75]\n",
      " [144  95  80]]\n"
     ]
    }
   ],
   "source": [
    "# Píxeles de la fila 10 de la primera imagen\n",
    "print(X_train[0][10])"
   ]
  },
  {
   "cell_type": "markdown",
   "metadata": {
    "id": "Hi28fFqhW_8U"
   },
   "source": [
    "#### Damos formato a los píxeles de las imágenes de coma flotante de simple precisión"
   ]
  },
  {
   "cell_type": "code",
   "execution_count": 20,
   "metadata": {
    "id": "Jf2zKeVhOyUm"
   },
   "outputs": [],
   "source": [
    "X_train = X_train.astype('float32')\n",
    "X_test = X_test.astype('float32')"
   ]
  },
  {
   "cell_type": "markdown",
   "metadata": {
    "id": "e_cuC_f1ztNJ"
   },
   "source": [
    "#### Normalizamos los píxeles entre [0,1] para que no tengan unos más valor que otros por tener simplemente un número más alto"
   ]
  },
  {
   "cell_type": "code",
   "execution_count": 21,
   "metadata": {
    "id": "e2GYLSqyO93v"
   },
   "outputs": [],
   "source": [
    "X_train /= 255\n",
    "X_test /= 255"
   ]
  },
  {
   "cell_type": "markdown",
   "metadata": {
    "id": "pdiir93X0A7u"
   },
   "source": [
    "#### Visualizamos nuevamente los píxeles de la fila 10 de la primera imagen"
   ]
  },
  {
   "cell_type": "code",
   "execution_count": 22,
   "metadata": {
    "colab": {
     "base_uri": "https://localhost:8080/"
    },
    "id": "uG1QP1d8PGDI",
    "outputId": "17c5582a-68b8-4b24-9004-530487179186"
   },
   "outputs": [
    {
     "name": "stdout",
     "output_type": "stream",
     "text": [
      "[[0.40392157 0.29803923 0.20392157]\n",
      " [0.30980393 0.20392157 0.12156863]\n",
      " [0.27058825 0.16470589 0.09803922]\n",
      " [0.24705882 0.16078432 0.09019608]\n",
      " [0.26666668 0.1882353  0.11372549]\n",
      " [0.3019608  0.23529412 0.14901961]\n",
      " [0.23137255 0.14901961 0.05882353]\n",
      " [0.3254902  0.2509804  0.14509805]\n",
      " [0.36078432 0.29803923 0.19215687]\n",
      " [0.4        0.35686275 0.23921569]\n",
      " [0.4392157  0.41568628 0.2784314 ]\n",
      " [0.5372549  0.5254902  0.37254903]\n",
      " [0.5764706  0.5686275  0.3882353 ]\n",
      " [0.6313726  0.627451   0.42745098]\n",
      " [0.6039216  0.59607846 0.3764706 ]\n",
      " [0.4627451  0.4509804  0.21960784]\n",
      " [0.4509804  0.4392157  0.19607843]\n",
      " [0.5019608  0.48235294 0.24313726]\n",
      " [0.6745098  0.65882355 0.42745098]\n",
      " [0.75686276 0.7411765  0.5137255 ]\n",
      " [0.5764706  0.5686275  0.35686275]\n",
      " [0.4        0.38431373 0.19607843]\n",
      " [0.63529414 0.5882353  0.43137255]\n",
      " [0.6117647  0.5411765  0.39215687]\n",
      " [0.5882353  0.49411765 0.33333334]\n",
      " [0.54509807 0.42745098 0.25490198]\n",
      " [0.5764706  0.4392157  0.2627451 ]\n",
      " [0.64705884 0.5058824  0.33333334]\n",
      " [0.57254905 0.43529412 0.28627452]\n",
      " [0.63529414 0.5019608  0.38431373]\n",
      " [0.58431375 0.4627451  0.3882353 ]\n",
      " [0.2784314  0.15686275 0.11372549]\n",
      " [0.15294118 0.02352941 0.00784314]\n",
      " [0.3254902  0.16078432 0.16470589]\n",
      " [0.6039216  0.39607844 0.41568628]\n",
      " [0.4627451  0.21568628 0.22745098]\n",
      " [0.49411765 0.20784314 0.21960784]\n",
      " [0.52156866 0.25490198 0.23921569]\n",
      " [0.40392157 0.21568628 0.17254902]\n",
      " [0.44313726 0.29411766 0.22745098]\n",
      " [0.3647059  0.23137255 0.15294118]\n",
      " [0.7921569  0.6745098  0.58431375]\n",
      " [0.79607844 0.69411767 0.59607846]\n",
      " [0.6039216  0.5176471  0.41568628]\n",
      " [0.5921569  0.5176471  0.42745098]\n",
      " [0.60784316 0.53333336 0.46666667]\n",
      " [0.34901962 0.2784314  0.24313726]\n",
      " [0.18431373 0.10980392 0.09019608]\n",
      " [0.1882353  0.10588235 0.09803922]\n",
      " [0.19607843 0.10588235 0.10196079]\n",
      " [0.22352941 0.11764706 0.10588235]\n",
      " [0.2509804  0.13725491 0.10980392]\n",
      " [0.3019608  0.1882353  0.14509805]\n",
      " [0.2901961  0.16862746 0.1254902 ]\n",
      " [0.3372549  0.21176471 0.19215687]\n",
      " [0.39607844 0.27058825 0.25882354]\n",
      " [0.39215687 0.27058825 0.25490198]\n",
      " [0.38431373 0.26666668 0.24313726]\n",
      " [0.39607844 0.28235295 0.24705882]\n",
      " [0.42352942 0.30980393 0.27450982]\n",
      " [0.4        0.28235295 0.2509804 ]\n",
      " [0.2901961  0.16862746 0.13725491]\n",
      " [0.20784314 0.07058824 0.05098039]\n",
      " [0.1764706  0.03137255 0.00784314]\n",
      " [0.5294118  0.36862746 0.34509805]\n",
      " [0.827451   0.65882355 0.6117647 ]\n",
      " [0.5882353  0.40784314 0.34509805]\n",
      " [0.61960787 0.43137255 0.34509805]\n",
      " [0.6901961  0.4862745  0.39215687]\n",
      " [0.44705883 0.27058825 0.18039216]\n",
      " [0.30588236 0.19607843 0.13333334]\n",
      " [0.18039216 0.10980392 0.06666667]\n",
      " [0.15686275 0.08235294 0.04705882]\n",
      " [0.13333334 0.06666667 0.03137255]\n",
      " [0.13725491 0.06666667 0.04313726]\n",
      " [0.12156863 0.0627451  0.03921569]\n",
      " [0.10980392 0.05882353 0.03921569]\n",
      " [0.14509805 0.10196079 0.08235294]\n",
      " [0.2        0.16470589 0.13333334]\n",
      " [0.28235295 0.24313726 0.20784314]\n",
      " [0.30980393 0.27058825 0.22745098]\n",
      " [0.30980393 0.2627451  0.21176471]\n",
      " [0.32941177 0.2627451  0.20784314]\n",
      " [0.35686275 0.2784314  0.22352941]\n",
      " [0.3882353  0.29803923 0.23529412]\n",
      " [0.40392157 0.28235295 0.22352941]\n",
      " [0.38039216 0.21568628 0.15294118]\n",
      " [0.39607844 0.21176471 0.15686275]\n",
      " [0.39215687 0.21176471 0.15686275]\n",
      " [0.39215687 0.20784314 0.16078432]\n",
      " [0.39215687 0.21568628 0.16862746]\n",
      " [0.40392157 0.22745098 0.18039216]\n",
      " [0.40784314 0.23921569 0.1882353 ]\n",
      " [0.4117647  0.23921569 0.19215687]\n",
      " [0.41568628 0.24313726 0.19215687]\n",
      " [0.43137255 0.25882354 0.20784314]\n",
      " [0.47058824 0.2901961  0.23137255]\n",
      " [0.5058824  0.32156864 0.26666668]\n",
      " [0.5411765  0.3529412  0.29411766]\n",
      " [0.5647059  0.37254903 0.3137255 ]]\n"
     ]
    }
   ],
   "source": [
    "print(X_train[0][10])"
   ]
  },
  {
   "cell_type": "markdown",
   "metadata": {
    "id": "aOq2ZpRQcCMS"
   },
   "source": [
    "## Convierte los vectores de clase en matrices de clases binarias"
   ]
  },
  {
   "cell_type": "code",
   "execution_count": 23,
   "metadata": {
    "colab": {
     "base_uri": "https://localhost:8080/"
    },
    "id": "2X7Bt6RtPWrF",
    "outputId": "5beda901-8197-410c-e404-a39ab531b555"
   },
   "outputs": [
    {
     "name": "stdout",
     "output_type": "stream",
     "text": [
      "[1. 0. 0. 0. 0.]\n"
     ]
    }
   ],
   "source": [
    "# Etiqueta de la primera imagen\n",
    "print(y_train[0])"
   ]
  },
  {
   "cell_type": "markdown",
   "metadata": {
    "id": "4gjEvCrNYHin"
   },
   "source": [
    "#### Arquitectura de la CNN"
   ]
  },
  {
   "cell_type": "code",
   "execution_count": 24,
   "metadata": {
    "id": "nYsctvLqPal-"
   },
   "outputs": [
    {
     "name": "stderr",
     "output_type": "stream",
     "text": [
      "2022-09-07 15:46:51.929449: W tensorflow/stream_executor/platform/default/dso_loader.cc:64] Could not load dynamic library 'libcuda.so.1'; dlerror: libcuda.so.1: cannot open shared object file: No such file or directory\n",
      "2022-09-07 15:46:51.929500: W tensorflow/stream_executor/cuda/cuda_driver.cc:269] failed call to cuInit: UNKNOWN ERROR (303)\n",
      "2022-09-07 15:46:51.929520: I tensorflow/stream_executor/cuda/cuda_diagnostics.cc:156] kernel driver does not appear to be running on this host (2389946ad78e): /proc/driver/nvidia/version does not exist\n",
      "2022-09-07 15:46:51.929736: I tensorflow/core/platform/cpu_feature_guard.cc:193] This TensorFlow binary is optimized with oneAPI Deep Neural Network Library (oneDNN) to use the following CPU instructions in performance-critical operations:  AVX2 FMA\n",
      "To enable them in other operations, rebuild TensorFlow with the appropriate compiler flags.\n",
      "2022-09-07 15:46:51.993561: W tensorflow/core/framework/cpu_allocator_impl.cc:82] Allocation of 75497472 exceeds 10% of free system memory.\n",
      "2022-09-07 15:46:52.047893: W tensorflow/core/framework/cpu_allocator_impl.cc:82] Allocation of 75497472 exceeds 10% of free system memory.\n",
      "2022-09-07 15:46:52.072921: W tensorflow/core/framework/cpu_allocator_impl.cc:82] Allocation of 75497472 exceeds 10% of free system memory.\n"
     ]
    }
   ],
   "source": [
    "model = Sequential()\n",
    "model.add(Conv2D(32, kernel_size=(3, 3),\n",
    "                 activation='relu',\n",
    "                 input_shape=input_shape))\n",
    "model.add(Conv2D(64, (3, 3), activation='relu'))\n",
    "model.add(MaxPooling2D(pool_size=(2, 2)))\n",
    "model.add(Dropout(0.25))\n",
    "model.add(Flatten())\n",
    "model.add(Dense(128, activation='relu'))\n",
    "model.add(Dropout(0.5))\n",
    "model.add(Dense(num_classes, activation='softmax'))\n",
    "model.compile(loss=keras.losses.categorical_crossentropy,\n",
    "              optimizer=keras.optimizers.Adadelta(),\n",
    "              metrics=['accuracy'])"
   ]
  },
  {
   "cell_type": "code",
   "execution_count": 25,
   "metadata": {
    "colab": {
     "base_uri": "https://localhost:8080/"
    },
    "id": "3awRDcGb2ftI",
    "outputId": "c58cca10-5ad6-4141-84a8-6807e1b59c62",
    "scrolled": false
   },
   "outputs": [
    {
     "name": "stdout",
     "output_type": "stream",
     "text": [
      "Model: \"sequential\"\n",
      "_________________________________________________________________\n",
      " Layer (type)                Output Shape              Param #   \n",
      "=================================================================\n",
      " conv2d (Conv2D)             (None, 98, 98, 32)        896       \n",
      "                                                                 \n",
      " conv2d_1 (Conv2D)           (None, 96, 96, 64)        18496     \n",
      "                                                                 \n",
      " max_pooling2d (MaxPooling2D  (None, 48, 48, 64)       0         \n",
      " )                                                               \n",
      "                                                                 \n",
      " dropout (Dropout)           (None, 48, 48, 64)        0         \n",
      "                                                                 \n",
      " flatten (Flatten)           (None, 147456)            0         \n",
      "                                                                 \n",
      " dense (Dense)               (None, 128)               18874496  \n",
      "                                                                 \n",
      " dropout_1 (Dropout)         (None, 128)               0         \n",
      "                                                                 \n",
      " dense_1 (Dense)             (None, 5)                 645       \n",
      "                                                                 \n",
      "=================================================================\n",
      "Total params: 18,894,533\n",
      "Trainable params: 18,894,533\n",
      "Non-trainable params: 0\n",
      "_________________________________________________________________\n"
     ]
    }
   ],
   "source": [
    "model.summary()"
   ]
  },
  {
   "cell_type": "code",
   "execution_count": 26,
   "metadata": {
    "id": "neGu6aTYQkcB"
   },
   "outputs": [],
   "source": [
    "model.compile(loss='categorical_crossentropy', optimizer='adam', metrics=['accuracy'])"
   ]
  },
  {
   "cell_type": "markdown",
   "metadata": {
    "id": "8xUiorOLYabM"
   },
   "source": [
    "#### Entrenamos el modelo"
   ]
  },
  {
   "cell_type": "code",
   "execution_count": 27,
   "metadata": {
    "colab": {
     "base_uri": "https://localhost:8080/"
    },
    "id": "pT29eDbiQ01G",
    "outputId": "db6effda-6b58-471a-a303-d65cb695fc38"
   },
   "outputs": [
    {
     "name": "stderr",
     "output_type": "stream",
     "text": [
      "2022-09-07 15:46:54.634709: W tensorflow/core/framework/cpu_allocator_impl.cc:82] Allocation of 48000000 exceeds 10% of free system memory.\n"
     ]
    },
    {
     "name": "stdout",
     "output_type": "stream",
     "text": [
      "Epoch 1/2\n"
     ]
    },
    {
     "name": "stderr",
     "output_type": "stream",
     "text": [
      "2022-09-07 15:46:55.035804: W tensorflow/core/framework/cpu_allocator_impl.cc:82] Allocation of 75497472 exceeds 10% of free system memory.\n"
     ]
    },
    {
     "name": "stdout",
     "output_type": "stream",
     "text": [
      "4/4 - 10s - loss: 6.0215 - accuracy: 0.1775 - 10s/epoch - 2s/step\n",
      "Epoch 2/2\n",
      "4/4 - 9s - loss: 2.6102 - accuracy: 0.1900 - 9s/epoch - 2s/step\n"
     ]
    },
    {
     "name": "stderr",
     "output_type": "stream",
     "text": [
      "WARNING:absl:Found untraced functions such as _jit_compiled_convolution_op, _jit_compiled_convolution_op while saving (showing 2 of 2). These functions will not be directly callable after loading.\n"
     ]
    },
    {
     "name": "stdout",
     "output_type": "stream",
     "text": [
      "INFO:tensorflow:Assets written to: /tmp/tmpya09f6q8/model/data/model/assets\n"
     ]
    },
    {
     "name": "stderr",
     "output_type": "stream",
     "text": [
      "INFO:tensorflow:Assets written to: /tmp/tmpya09f6q8/model/data/model/assets\n"
     ]
    }
   ],
   "source": [
    "start_time = time.time()\n",
    "model.fit(X_train, y_train, \n",
    "          batch_size=batch_size, \n",
    "          epochs=epochs, \n",
    "          verbose=2)\n",
    "end_time = time.time()"
   ]
  },
  {
   "cell_type": "code",
   "execution_count": 28,
   "metadata": {
    "colab": {
     "base_uri": "https://localhost:8080/"
    },
    "id": "4A9rbZJITztM",
    "outputId": "9e990757-2145-4f43-f7fd-941ba0cdd1d5"
   },
   "outputs": [
    {
     "name": "stdout",
     "output_type": "stream",
     "text": [
      "Tiempo estimado de entrenamiento (min): 1.0\n"
     ]
    }
   ],
   "source": [
    "# Tiempo de entrenamiento\n",
    "elapsed_time = end_time - start_time\n",
    "print('Tiempo estimado de entrenamiento (min):', np.around(elapsed_time/60))"
   ]
  },
  {
   "cell_type": "markdown",
   "metadata": {
    "id": "8yV9k6-xQLsa"
   },
   "source": [
    "#### Entrenamiento y evaluación del modelo y tiempo de ejecución\n",
    "\n",
    "> ##### Entrenamiento: validando con el conjunto de test\n",
    "> ##### Evaluación del modelo para el conjunto de test\n",
    "> ##### Tiempo de ejecución"
   ]
  },
  {
   "cell_type": "code",
   "execution_count": 29,
   "metadata": {
    "colab": {
     "base_uri": "https://localhost:8080/"
    },
    "id": "az-hMEwn5caV",
    "outputId": "a2e59559-a182-487f-e23b-99e5ce534336"
   },
   "outputs": [
    {
     "name": "stdout",
     "output_type": "stream",
     "text": [
      "Epoch 1/2\n",
      "4/4 - 11s - loss: 1.5865 - accuracy: 0.2925 - val_loss: 1.5681 - val_accuracy: 0.2300 - 11s/epoch - 3s/step\n",
      "Epoch 2/2\n",
      "4/4 - 10s - loss: 1.5465 - accuracy: 0.2650 - val_loss: 1.5573 - val_accuracy: 0.2800 - 10s/epoch - 3s/step\n"
     ]
    },
    {
     "name": "stderr",
     "output_type": "stream",
     "text": [
      "WARNING:absl:Found untraced functions such as _jit_compiled_convolution_op, _jit_compiled_convolution_op while saving (showing 2 of 2). These functions will not be directly callable after loading.\n"
     ]
    },
    {
     "name": "stdout",
     "output_type": "stream",
     "text": [
      "INFO:tensorflow:Assets written to: /tmp/tmp5fv0zvo_/model/data/model/assets\n"
     ]
    },
    {
     "name": "stderr",
     "output_type": "stream",
     "text": [
      "INFO:tensorflow:Assets written to: /tmp/tmp5fv0zvo_/model/data/model/assets\n"
     ]
    },
    {
     "name": "stdout",
     "output_type": "stream",
     "text": [
      "4/4 - 1s - loss: 1.5573 - accuracy: 0.2800 - 553ms/epoch - 138ms/step\n",
      "Test loss: 1.5572630167007446\n",
      "Test accuracy: 0.2800000011920929\n"
     ]
    }
   ],
   "source": [
    "import time\n",
    "\n",
    "start_time = time.time()\n",
    "\n",
    "model.fit(X_train, y_train,\n",
    "          batch_size = batch_size,\n",
    "          epochs = epochs,\n",
    "          verbose=2,      # visualización del progreso de entrenamiento\n",
    "          validation_data=(X_test, y_test))\n",
    "score = model.evaluate(X_test, y_test, verbose=2)\n",
    "print('Test loss: {}'.format(score[0]))\n",
    "print('Test accuracy: {}'.format(score[1]))\n",
    "\n",
    "elapsed_time = time.time() - start_time"
   ]
  },
  {
   "cell_type": "code",
   "execution_count": 30,
   "metadata": {
    "colab": {
     "base_uri": "https://localhost:8080/"
    },
    "id": "PhuiJw9T7FF9",
    "outputId": "4f6b7f34-0d55-480d-cc95-73626b095cce"
   },
   "outputs": [
    {
     "name": "stdout",
     "output_type": "stream",
     "text": [
      "Tiempo estimado de entrenamiento (min): -0.0\n"
     ]
    }
   ],
   "source": [
    "# Tiempo de entrenmiento\n",
    "elapsed_time = end_time - start_time\n",
    "print('Tiempo estimado de entrenamiento (min):', np.around(elapsed_time/60))"
   ]
  },
  {
   "cell_type": "markdown",
   "metadata": {
    "id": "R1V6l4iPaVDN"
   },
   "source": [
    "#### Predecimos el conjunto de TEST con el modelo que hemos diseñado \n",
    "\n",
    "##### np.newaxis simplemente aumenta una dimensión a la matriz de la imagen"
   ]
  },
  {
   "cell_type": "code",
   "execution_count": 31,
   "metadata": {
    "id": "d-a6Bqq4Rj6m"
   },
   "outputs": [
    {
     "name": "stdout",
     "output_type": "stream",
     "text": [
      "1/1 [==============================] - 0s 84ms/step\n"
     ]
    }
   ],
   "source": [
    "pred = model.predict(X_test[np.newaxis,1])"
   ]
  },
  {
   "cell_type": "code",
   "execution_count": 32,
   "metadata": {
    "colab": {
     "base_uri": "https://localhost:8080/"
    },
    "id": "6CXyqA0jRs8T",
    "outputId": "0bd3bdd6-6ebe-48ad-bfa0-e7580f3fbde6"
   },
   "outputs": [
    {
     "data": {
      "text/plain": [
       "array([[0.19760773, 0.20281932, 0.20115864, 0.19788215, 0.2005322 ]],\n",
       "      dtype=float32)"
      ]
     },
     "execution_count": 32,
     "metadata": {},
     "output_type": "execute_result"
    }
   ],
   "source": [
    "pred"
   ]
  },
  {
   "cell_type": "code",
   "execution_count": 33,
   "metadata": {
    "id": "Y68G-B-mRw1D"
   },
   "outputs": [],
   "source": [
    "prediccion = pred.argmax(axis=1)"
   ]
  },
  {
   "cell_type": "code",
   "execution_count": 34,
   "metadata": {
    "colab": {
     "base_uri": "https://localhost:8080/",
     "height": 282
    },
    "id": "B5dR0V_AR7v8",
    "outputId": "5168cb1d-f930-4b15-8ad5-fa3b8437e2b6"
   },
   "outputs": [
    {
     "name": "stdout",
     "output_type": "stream",
     "text": [
      "La predicción es: inside\n"
     ]
    },
    {
     "data": {
      "image/png": "[encoded data removed]",
      "text/plain": [
       "<Figure size 640x480 with 1 Axes>"
      ]
     },
     "metadata": {},
     "output_type": "display_data"
    }
   ],
   "source": [
    "print('La predicción es: {}'.format(categories[prediccion[0]]))  # tiene la posición de la clase que ha tenido mayor probabilidad\n",
    "img = (X_test[1]*255).reshape((100,100,3)).astype('uint8')\n",
    "plt.imshow(img)\n",
    "plt.show()"
   ]
  },
  {
   "cell_type": "code",
   "execution_count": 35,
   "metadata": {},
   "outputs": [],
   "source": [
    "# terminar Run MLflow\n",
    "mlflow.end_run()"
   ]
  },
  {
   "cell_type": "markdown",
   "metadata": {},
   "source": [
    "# mflow ui\n",
    "## Experimento y run"
   ]
  },
  {
   "cell_type": "markdown",
   "metadata": {},
   "source": [
    "![flow ui](img/screenshot.JPG)"
   ]
  },
  {
   "cell_type": "markdown",
   "metadata": {},
   "source": [
    "## Información logueada (parámetros, modelos, etc.)\n",
    "\n",
    "![mflow ui](img/screenshot2.JPG)"
   ]
  },
  {
   "cell_type": "code",
   "execution_count": null,
   "metadata": {},
   "outputs": [],
   "source": []
  }
 ],
 "metadata": {
  "colab": {
   "collapsed_sections": [],
   "name": "Workshop_Ejercicio_1__MNIST_RESUELTO.ipynb",
   "provenance": []
  },
  "kernelspec": {
   "display_name": "Python 3 (ipykernel)",
   "language": "python",
   "name": "python3"
  },
  "language_info": {
   "codemirror_mode": {
    "name": "ipython",
    "version": 3
   },
   "file_extension": ".py",
   "mimetype": "text/x-python",
   "name": "python",
   "nbconvert_exporter": "python",
   "pygments_lexer": "ipython3",
   "version": "3.8.10"
  }
 },
 "nbformat": 4,
 "nbformat_minor": 1
}
