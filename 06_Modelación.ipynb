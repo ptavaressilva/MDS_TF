{
 "cells": [
  {
   "cell_type": "markdown",
   "id": "3c71679f",
   "metadata": {},
   "source": [
    "# Preparación para el TF MDS\n",
    "\n",
    "## Modelación\n",
    "\n",
    "Dataset: https://www.yelp.com/dataset/documentation/main\n",
    "\n",
    "**Requiere ejecución prévia del notebook 05_preparación_para_transformer.ipynb** para recortar las fotos al formato PNG con 224 x 224 y organizarlas en carpetas.\n",
    "\n",
    "Se utiliza la versión [vit-base-patch16-224-in21k](https://huggingface.co/google/vit-base-patch16-224-in21k) del transformer **Transformer ViT**, ya pré-entrenado con 14 millones de imagenes en 21.843 clases.\n",
    "\n",
    "Se tunea el modelo pré-entrenado con nuestro dataset de imagenes y clases."
   ]
  },
  {
   "cell_type": "code",
   "execution_count": 3,
   "id": "2600cd85",
   "metadata": {},
   "outputs": [],
   "source": [
    "!run_image_classification.py --train_dir dataset/photos_transformer --output_dir ./outputs/ --remove_unused_columns False --do_train --do_eval"
   ]
  },
  {
   "cell_type": "markdown",
   "id": "cbb4d5b5",
   "metadata": {},
   "source": [
    "Referencias:\n",
    "- [Tutorial DeiT](https://pytorch.org/tutorials/beginner/vt_tutorial.html)\n",
    "- [Tutorial distributed PyTorch](https://theaisummer.com/distributed-training-pytorch/) / [GIT](https://github.com/The-AI-Summer/pytorch-ddp/blob/main/train_ddp_mixed_presicion.py)\n",
    "- [Tutorial tuneo transformers](https://huggingface.co/docs/transformers/main/en/training#finetune-with-trainer)\n",
    "- `pip install git+https://github.com/huggingface/transformers` (4.22.0.dev0)\n",
    "- `pip install datasets`\n",
    "- `pip install evaluate`\n",
    "- [PyPi Transformers](https://pypi.org/project/transformers/)\n",
    "- [Modelo DeiT](https://huggingface.co/facebook/deit-small-distilled-patch16-224) y su [documentación](https://huggingface.co/docs/transformers/main/en/model_doc/deit#overview)   "
   ]
  },
  {
   "cell_type": "code",
   "execution_count": 1,
   "id": "5e358bbe",
   "metadata": {},
   "outputs": [
    {
     "ename": "SyntaxError",
     "evalue": "invalid syntax (2559698870.py, line 3)",
     "output_type": "error",
     "traceback": [
      "\u001b[0;36m  Input \u001b[0;32mIn [1]\u001b[0;36m\u001b[0m\n\u001b[0;31m    apt install curl\u001b[0m\n\u001b[0m        ^\u001b[0m\n\u001b[0;31mSyntaxError\u001b[0m\u001b[0;31m:\u001b[0m invalid syntax\n"
     ]
    }
   ],
   "source": [
    "# configure GIT CLI to push to GitHub\n",
    "\n",
    "apt install curl\n",
    "curl -fsSL https://cli.github.com/packages/githubcli-archive-keyring.gpg | dd of=/usr/share/keyrings/githubcli-archive-keyring.gpg\n",
    "sudo chmod go+r /usr/share/keyrings/githubcli-archive-keyring.gpg\n",
    "echo \"deb [arch=$(dpkg --print-architecture) signed-by=/usr/share/keyrings/githubcli-archive-keyring.gpg] https://cli.github.com/packages stable main\" | tee /etc/apt/sources.list.d/github-cli.list > /dev/null\n",
    "apt update\n",
    "apt install gh"
   ]
  },
  {
   "cell_type": "code",
   "execution_count": null,
   "id": "2f60810c",
   "metadata": {},
   "outputs": [],
   "source": []
  }
 ],
 "metadata": {
  "kernelspec": {
   "display_name": "Python 3 (ipykernel)",
   "language": "python",
   "name": "python3"
  },
  "language_info": {
   "codemirror_mode": {
    "name": "ipython",
    "version": 3
   },
   "file_extension": ".py",
   "mimetype": "text/x-python",
   "name": "python",
   "nbconvert_exporter": "python",
   "pygments_lexer": "ipython3",
   "version": "3.8.10"
  }
 },
 "nbformat": 4,
 "nbformat_minor": 5
}
