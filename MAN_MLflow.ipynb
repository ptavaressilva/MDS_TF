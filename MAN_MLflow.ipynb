{
 "cells": [
  {
   "cell_type": "markdown",
   "id": "32d7f91c",
   "metadata": {},
   "source": [
    "# MLflow setup\n",
    "\n",
    "**MFflow Tracking** permite organizar la información de los entrenamientos de modelos, con total trazabilidad de modelos, parámetros, métricas, ficheros, etc.\n",
    "\n",
    "MFflow Tracking guarda información en una carpeta local. En usa empresa se usaría el módulo **MLflow Registry** como un repositório central de modelos, para que otros miembros del equipo tuvieran acceso a los modelos entrenados y guardados en ese Registry.\n",
    "\n",
    "![Uso local de MLflow](img/mlflow_localhost.png)\n",
    "\n",
    "MLflow Tracking crea dos instancias:\n",
    "- LocalArtifactRepository (para guardar artifacts)\n",
    "- FileStore (para guardar entities)\n",
    "\n",
    "## Conceptos\n",
    "- **run** corresponde a la ejecución de código de data science. Para  cada run ser registra:\n",
    " - commit del código (git)\n",
    " - hora de inicio y fin del run\n",
    " - source (fichero o nombre del proyecto MLflow que dispara el run)\n",
    " - parámetros (tanto los del modelo como los definidos por nosotros)\n",
    " - métricas\n",
    " - artefactos (cualquier fichero que querramos, por ej. ficheros de salida, modelos, etc.)\n",
    "\n",
    "Se pueden crear **experiments** (opcional), que agrupan runs que ejecutamos para una tarea concreta."
   ]
  },
  {
   "cell_type": "markdown",
   "id": "986ad611",
   "metadata": {},
   "source": [
    "## Instalación"
   ]
  },
  {
   "cell_type": "code",
   "execution_count": 1,
   "id": "8b668d36",
   "metadata": {},
   "outputs": [],
   "source": [
    "# !pip install mlflow"
   ]
  },
  {
   "cell_type": "markdown",
   "id": "df9ad2af",
   "metadata": {},
   "source": [
    "## Interfaz grafico"
   ]
  },
  {
   "cell_type": "markdown",
   "id": "028f039c",
   "metadata": {},
   "source": [
    "### Instalación\n",
    "Para activar el interfaz grafico se usa el comando `mlflow ui` (en el terminal del contenedor).\n",
    "\n",
    "La versión anterior del script de arranque del contenedor (en `/env/start.sh`) no exponía el puerto 5000.\n",
    "\n",
    "#### Si el contenedor Docker nunca ha sido arrancado\n",
    "\n",
    "Usar contenedores requiere Docker Desktop instalado en la máquina (host).\n",
    "\n",
    "1. En la línea de comando, arrancar el contenedor con el comando `./env/start.sh`\n",
    "2. Abrir un terminal en el contenedor con el comando `docker exec -it ds-TF_MDS /bin/bash`\n",
    "3. En el terminal del contenedor, arrancar el frontal de MLflow con el comando `mlflow ui`\n",
    "4. En el host abrir un navegador e ir a `http://localhost:5050` (o `http://127.0.0.1:5050`)\n",
    "\n",
    "#### Si el contenedor Docker ya había arrancado anteriormente\n",
    "\n",
    "1. Guardar todos los nobebooks y scripts Python abiertos en el contenedor\n",
    "2. Parar y eliminar contenedor `docker rm -f ds-TF_MDS` (solo se pierden las librerías que habíamos instalado manualmente en el contenedor)\n",
    "3. Seguir los pasos arriba"
   ]
  },
  {
   "cell_type": "markdown",
   "id": "59291fec",
   "metadata": {},
   "source": [
    "### Visualizar métricas\n",
    "- [documentación](https://mlflow.org/docs/latest/tracking.html#visualizing-metrics)\n",
    "- Acceso al [interfaz grafico](http://127.0.0.1:5050) de MLflow (botón derecho > abrir en nueva pestaña)\n",
    "\n",
    "![Visualizar métricas en el ui](img/metrics-step.png)"
   ]
  },
  {
   "cell_type": "markdown",
   "id": "efddfa13",
   "metadata": {},
   "source": [
    "## Experimentos"
   ]
  },
  {
   "cell_type": "markdown",
   "id": "fe4bfd1e",
   "metadata": {},
   "source": [
    "### Crear un experimento"
   ]
  },
  {
   "cell_type": "code",
   "execution_count": null,
   "id": "a4ad9f72",
   "metadata": {},
   "outputs": [],
   "source": [
    "import mlflow\n",
    "from pathlib import Path\n",
    "\n",
    "# Create an experiment name, which must be unique and case sensitive\n",
    "experiment_id = mlflow.create_experiment(\n",
    "    \"Entrenamiento de CNN\",\n",
    "    artifact_location=Path.cwd().joinpath(\"mlruns\").as_uri(),\n",
    "    tags={\"version\": \"v1\", \"priority\": \"P1\"},\n",
    ")\n",
    "experiment = mlflow.get_experiment(experiment_id)"
   ]
  },
  {
   "cell_type": "markdown",
   "id": "e0923184",
   "metadata": {},
   "source": [
    "### Taguear experimento"
   ]
  },
  {
   "cell_type": "code",
   "execution_count": null,
   "id": "a3de5441",
   "metadata": {},
   "outputs": [],
   "source": [
    "# un solo tag\n",
    "mlflow.set_experiment_tag(\"release.version\", # tag name\n",
    "                          \"2.2.0\") # tag value\n",
    "\n",
    "# más de uno\n",
    "tags = {\"engineering\": \"ML Platform\",\n",
    "        \"release.candidate\": \"RC1\",\n",
    "        \"release.version\": \"2.2.0\"}\n",
    "mlflow.set_experiment_tags(tags)"
   ]
  },
  {
   "cell_type": "markdown",
   "id": "cb4152b8",
   "metadata": {},
   "source": [
    "### Eliminar experimento"
   ]
  },
  {
   "cell_type": "code",
   "execution_count": null,
   "id": "45a9c4a8",
   "metadata": {},
   "outputs": [],
   "source": [
    "mlflow.delete_experiment(experiment_id)\n",
    "\n",
    "# Examine the deleted experiment details.\n",
    "experiment = mlflow.get_experiment(experiment_id)\n",
    "print(\"Name: {}\".format(experiment.name))\n",
    "print(\"Artifact Location: {}\".format(experiment.artifact_location))\n",
    "print(\"Lifecycle_stage: {}\".format(experiment.lifecycle_stage))"
   ]
  },
  {
   "cell_type": "markdown",
   "id": "e857fa7f",
   "metadata": {},
   "source": [
    "### Listar experimentos"
   ]
  },
  {
   "cell_type": "code",
   "execution_count": null,
   "id": "05c755a7",
   "metadata": {},
   "outputs": [],
   "source": [
    "mlflow.list_experiments()"
   ]
  },
  {
   "cell_type": "markdown",
   "id": "7e88219c",
   "metadata": {},
   "source": [
    "## Runs"
   ]
  },
  {
   "cell_type": "markdown",
   "id": "3354c406",
   "metadata": {},
   "source": [
    "### Crear run"
   ]
  },
  {
   "cell_type": "code",
   "execution_count": null,
   "id": "23cf9f91",
   "metadata": {},
   "outputs": [],
   "source": [
    "import mlflow\n",
    "\n",
    "with mlflow.start_run(\n",
    "    run_name=\"PARENT_RUN\", # solo si no indicamos run_id\n",
    "    experiment_id=experiment_id,\n",
    "    tags={\"version\": \"v1\", \"priority\": \"P1\"},\n",
    "    description=\"parent\",\n",
    ") as run:\n",
    "    # modedelar y loguear"
   ]
  },
  {
   "cell_type": "markdown",
   "id": "314f14a7",
   "metadata": {},
   "source": [
    "### Reanudar run"
   ]
  },
  {
   "cell_type": "code",
   "execution_count": null,
   "id": "3148954e",
   "metadata": {},
   "outputs": [],
   "source": [
    "with mlflow.start_run(\n",
    "    run_id=run_id # obtenido con run.info.run_id\n",
    ") as run:\n",
    "    # modedelar y loguear"
   ]
  },
  {
   "cell_type": "markdown",
   "id": "6407274a",
   "metadata": {},
   "source": [
    "### Taguear run\n",
    "**Atención:** si no hay run en curso, crea uno."
   ]
  },
  {
   "cell_type": "code",
   "execution_count": null,
   "id": "b868f190",
   "metadata": {},
   "outputs": [],
   "source": [
    "# uno\n",
    "mlflow.set_tag(\"release.version\", \"2.2.0\")\n",
    "\n",
    "# más de uno\n",
    "tags = {\"engineering\": \"ML Platform\",\n",
    "        \"release.candidate\": \"RC1\",\n",
    "        \"release.version\": \"2.2.0\"}\n",
    "mlflow.set_tags(tags)"
   ]
  },
  {
   "cell_type": "markdown",
   "id": "95973ec6",
   "metadata": {},
   "source": [
    "### Ver info del run"
   ]
  },
  {
   "cell_type": "code",
   "execution_count": null,
   "id": "d0671c6b",
   "metadata": {},
   "outputs": [],
   "source": [
    "run_id = run.info.run_id\n",
    "run = mlflow.active_run()\n",
    "print(\"run_id: {}; status: {}\".format(run.info.run_id, run.info.status))"
   ]
  },
  {
   "cell_type": "markdown",
   "id": "6582b2a4",
   "metadata": {},
   "source": [
    "### Terminar run"
   ]
  },
  {
   "cell_type": "code",
   "execution_count": null,
   "id": "271e275d",
   "metadata": {},
   "outputs": [],
   "source": [
    "mlflow.end_run()\n",
    "run = mlflow.get_run(run.info.run_id)\n",
    "print(\"run_id: {}; status: {}\".format(run.info.run_id, run.info.status))\n",
    "print(\"--\")\n",
    "\n",
    "# Check for any active runs\n",
    "print(\"Active run: {}\".format(mlflow.active_run()))"
   ]
  },
  {
   "cell_type": "markdown",
   "id": "572958e7",
   "metadata": {},
   "source": [
    "### Ver información de los runs"
   ]
  },
  {
   "cell_type": "code",
   "execution_count": null,
   "id": "304a3580",
   "metadata": {},
   "outputs": [],
   "source": [
    "print_run_infos(mlflow.list_run_infos(\"0\", run_view_type=ViewType.ALL))"
   ]
  },
  {
   "cell_type": "markdown",
   "id": "5f074025",
   "metadata": {},
   "source": [
    "### Apagar run"
   ]
  },
  {
   "cell_type": "code",
   "execution_count": null,
   "id": "f8b5a936",
   "metadata": {},
   "outputs": [],
   "source": [
    "mlflow.delete_run(run_id)\n",
    "\n",
    "print(\"run_id: {}; lifecycle_stage: {}\".format(run_id,\n",
    "    mlflow.get_run(run_id).info.lifecycle_stage))"
   ]
  },
  {
   "cell_type": "markdown",
   "id": "396b9217",
   "metadata": {},
   "source": [
    "## Logging"
   ]
  },
  {
   "cell_type": "markdown",
   "id": "673494d3",
   "metadata": {},
   "source": [
    "### Auto-logging\n",
    "\n",
    "Loguea información automaticamente, en función de la librería de modelación que estemos utilizando.\n",
    "\n",
    "Atualmente soporta:\n",
    "- Scikit-learn\n",
    "- TensorFlow\n",
    "- Keras\n",
    "- Gluon\n",
    "- XGBoost\n",
    "- LightGBM\n",
    "- Statsmodels\n",
    "- Spark\n",
    "- Fastai\n",
    "- Pytorch"
   ]
  },
  {
   "cell_type": "code",
   "execution_count": null,
   "id": "0ec224cb",
   "metadata": {},
   "outputs": [],
   "source": [
    "# a continuación se indican valores por defecto para el autolog genérico\n",
    "mlflow.autolog(log_input_examples = False, # guardar ejemplos (si el modelo así lo contempla - p.ej. en transformers)\n",
    "               log_model_signatures = True,# signatures son descripciones de las entradas y salidas del modelo model\n",
    "                                           # durante entrenamiento. Solo se generan si log_models = True\n",
    "               log_models = True, # guarda modelo como artefacto\n",
    "               disable = False, # activa auto logging (True desactiva)\n",
    "               exclusive = False, # no loguea \"user-created fluent runs\" (?)\n",
    "               disable_for_unsupported_versions = False, # solo auto-loguea librerías soportadas\n",
    "               silent = False) # incluir event logs y warnings en el log (True excluye)"
   ]
  },
  {
   "cell_type": "markdown",
   "id": "475369ed",
   "metadata": {},
   "source": [
    "#### Autolog con Keras\n",
    "- [Documentación](https://mlflow.org/docs/latest/tracking.html#tensorflow-and-keras)\n",
    "\n",
    "Se guardan:\n",
    " - **Métricas:**\n",
    "   - Training loss, validation loss y métricas definidas por el usuario.\n",
    "   - Métricas de EarlyStopping. Por ejemplo: stopped_epoch, restored_epoch, restore_best_weight, etc.\n",
    " - **Parámetros:**\n",
    "   - paámetros de fit(), nombre del optimizador, learning rate y epsilon.\n",
    "   - Parámetros asoociados al EarlyStopping. Por ejemplo: min_delta, patience, baseline, restore_best_weights, etc.\n",
    " - **Modelo:**\n",
    "   - summary del modelo MLflow (modelo Keras) al iniciar y al terminar el entrenamiento"
   ]
  },
  {
   "cell_type": "code",
   "execution_count": null,
   "id": "ff8fda30",
   "metadata": {},
   "outputs": [],
   "source": [
    "# Meter antes del cógido del modelo, para loguear automaticamente las métricas y parámetros\n",
    "mlflow.tensorflow.autolog()"
   ]
  },
  {
   "cell_type": "markdown",
   "id": "2f1a2f4f",
   "metadata": {},
   "source": [
    "### Loguear artefactos (ficheros)"
   ]
  },
  {
   "cell_type": "code",
   "execution_count": null,
   "id": "402a394e",
   "metadata": {},
   "outputs": [],
   "source": [
    "# ejemplo para loguear ficheros en /data\n",
    "mlflow.log_artifacts(\"data\", # carpeta local donde están los ficheros a loguear\n",
    "                     artifact_path=\"states\") # (opcional) carpeta dentro de artifact_uri en que se guardarán los ficheros"
   ]
  },
  {
   "cell_type": "markdown",
   "id": "b069f0df",
   "metadata": {},
   "source": [
    "### Loguear dicionario"
   ]
  },
  {
   "cell_type": "code",
   "execution_count": null,
   "id": "dda3f6d4",
   "metadata": {},
   "outputs": [],
   "source": [
    "dictionary = {\"k\": \"v\"}\n",
    "# Log a dictionary as a JSON file under the run's root artifact directory\n",
    "mlflow.log_dict(dictionary, \"data.json\")"
   ]
  },
  {
   "cell_type": "markdown",
   "id": "6b82f51d",
   "metadata": {},
   "source": [
    "### Loguear figura"
   ]
  },
  {
   "cell_type": "code",
   "execution_count": null,
   "id": "25d145f4",
   "metadata": {},
   "outputs": [],
   "source": [
    "import matplotlib.pyplot as plt\n",
    "fig, ax = plt.subplots()\n",
    "ax.plot([0, 1], [2, 3])\n",
    "\n",
    "mlflow.log_figure(fig, \"figure.png\")"
   ]
  },
  {
   "cell_type": "markdown",
   "id": "2fba2eb3",
   "metadata": {},
   "source": [
    "### Loguear imagen (ndarray o PIL)\n",
    "**Atención:** limita interos en [0, 255] y float en [0, 1]. Valores menores/mayores son ajustados y los demás no cambian, por lo que puede introdución una reducción de la escala dinámica de las fotos."
   ]
  },
  {
   "cell_type": "code",
   "execution_count": null,
   "id": "be17be5d",
   "metadata": {},
   "outputs": [],
   "source": [
    "mlflow.log_image(image, \"image.png\")"
   ]
  },
  {
   "cell_type": "markdown",
   "id": "1db4b72b",
   "metadata": {},
   "source": [
    "### Loguear métricas"
   ]
  },
  {
   "cell_type": "code",
   "execution_count": null,
   "id": "2405b1ca",
   "metadata": {},
   "outputs": [],
   "source": [
    "# una\n",
    "mlflow.log_metric(\"mse\", # nombre de la métrica\n",
    "                  2500.00) # valor\n",
    "\n",
    "# más de una\n",
    "metrics = {\"mse\": 2500.00,\n",
    "           \"rmse\": 50.00}\n",
    "mlflow.log_metrics(metrics)"
   ]
  },
  {
   "cell_type": "markdown",
   "id": "ab020bb4",
   "metadata": {},
   "source": [
    "### Loguear parámetros\n",
    "**Atención:** si no hay run en curso, crea uno."
   ]
  },
  {
   "cell_type": "code",
   "execution_count": null,
   "id": "607903d8",
   "metadata": {},
   "outputs": [],
   "source": [
    "# uno\n",
    "mlflow.log_param(\"learning_rate\", # key\n",
    "                 0.01) # value\n",
    "\n",
    "# más de uno\n",
    "params = {\"learning_rate\": 0.01, \"n_estimators\": 10}\n",
    "mlflow.log_params(params)"
   ]
  },
  {
   "cell_type": "markdown",
   "id": "fb36c629",
   "metadata": {},
   "source": [
    "### Loguear texto en un fichero (artefacto)"
   ]
  },
  {
   "cell_type": "code",
   "execution_count": null,
   "id": "69cc602b",
   "metadata": {},
   "outputs": [],
   "source": [
    "mlflow.log_text(\"text1\", # texto\n",
    "                \"file1.txt\") # artefacto, en la carpeta de artefactos del run"
   ]
  },
  {
   "cell_type": "markdown",
   "id": "72e13007",
   "metadata": {},
   "source": [
    "## Interfaz grafico\n",
    "### Runs de un experimento\n",
    "![Runs de experimento](img/screenshot.JPG)]"
   ]
  },
  {
   "cell_type": "markdown",
   "id": "f91932d8",
   "metadata": {},
   "source": [
    "## Parámetros, métricas y artefactos de un run\n",
    "\n",
    "![Items logueados](img/screenshot2.JPG)"
   ]
  }
 ],
 "metadata": {
  "kernelspec": {
   "display_name": "Python 3 (ipykernel)",
   "language": "python",
   "name": "python3"
  },
  "language_info": {
   "codemirror_mode": {
    "name": "ipython",
    "version": 3
   },
   "file_extension": ".py",
   "mimetype": "text/x-python",
   "name": "python",
   "nbconvert_exporter": "python",
   "pygments_lexer": "ipython3",
   "version": "3.8.10"
  }
 },
 "nbformat": 4,
 "nbformat_minor": 5
}
