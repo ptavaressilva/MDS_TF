{
 "cells": [
  {
   "cell_type": "markdown",
   "id": "d330b941",
   "metadata": {},
   "source": [
    "# Preparación para el TF MDS\n",
    "\n",
    "## Preparación de los datos\n",
    "### Creación de un dataset muy pequeño (toy dataset) para facilitar el diseño del modelo\n",
    "\n",
    "Dataset: https://www.yelp.com/dataset/documentation/main\n",
    "\n",
    "Extraer fotos del RAR en /dataset/photos.\n",
    "\n",
    "Requiere ejecución prévia del notebook 00_EDA."
   ]
  },
  {
   "cell_type": "code",
   "execution_count": 20,
   "id": "9cffd6bb",
   "metadata": {},
   "outputs": [],
   "source": [
    "import pandas as pd\n",
    "from PIL import Image\n",
    "import math\n",
    "import numpy as np\n",
    "import pickle\n",
    "from tqdm.notebook import trange, tqdm\n",
    "import torchvision.transforms as T\n",
    "import matplotlib.pyplot as plt"
   ]
  },
  {
   "cell_type": "code",
   "execution_count": 34,
   "id": "4be2d636",
   "metadata": {},
   "outputs": [],
   "source": [
    "SUBSET_SIZE = 500\n",
    "PHOTO_SIZE = 224.0 # De cara a usar transformer 224x224\n",
    "FOLDER = 'photos_transformer' # output folder, inside /dataset"
   ]
  },
  {
   "cell_type": "code",
   "execution_count": 35,
   "id": "4fa0c204",
   "metadata": {},
   "outputs": [],
   "source": [
    "# cargar listado de fotos con dimensiones > 224 x 224\n",
    "photo_data = pickle.load(open('checkpoints/df5.pkl','rb'))"
   ]
  },
  {
   "cell_type": "markdown",
   "id": "ee758302",
   "metadata": {},
   "source": [
    "Vamos crear un sub-dataset con SUBSET_SIZE fotos de cada etiqueta"
   ]
  },
  {
   "cell_type": "code",
   "execution_count": 36,
   "id": "97f9e70c",
   "metadata": {},
   "outputs": [
    {
     "data": {
      "text/html": [
       "<div>\n",
       "<style scoped>\n",
       "    .dataframe tbody tr th:only-of-type {\n",
       "        vertical-align: middle;\n",
       "    }\n",
       "\n",
       "    .dataframe tbody tr th {\n",
       "        vertical-align: top;\n",
       "    }\n",
       "\n",
       "    .dataframe thead th {\n",
       "        text-align: right;\n",
       "    }\n",
       "</style>\n",
       "<table border=\"1\" class=\"dataframe\">\n",
       "  <thead>\n",
       "    <tr style=\"text-align: right;\">\n",
       "      <th></th>\n",
       "      <th>photo_id</th>\n",
       "      <th>label</th>\n",
       "      <th>x_dim</th>\n",
       "      <th>y_dim</th>\n",
       "      <th>z_channels</th>\n",
       "      <th>pixels</th>\n",
       "      <th>drink</th>\n",
       "      <th>food</th>\n",
       "      <th>inside</th>\n",
       "      <th>menu</th>\n",
       "      <th>outside</th>\n",
       "    </tr>\n",
       "  </thead>\n",
       "  <tbody>\n",
       "    <tr>\n",
       "      <th>0</th>\n",
       "      <td>--0h6FMC0V8aMtKQylojEg</td>\n",
       "      <td>inside</td>\n",
       "      <td>400.0</td>\n",
       "      <td>300.0</td>\n",
       "      <td>3.0</td>\n",
       "      <td>120000.0</td>\n",
       "      <td>0.0</td>\n",
       "      <td>0.0</td>\n",
       "      <td>1.0</td>\n",
       "      <td>0.0</td>\n",
       "      <td>0.0</td>\n",
       "    </tr>\n",
       "    <tr>\n",
       "      <th>1</th>\n",
       "      <td>--3JQ4MlO-jHT9xbo7liug</td>\n",
       "      <td>food</td>\n",
       "      <td>400.0</td>\n",
       "      <td>400.0</td>\n",
       "      <td>3.0</td>\n",
       "      <td>160000.0</td>\n",
       "      <td>0.0</td>\n",
       "      <td>1.0</td>\n",
       "      <td>0.0</td>\n",
       "      <td>0.0</td>\n",
       "      <td>0.0</td>\n",
       "    </tr>\n",
       "  </tbody>\n",
       "</table>\n",
       "</div>"
      ],
      "text/plain": [
       "                 photo_id   label  x_dim  y_dim  z_channels    pixels  drink  \\\n",
       "0  --0h6FMC0V8aMtKQylojEg  inside  400.0  300.0         3.0  120000.0    0.0   \n",
       "1  --3JQ4MlO-jHT9xbo7liug    food  400.0  400.0         3.0  160000.0    0.0   \n",
       "\n",
       "   food  inside  menu  outside  \n",
       "0   0.0     1.0   0.0      0.0  \n",
       "1   1.0     0.0   0.0      0.0  "
      ]
     },
     "execution_count": 36,
     "metadata": {},
     "output_type": "execute_result"
    }
   ],
   "source": [
    "photo_data.head(2)"
   ]
  },
  {
   "cell_type": "code",
   "execution_count": 37,
   "id": "8d64b176",
   "metadata": {},
   "outputs": [
    {
     "data": {
      "text/plain": [
       "food       106262\n",
       "inside      55214\n",
       "outside     18189\n",
       "drink       15412\n",
       "menu         1583\n",
       "Name: label, dtype: int64"
      ]
     },
     "execution_count": 37,
     "metadata": {},
     "output_type": "execute_result"
    }
   ],
   "source": [
    "total_photos = photo_data.label.value_counts()\n",
    "total_photos"
   ]
  },
  {
   "cell_type": "code",
   "execution_count": 38,
   "id": "2d590a43",
   "metadata": {},
   "outputs": [],
   "source": [
    "df_subset = pd.DataFrame([], columns=['photo_id',\n",
    "                                        'label',\n",
    "                                        'x_dim', \n",
    "                                        'y_dim', \n",
    "                                        'z_channels', \n",
    "                                        'pixels', \n",
    "                                        'drink',\n",
    "                                        'food',\n",
    "                                        'inside',\n",
    "                                        'menu',\n",
    "                                        'outside'])"
   ]
  },
  {
   "cell_type": "code",
   "execution_count": 39,
   "id": "aaaafc76",
   "metadata": {},
   "outputs": [],
   "source": [
    "for label in total_photos.index:\n",
    "    if total_photos[label] > SUBSET_SIZE: # take sample of photos\n",
    "        df_subset = pd.concat([df_subset,\n",
    "                               photo_data.loc[photo_data.label == label].sample(n=SUBSET_SIZE)])\n",
    "    else: # keep all photos\n",
    "        df_subset = pd.concat([df_subset,\n",
    "                               photo_data.loc[photo_data.label == label]])"
   ]
  },
  {
   "cell_type": "code",
   "execution_count": 40,
   "id": "57e3754b",
   "metadata": {},
   "outputs": [
    {
     "data": {
      "text/plain": [
       "2500"
      ]
     },
     "execution_count": 40,
     "metadata": {},
     "output_type": "execute_result"
    }
   ],
   "source": [
    "len(df_subset)"
   ]
  },
  {
   "cell_type": "code",
   "execution_count": 41,
   "id": "f4712d10",
   "metadata": {},
   "outputs": [
    {
     "data": {
      "text/plain": [
       "food       500\n",
       "inside     500\n",
       "outside    500\n",
       "drink      500\n",
       "menu       500\n",
       "Name: label, dtype: int64"
      ]
     },
     "execution_count": 41,
     "metadata": {},
     "output_type": "execute_result"
    }
   ],
   "source": [
    "df_subset.label.value_counts()"
   ]
  },
  {
   "cell_type": "code",
   "execution_count": 42,
   "id": "e079c8e9",
   "metadata": {},
   "outputs": [],
   "source": [
    "pickle.dump(df_subset, open(\"checkpoints/df_subset.pkl\", \"wb\"))"
   ]
  },
  {
   "cell_type": "code",
   "execution_count": 43,
   "id": "da26f617",
   "metadata": {},
   "outputs": [],
   "source": [
    "# checkpoint\n",
    "df_subset = pickle.load(open(\"checkpoints/df_subset.pkl\",'rb'))"
   ]
  },
  {
   "cell_type": "markdown",
   "id": "a4143f6c",
   "metadata": {},
   "source": [
    "## Escalar, recortar y organizar las fotos del subset\n",
    "El transformer [requiere](https://github.com/huggingface/transformers/tree/main/examples/pytorch/image-classification#provide-them-as-folders)  que las imagenes sean PNG y estén organizadas en carpetas con el nombre de la etiqueta."
   ]
  },
  {
   "cell_type": "code",
   "execution_count": null,
   "id": "641c9c98",
   "metadata": {},
   "outputs": [],
   "source": [
    "# limpiar carpetas de salida\n",
    "# Si las carpetas están vacias presenta un error (ignorar en *ese* caso)\n",
    "! rm dataset/photos_transformer/drink/*\n",
    "! rm dataset/photos_transformer/food/*\n",
    "! rm dataset/photos_transformer/inside/*\n",
    "! rm dataset/photos_transformer/menu/*\n",
    "! rm dataset/photos_transformer/outside/*"
   ]
  },
  {
   "cell_type": "code",
   "execution_count": 45,
   "id": "d3e95f8f",
   "metadata": {},
   "outputs": [
    {
     "data": {
      "application/vnd.jupyter.widget-view+json": {
       "model_id": "2a33e2b5879e4e50be9f3f35d6b5a676",
       "version_major": 2,
       "version_minor": 0
      },
      "text/plain": [
       "Photos cropped:   0%|          | 0/2500 [00:00<?, ?it/s]"
      ]
     },
     "metadata": {},
     "output_type": "display_data"
    }
   ],
   "source": [
    "for img in tqdm(range(len(df_subset)), desc='Photos cropped', miniters=20):\n",
    "    \n",
    "    im = Image.open('dataset/photos/' + df_subset.iloc[img].photo_id + '.jpg')\n",
    "\n",
    "    # resize smallest dimension to PHOTO_SIZE\n",
    "    if (df_subset.iloc[img].y_dim < df_subset.iloc[img].x_dim): # imagen estrecha\n",
    "        width = int(PHOTO_SIZE)\n",
    "        height = math.floor(PHOTO_SIZE * df_subset.iloc[img].x_dim/df_subset.iloc[img].y_dim)\n",
    "    else: # imagen ancha\n",
    "        width = math.floor(PHOTO_SIZE * df_subset.iloc[img].y_dim/df_subset.iloc[img].x_dim)\n",
    "        height = int(PHOTO_SIZE)\n",
    "    \n",
    "    resized = T.Resize((height, width))(im)\n",
    "    cropped = T.CenterCrop(size=int(PHOTO_SIZE))(resized)\n",
    "    \n",
    "    cropped.save('dataset/{}/{}/{}.png'.format(FOLDER, df_subset.iloc[img].label, df_subset.iloc[img].photo_id))"
   ]
  }
 ],
 "metadata": {
  "kernelspec": {
   "display_name": "Python 3 (ipykernel)",
   "language": "python",
   "name": "python3"
  },
  "language_info": {
   "codemirror_mode": {
    "name": "ipython",
    "version": 3
   },
   "file_extension": ".py",
   "mimetype": "text/x-python",
   "name": "python",
   "nbconvert_exporter": "python",
   "pygments_lexer": "ipython3",
   "version": "3.8.10"
  }
 },
 "nbformat": 4,
 "nbformat_minor": 5
}
