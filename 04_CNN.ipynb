{
 "cells": [
  {
   "cell_type": "code",
   "execution_count": 68,
   "metadata": {
    "id": "wR5rF6WTMvFS"
   },
   "outputs": [],
   "source": [
    "import numpy as np\n",
    "import matplotlib.pyplot as plt\n",
    "import pandas as pd\n",
    "import pickle\n",
    "from keras import backend as K\n",
    "from keras.utils import np_utils\n",
    "from keras.models import Sequential\n",
    "from keras.layers import Dense, Dropout, Activation, Flatten, Convolution2D, Conv2D, MaxPooling2D\n",
    "from tensorflow import keras\n",
    "import time"
   ]
  },
  {
   "cell_type": "code",
   "execution_count": 2,
   "metadata": {
    "id": "VNoLG3HUM6BE"
   },
   "outputs": [
    {
     "name": "stderr",
     "output_type": "stream",
     "text": [
      "2022-08-29 16:57:31.908546: W tensorflow/stream_executor/platform/default/dso_loader.cc:64] Could not load dynamic library 'libcudart.so.11.0'; dlerror: libcudart.so.11.0: cannot open shared object file: No such file or directory\n",
      "2022-08-29 16:57:31.908596: I tensorflow/stream_executor/cuda/cudart_stub.cc:29] Ignore above cudart dlerror if you do not have a GPU set up on your machine.\n",
      "/usr/lib/python3/dist-packages/requests/__init__.py:89: RequestsDependencyWarning: urllib3 (1.26.11) or chardet (3.0.4) doesn't match a supported version!\n",
      "  warnings.warn(\"urllib3 ({}) or chardet ({}) doesn't match a supported \"\n"
     ]
    }
   ],
   "source": [
    "from keras import regularizers\n",
    "from keras.callbacks import EarlyStopping\n",
    "\n",
    "from IPython.display import display\n",
    "\n"
   ]
  },
  {
   "cell_type": "markdown",
   "metadata": {},
   "source": [
    "## Cargar flat toy dataset"
   ]
  },
  {
   "cell_type": "code",
   "execution_count": 4,
   "metadata": {},
   "outputs": [],
   "source": [
    "X_train = pickle.load(open('checkpoints/flat_toy_X_train.pkl','rb'))"
   ]
  },
  {
   "cell_type": "code",
   "execution_count": 5,
   "metadata": {},
   "outputs": [],
   "source": [
    "X_test = pickle.load(open('checkpoints/flat_toy_X_test.pkl','rb'))"
   ]
  },
  {
   "cell_type": "code",
   "execution_count": 37,
   "metadata": {},
   "outputs": [],
   "source": [
    "y_train = pickle.load(open('checkpoints/flat_toy_y_train.pkl','rb'))"
   ]
  },
  {
   "cell_type": "code",
   "execution_count": 38,
   "metadata": {},
   "outputs": [],
   "source": [
    "y_test = pickle.load(open('checkpoints/flat_toy_y_test.pkl','rb'))"
   ]
  },
  {
   "cell_type": "code",
   "execution_count": 73,
   "metadata": {},
   "outputs": [],
   "source": [
    "categories = pickle.load(open('checkpoints/flat_toy_categories.pkl','rb'))"
   ]
  },
  {
   "cell_type": "code",
   "execution_count": 12,
   "metadata": {
    "colab": {
     "base_uri": "https://localhost:8080/"
    },
    "executionInfo": {
     "elapsed": 492,
     "status": "ok",
     "timestamp": 1660656122248,
     "user": {
      "displayName": "Pedro Tavares Silva",
      "userId": "15176343071283963792"
     },
     "user_tz": -120
    },
    "id": "UAG_bHIspvTu",
    "outputId": "804add74-6311-4cd4-bc8e-0b7998d8392a"
   },
   "outputs": [
    {
     "name": "stdout",
     "output_type": "stream",
     "text": [
      "X_train: (400, 100, 100, 3)\n",
      "y_train: (400, 5)\n",
      "X_test: (100, 100, 100, 3)\n",
      "y_test: (100, 5)\n"
     ]
    }
   ],
   "source": [
    "print(\"X_train: {}\".format(X_train.shape))\n",
    "print(\"y_train: {}\".format(y_train.shape))\n",
    "print(\"X_test: {}\".format(X_test.shape))\n",
    "print(\"y_test: {}\".format(y_test.shape))"
   ]
  },
  {
   "cell_type": "markdown",
   "metadata": {
    "id": "xSNx3LptphXo"
   },
   "source": [
    "#### Visualizamos la imagen pixelada 28 x 28"
   ]
  },
  {
   "cell_type": "code",
   "execution_count": 14,
   "metadata": {
    "colab": {
     "base_uri": "https://localhost:8080/"
    },
    "executionInfo": {
     "elapsed": 10,
     "status": "ok",
     "timestamp": 1660475941919,
     "user": {
      "displayName": "Pedro Tavares Silva",
      "userId": "15176343071283963792"
     },
     "user_tz": -120
    },
    "id": "WuAx4YXQqCBH",
    "outputId": "467b4153-26e7-4a16-bf2a-d472c0c8b059"
   },
   "outputs": [
    {
     "name": "stdout",
     "output_type": "stream",
     "text": [
      "Formato de la imagen: (100, 100, 3)\n"
     ]
    }
   ],
   "source": [
    "# Seleccionamos la primera imagen del conjunto (primer dígito)\n",
    "single = X_train[0]\n",
    "print(\"Formato de la imagen: {}\".format(single.shape))"
   ]
  },
  {
   "cell_type": "markdown",
   "metadata": {
    "id": "7RkDrB5ev5Bm"
   },
   "source": [
    "#### Definición de parámetros"
   ]
  },
  {
   "cell_type": "code",
   "execution_count": 51,
   "metadata": {
    "id": "geIMOkjRv4Vb"
   },
   "outputs": [],
   "source": [
    "batch_size = 128\n",
    "num_classes = 5\n",
    "epochs = 2\n",
    "\n",
    "# Dimensiones de la imagen de entrada\n",
    "img_rows, img_cols, img_ch = 100, 100, 3"
   ]
  },
  {
   "cell_type": "code",
   "execution_count": 23,
   "metadata": {
    "id": "E_SS3e1zwNog"
   },
   "outputs": [],
   "source": [
    "# Si el formato de las imágenes sólo tiene un canal (escala de grises)\n",
    "if K.image_data_format() == 'channels_first':\n",
    "    X_train = X_train.reshape(X_train.shape[0], img_ch, img_rows, img_cols)\n",
    "    X_test = X_test.reshape(X_test.shape[0], img_ch, img_rows, img_cols)\n",
    "    input_shape = (img_ch, img_rows, img_cols)\n",
    "# en otro caso\n",
    "else:\n",
    "    X_train = X_train.reshape(X_train.shape[0], img_rows, img_cols, img_ch)\n",
    "    X_test = X_test.reshape(X_test.shape[0], img_rows, img_cols, img_ch)\n",
    "    input_shape = (img_rows, img_cols, img_ch)"
   ]
  },
  {
   "cell_type": "markdown",
   "metadata": {
    "id": "IomA3SLmyoXC"
   },
   "source": [
    "##### Comprobamos el nuevo formato de \"x_train\" y \"x_test\""
   ]
  },
  {
   "cell_type": "code",
   "execution_count": 26,
   "metadata": {
    "colab": {
     "base_uri": "https://localhost:8080/"
    },
    "executionInfo": {
     "elapsed": 2,
     "status": "ok",
     "timestamp": 1660475943434,
     "user": {
      "displayName": "Pedro Tavares Silva",
      "userId": "15176343071283963792"
     },
     "user_tz": -120
    },
    "id": "FK0RU0sgyDwK",
    "outputId": "08646405-070d-44fe-cf16-2ce6199ff6f3"
   },
   "outputs": [
    {
     "name": "stdout",
     "output_type": "stream",
     "text": [
      "Conjunto de Training: 400 imágenes\n",
      "(400, 100, 100, 3)\n",
      "\n",
      "Conjunto de TEST: 100 imágenes\n",
      "(100, 100, 100, 3)\n"
     ]
    }
   ],
   "source": [
    "print(\"Conjunto de Training: {}\".format(X_train.shape[0]), 'imágenes')\n",
    "print(X_train.shape)\n",
    "\n",
    "print()\n",
    "print(\"Conjunto de TEST: {}\".format(X_test.shape[0]), 'imágenes')\n",
    "print(X_test.shape)"
   ]
  },
  {
   "cell_type": "code",
   "execution_count": 28,
   "metadata": {
    "colab": {
     "base_uri": "https://localhost:8080/"
    },
    "id": "OnSDOjwfX3Qf",
    "outputId": "6a3990a2-98c1-4277-b526-b587cf65d639"
   },
   "outputs": [
    {
     "name": "stdout",
     "output_type": "stream",
     "text": [
      "[[ 41  20  11]\n",
      " [ 41  21  12]\n",
      " [ 37  19  10]\n",
      " [ 32  16   8]\n",
      " [ 28  13   7]\n",
      " [ 29  15   8]\n",
      " [ 34  18  11]\n",
      " [ 39  22  15]\n",
      " [ 39  22  16]\n",
      " [ 35  18  12]\n",
      " [ 34  16  11]\n",
      " [ 35  17  12]\n",
      " [ 33  17  11]\n",
      " [ 30  16   9]\n",
      " [ 29  15   9]\n",
      " [ 27  15   9]\n",
      " [ 28  16  11]\n",
      " [ 34  23  19]\n",
      " [ 52  42  39]\n",
      " [ 78  69  69]\n",
      " [113 104 107]\n",
      " [150 141 144]\n",
      " [177 170 171]\n",
      " [194 188 188]\n",
      " [200 195 195]\n",
      " [197 194 193]\n",
      " [187 183 183]\n",
      " [173 167 170]\n",
      " [157 151 152]\n",
      " [143 138 136]\n",
      " [134 129 122]\n",
      " [128 124 115]\n",
      " [127 123 112]\n",
      " [128 124 113]\n",
      " [133 129 121]\n",
      " [140 136 129]\n",
      " [140 135 132]\n",
      " [140 136 135]\n",
      " [144 140 142]\n",
      " [148 144 148]\n",
      " [151 148 152]\n",
      " [153 151 153]\n",
      " [155 152 153]\n",
      " [155 151 151]\n",
      " [154 148 149]\n",
      " [152 145 147]\n",
      " [148 141 145]\n",
      " [145 137 141]\n",
      " [140 135 135]\n",
      " [137 132 136]\n",
      " [136 131 137]\n",
      " [134 131 133]\n",
      " [134 130 128]\n",
      " [137 132 131]\n",
      " [141 135 138]\n",
      " [144 138 140]\n",
      " [147 141 143]\n",
      " [152 146 147]\n",
      " [155 149 151]\n",
      " [160 154 156]\n",
      " [164 158 159]\n",
      " [167 161 163]\n",
      " [171 165 165]\n",
      " [173 167 167]\n",
      " [177 170 170]\n",
      " [181 173 172]\n",
      " [185 177 175]\n",
      " [186 178 176]\n",
      " [188 178 176]\n",
      " [183 172 167]\n",
      " [186 174 168]\n",
      " [183 171 163]\n",
      " [187 173 165]\n",
      " [195 180 172]\n",
      " [203 187 178]\n",
      " [207 190 180]\n",
      " [210 191 176]\n",
      " [211 192 174]\n",
      " [213 193 174]\n",
      " [209 188 170]\n",
      " [208 188 171]\n",
      " [201 182 168]\n",
      " [189 173 161]\n",
      " [175 161 152]\n",
      " [170 157 150]\n",
      " [164 151 146]\n",
      " [164 151 146]\n",
      " [166 153 148]\n",
      " [170 157 151]\n",
      " [172 160 152]\n",
      " [173 161 155]\n",
      " [174 165 161]\n",
      " [177 167 163]\n",
      " [176 166 163]\n",
      " [175 165 162]\n",
      " [171 162 159]\n",
      " [170 161 158]\n",
      " [167 158 153]\n",
      " [163 154 148]\n",
      " [160 151 145]]\n"
     ]
    }
   ],
   "source": [
    "# Píxeles de la fila 10 de la primera imagen\n",
    "print(X_train[0][10])"
   ]
  },
  {
   "cell_type": "markdown",
   "metadata": {
    "id": "Hi28fFqhW_8U"
   },
   "source": [
    "#### Damos formato a los píxeles de las imágenes de coma flotante de simple precisión"
   ]
  },
  {
   "cell_type": "code",
   "execution_count": 29,
   "metadata": {
    "id": "Jf2zKeVhOyUm"
   },
   "outputs": [],
   "source": [
    "X_train = X_train.astype('float32')\n",
    "X_test = X_test.astype('float32')"
   ]
  },
  {
   "cell_type": "markdown",
   "metadata": {
    "id": "e_cuC_f1ztNJ"
   },
   "source": [
    "#### Normalizamos los píxeles entre [0,1] para que no tengan unos más valor que otros por tener simplemente un número más alto"
   ]
  },
  {
   "cell_type": "code",
   "execution_count": 30,
   "metadata": {
    "id": "e2GYLSqyO93v"
   },
   "outputs": [],
   "source": [
    "X_train /= 255\n",
    "X_test /= 255"
   ]
  },
  {
   "cell_type": "markdown",
   "metadata": {
    "id": "pdiir93X0A7u"
   },
   "source": [
    "#### Visualizamos nuevamente los píxeles de la fila 10 de la primera imagen"
   ]
  },
  {
   "cell_type": "code",
   "execution_count": 32,
   "metadata": {
    "colab": {
     "base_uri": "https://localhost:8080/"
    },
    "id": "uG1QP1d8PGDI",
    "outputId": "17c5582a-68b8-4b24-9004-530487179186"
   },
   "outputs": [
    {
     "name": "stdout",
     "output_type": "stream",
     "text": [
      "[[0.16078432 0.07843138 0.04313726]\n",
      " [0.16078432 0.08235294 0.04705882]\n",
      " [0.14509805 0.07450981 0.03921569]\n",
      " [0.1254902  0.0627451  0.03137255]\n",
      " [0.10980392 0.05098039 0.02745098]\n",
      " [0.11372549 0.05882353 0.03137255]\n",
      " [0.13333334 0.07058824 0.04313726]\n",
      " [0.15294118 0.08627451 0.05882353]\n",
      " [0.15294118 0.08627451 0.0627451 ]\n",
      " [0.13725491 0.07058824 0.04705882]\n",
      " [0.13333334 0.0627451  0.04313726]\n",
      " [0.13725491 0.06666667 0.04705882]\n",
      " [0.12941177 0.06666667 0.04313726]\n",
      " [0.11764706 0.0627451  0.03529412]\n",
      " [0.11372549 0.05882353 0.03529412]\n",
      " [0.10588235 0.05882353 0.03529412]\n",
      " [0.10980392 0.0627451  0.04313726]\n",
      " [0.13333334 0.09019608 0.07450981]\n",
      " [0.20392157 0.16470589 0.15294118]\n",
      " [0.30588236 0.27058825 0.27058825]\n",
      " [0.44313726 0.40784314 0.41960785]\n",
      " [0.5882353  0.5529412  0.5647059 ]\n",
      " [0.69411767 0.6666667  0.67058825]\n",
      " [0.7607843  0.7372549  0.7372549 ]\n",
      " [0.78431374 0.7647059  0.7647059 ]\n",
      " [0.77254903 0.7607843  0.75686276]\n",
      " [0.73333335 0.7176471  0.7176471 ]\n",
      " [0.6784314  0.654902   0.6666667 ]\n",
      " [0.6156863  0.5921569  0.59607846]\n",
      " [0.56078434 0.5411765  0.53333336]\n",
      " [0.5254902  0.5058824  0.47843137]\n",
      " [0.5019608  0.4862745  0.4509804 ]\n",
      " [0.49803922 0.48235294 0.4392157 ]\n",
      " [0.5019608  0.4862745  0.44313726]\n",
      " [0.52156866 0.5058824  0.4745098 ]\n",
      " [0.54901963 0.53333336 0.5058824 ]\n",
      " [0.54901963 0.5294118  0.5176471 ]\n",
      " [0.54901963 0.53333336 0.5294118 ]\n",
      " [0.5647059  0.54901963 0.5568628 ]\n",
      " [0.5803922  0.5647059  0.5803922 ]\n",
      " [0.5921569  0.5803922  0.59607846]\n",
      " [0.6        0.5921569  0.6       ]\n",
      " [0.60784316 0.59607846 0.6       ]\n",
      " [0.60784316 0.5921569  0.5921569 ]\n",
      " [0.6039216  0.5803922  0.58431375]\n",
      " [0.59607846 0.5686275  0.5764706 ]\n",
      " [0.5803922  0.5529412  0.5686275 ]\n",
      " [0.5686275  0.5372549  0.5529412 ]\n",
      " [0.54901963 0.5294118  0.5294118 ]\n",
      " [0.5372549  0.5176471  0.53333336]\n",
      " [0.53333336 0.5137255  0.5372549 ]\n",
      " [0.5254902  0.5137255  0.52156866]\n",
      " [0.5254902  0.50980395 0.5019608 ]\n",
      " [0.5372549  0.5176471  0.5137255 ]\n",
      " [0.5529412  0.5294118  0.5411765 ]\n",
      " [0.5647059  0.5411765  0.54901963]\n",
      " [0.5764706  0.5529412  0.56078434]\n",
      " [0.59607846 0.57254905 0.5764706 ]\n",
      " [0.60784316 0.58431375 0.5921569 ]\n",
      " [0.627451   0.6039216  0.6117647 ]\n",
      " [0.6431373  0.61960787 0.62352943]\n",
      " [0.654902   0.6313726  0.6392157 ]\n",
      " [0.67058825 0.64705884 0.64705884]\n",
      " [0.6784314  0.654902   0.654902  ]\n",
      " [0.69411767 0.6666667  0.6666667 ]\n",
      " [0.70980394 0.6784314  0.6745098 ]\n",
      " [0.7254902  0.69411767 0.6862745 ]\n",
      " [0.7294118  0.69803923 0.6901961 ]\n",
      " [0.7372549  0.69803923 0.6901961 ]\n",
      " [0.7176471  0.6745098  0.654902  ]\n",
      " [0.7294118  0.68235296 0.65882355]\n",
      " [0.7176471  0.67058825 0.6392157 ]\n",
      " [0.73333335 0.6784314  0.64705884]\n",
      " [0.7647059  0.7058824  0.6745098 ]\n",
      " [0.79607844 0.73333335 0.69803923]\n",
      " [0.8117647  0.74509805 0.7058824 ]\n",
      " [0.8235294  0.7490196  0.6901961 ]\n",
      " [0.827451   0.7529412  0.68235296]\n",
      " [0.8352941  0.75686276 0.68235296]\n",
      " [0.81960785 0.7372549  0.6666667 ]\n",
      " [0.8156863  0.7372549  0.67058825]\n",
      " [0.7882353  0.7137255  0.65882355]\n",
      " [0.7411765  0.6784314  0.6313726 ]\n",
      " [0.6862745  0.6313726  0.59607846]\n",
      " [0.6666667  0.6156863  0.5882353 ]\n",
      " [0.6431373  0.5921569  0.57254905]\n",
      " [0.6431373  0.5921569  0.57254905]\n",
      " [0.6509804  0.6        0.5803922 ]\n",
      " [0.6666667  0.6156863  0.5921569 ]\n",
      " [0.6745098  0.627451   0.59607846]\n",
      " [0.6784314  0.6313726  0.60784316]\n",
      " [0.68235296 0.64705884 0.6313726 ]\n",
      " [0.69411767 0.654902   0.6392157 ]\n",
      " [0.6901961  0.6509804  0.6392157 ]\n",
      " [0.6862745  0.64705884 0.63529414]\n",
      " [0.67058825 0.63529414 0.62352943]\n",
      " [0.6666667  0.6313726  0.61960787]\n",
      " [0.654902   0.61960787 0.6       ]\n",
      " [0.6392157  0.6039216  0.5803922 ]\n",
      " [0.627451   0.5921569  0.5686275 ]]\n"
     ]
    }
   ],
   "source": [
    "print(X_train[0][10])"
   ]
  },
  {
   "cell_type": "markdown",
   "metadata": {
    "id": "aOq2ZpRQcCMS"
   },
   "source": [
    "## Convierte los vectores de clase en matrices de clases binarias"
   ]
  },
  {
   "cell_type": "code",
   "execution_count": 39,
   "metadata": {
    "colab": {
     "base_uri": "https://localhost:8080/"
    },
    "id": "2X7Bt6RtPWrF",
    "outputId": "5beda901-8197-410c-e404-a39ab531b555"
   },
   "outputs": [
    {
     "name": "stdout",
     "output_type": "stream",
     "text": [
      "[1. 0. 0. 0. 0.]\n"
     ]
    }
   ],
   "source": [
    "# Etiqueta de la primera imagen\n",
    "print(y_train[0])"
   ]
  },
  {
   "cell_type": "markdown",
   "metadata": {
    "id": "4gjEvCrNYHin"
   },
   "source": [
    "#### Arquitectura de la CNN"
   ]
  },
  {
   "cell_type": "code",
   "execution_count": 52,
   "metadata": {
    "id": "nYsctvLqPal-"
   },
   "outputs": [],
   "source": [
    "model = Sequential()\n",
    "model.add(Conv2D(32, kernel_size=(3, 3),\n",
    "                 activation='relu',\n",
    "                 input_shape=input_shape))\n",
    "model.add(Conv2D(64, (3, 3), activation='relu'))\n",
    "model.add(MaxPooling2D(pool_size=(2, 2)))\n",
    "model.add(Dropout(0.25))\n",
    "model.add(Flatten())\n",
    "model.add(Dense(128, activation='relu'))\n",
    "model.add(Dropout(0.5))\n",
    "model.add(Dense(num_classes, activation='softmax'))\n",
    "model.compile(loss=keras.losses.categorical_crossentropy,\n",
    "              optimizer=keras.optimizers.Adadelta(),\n",
    "              metrics=['accuracy'])"
   ]
  },
  {
   "cell_type": "code",
   "execution_count": 53,
   "metadata": {
    "colab": {
     "base_uri": "https://localhost:8080/"
    },
    "id": "3awRDcGb2ftI",
    "outputId": "c58cca10-5ad6-4141-84a8-6807e1b59c62"
   },
   "outputs": [
    {
     "name": "stdout",
     "output_type": "stream",
     "text": [
      "Model: \"sequential_2\"\n",
      "_________________________________________________________________\n",
      " Layer (type)                Output Shape              Param #   \n",
      "=================================================================\n",
      " conv2d_4 (Conv2D)           (None, 98, 98, 32)        896       \n",
      "                                                                 \n",
      " conv2d_5 (Conv2D)           (None, 96, 96, 64)        18496     \n",
      "                                                                 \n",
      " max_pooling2d_2 (MaxPooling  (None, 48, 48, 64)       0         \n",
      " 2D)                                                             \n",
      "                                                                 \n",
      " dropout_4 (Dropout)         (None, 48, 48, 64)        0         \n",
      "                                                                 \n",
      " flatten_2 (Flatten)         (None, 147456)            0         \n",
      "                                                                 \n",
      " dense_4 (Dense)             (None, 128)               18874496  \n",
      "                                                                 \n",
      " dropout_5 (Dropout)         (None, 128)               0         \n",
      "                                                                 \n",
      " dense_5 (Dense)             (None, 5)                 645       \n",
      "                                                                 \n",
      "=================================================================\n",
      "Total params: 18,894,533\n",
      "Trainable params: 18,894,533\n",
      "Non-trainable params: 0\n",
      "_________________________________________________________________\n"
     ]
    }
   ],
   "source": [
    "model.summary()"
   ]
  },
  {
   "cell_type": "code",
   "execution_count": 54,
   "metadata": {
    "id": "neGu6aTYQkcB"
   },
   "outputs": [],
   "source": [
    "model.compile(loss='categorical_crossentropy', optimizer='adam', metrics=['accuracy'])"
   ]
  },
  {
   "cell_type": "markdown",
   "metadata": {
    "id": "8xUiorOLYabM"
   },
   "source": [
    "#### Entrenamos el modelo"
   ]
  },
  {
   "cell_type": "code",
   "execution_count": 55,
   "metadata": {
    "colab": {
     "base_uri": "https://localhost:8080/"
    },
    "id": "pT29eDbiQ01G",
    "outputId": "db6effda-6b58-471a-a303-d65cb695fc38"
   },
   "outputs": [
    {
     "name": "stdout",
     "output_type": "stream",
     "text": [
      "Epoch 1/2\n",
      "4/4 - 7s - loss: 9.0961 - accuracy: 0.1575 - 7s/epoch - 2s/step\n",
      "Epoch 2/2\n",
      "4/4 - 5s - loss: 2.7612 - accuracy: 0.1875 - 5s/epoch - 1s/step\n"
     ]
    }
   ],
   "source": [
    "start_time = time.time()\n",
    "model.fit(X_train, y_train, \n",
    "          batch_size=batch_size, \n",
    "          epochs=epochs, \n",
    "          verbose=2)\n",
    "end_time = time.time()"
   ]
  },
  {
   "cell_type": "code",
   "execution_count": 56,
   "metadata": {
    "colab": {
     "base_uri": "https://localhost:8080/"
    },
    "id": "4A9rbZJITztM",
    "outputId": "9e990757-2145-4f43-f7fd-941ba0cdd1d5"
   },
   "outputs": [
    {
     "name": "stdout",
     "output_type": "stream",
     "text": [
      "Tiempo estimado de entrenamiento (min): 0.0\n"
     ]
    }
   ],
   "source": [
    "# Tiempo de entrenamiento\n",
    "elapsed_time = end_time - start_time\n",
    "print('Tiempo estimado de entrenamiento (min):', np.around(elapsed_time/60))"
   ]
  },
  {
   "cell_type": "markdown",
   "metadata": {
    "id": "8yV9k6-xQLsa"
   },
   "source": [
    "#### Entrenamiento y evaluación del modelo y tiempo de ejecución\n",
    "\n",
    "> ##### Entrenamiento: validando con el conjunto de test\n",
    "> ##### Evaluación del modelo para el conjunto de test\n",
    "> ##### Tiempo de ejecución"
   ]
  },
  {
   "cell_type": "code",
   "execution_count": 57,
   "metadata": {
    "colab": {
     "base_uri": "https://localhost:8080/"
    },
    "id": "az-hMEwn5caV",
    "outputId": "a2e59559-a182-487f-e23b-99e5ce534336"
   },
   "outputs": [
    {
     "name": "stdout",
     "output_type": "stream",
     "text": [
      "Epoch 1/2\n",
      "4/4 - 5s - loss: 1.6219 - accuracy: 0.2225 - val_loss: 1.6047 - val_accuracy: 0.1900 - 5s/epoch - 1s/step\n",
      "Epoch 2/2\n",
      "4/4 - 5s - loss: 1.5655 - accuracy: 0.2800 - val_loss: 1.5188 - val_accuracy: 0.3600 - 5s/epoch - 1s/step\n",
      "4/4 - 0s - loss: 1.5188 - accuracy: 0.3600 - 220ms/epoch - 55ms/step\n",
      "Test loss: 1.5188101530075073\n",
      "Test accuracy: 0.36000001430511475\n"
     ]
    }
   ],
   "source": [
    "import time\n",
    "\n",
    "start_time = time.time()\n",
    "\n",
    "model.fit(X_train, y_train,\n",
    "          batch_size = batch_size,\n",
    "          epochs = epochs,\n",
    "          verbose=2,      # visualización del progreso de entrenamiento\n",
    "          validation_data=(X_test, y_test))\n",
    "score = model.evaluate(X_test, y_test, verbose=2)\n",
    "print('Test loss: {}'.format(score[0]))\n",
    "print('Test accuracy: {}'.format(score[1]))\n",
    "\n",
    "elapsed_time = time.time() - start_time"
   ]
  },
  {
   "cell_type": "code",
   "execution_count": 58,
   "metadata": {
    "colab": {
     "base_uri": "https://localhost:8080/"
    },
    "id": "PhuiJw9T7FF9",
    "outputId": "4f6b7f34-0d55-480d-cc95-73626b095cce"
   },
   "outputs": [
    {
     "name": "stdout",
     "output_type": "stream",
     "text": [
      "Tiempo estimado de entrenamiento (min): -5.0\n"
     ]
    }
   ],
   "source": [
    "# Tiempo de entrenmiento\n",
    "elapsed_time = end_time - start_time\n",
    "print('Tiempo estimado de entrenamiento (min):', np.around(elapsed_time/60))"
   ]
  },
  {
   "cell_type": "markdown",
   "metadata": {
    "id": "R1V6l4iPaVDN"
   },
   "source": [
    "#### Predecimos el conjunto de TEST con el modelo que hemos diseñado \n",
    "\n",
    "##### np.newaxis simplemente aumenta una dimensión a la matriz de la imagen"
   ]
  },
  {
   "cell_type": "code",
   "execution_count": 75,
   "metadata": {
    "id": "d-a6Bqq4Rj6m"
   },
   "outputs": [
    {
     "name": "stdout",
     "output_type": "stream",
     "text": [
      "1/1 [==============================] - 0s 26ms/step\n"
     ]
    }
   ],
   "source": [
    "pred = model.predict(X_test[np.newaxis,1])"
   ]
  },
  {
   "cell_type": "code",
   "execution_count": 76,
   "metadata": {
    "colab": {
     "base_uri": "https://localhost:8080/"
    },
    "id": "6CXyqA0jRs8T",
    "outputId": "0bd3bdd6-6ebe-48ad-bfa0-e7580f3fbde6"
   },
   "outputs": [
    {
     "data": {
      "text/plain": [
       "array([[0.5740455 , 0.06322566, 0.07373673, 0.17330623, 0.11568586]],\n",
       "      dtype=float32)"
      ]
     },
     "execution_count": 76,
     "metadata": {},
     "output_type": "execute_result"
    }
   ],
   "source": [
    "pred"
   ]
  },
  {
   "cell_type": "code",
   "execution_count": 77,
   "metadata": {
    "id": "Y68G-B-mRw1D"
   },
   "outputs": [],
   "source": [
    "prediccion = pred.argmax(axis=1)"
   ]
  },
  {
   "cell_type": "code",
   "execution_count": 82,
   "metadata": {
    "colab": {
     "base_uri": "https://localhost:8080/",
     "height": 282
    },
    "id": "B5dR0V_AR7v8",
    "outputId": "5168cb1d-f930-4b15-8ad5-fa3b8437e2b6"
   },
   "outputs": [
    {
     "name": "stdout",
     "output_type": "stream",
     "text": [
      "La predicción es: food\n"
     ]
    },
    {
     "data": {
      "image/png": "[encoded data removed]",
      "text/plain": [
       "<Figure size 640x480 with 1 Axes>"
      ]
     },
     "metadata": {},
     "output_type": "display_data"
    }
   ],
   "source": [
    "print('La predicción es: {}'.format(categories[prediccion[0]]))  # tiene la posición de la clase que ha tenido mayor probabilidad\n",
    "img = (X_test[1]*255).reshape((100,100,3)).astype('uint8')\n",
    "plt.imshow(img)\n",
    "plt.show()"
   ]
  }
 ],
 "metadata": {
  "colab": {
   "collapsed_sections": [],
   "name": "Workshop_Ejercicio_1__MNIST_RESUELTO.ipynb",
   "provenance": []
  },
  "kernelspec": {
   "display_name": "Python 3 (ipykernel)",
   "language": "python",
   "name": "python3"
  },
  "language_info": {
   "codemirror_mode": {
    "name": "ipython",
    "version": 3
   },
   "file_extension": ".py",
   "mimetype": "text/x-python",
   "name": "python",
   "nbconvert_exporter": "python",
   "pygments_lexer": "ipython3",
   "version": "3.8.10"
  }
 },
 "nbformat": 4,
 "nbformat_minor": 1
}
