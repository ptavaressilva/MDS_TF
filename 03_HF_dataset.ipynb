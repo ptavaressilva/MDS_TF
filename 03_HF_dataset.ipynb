{
 "cells": [
  {
   "cell_type": "code",
   "execution_count": 14,
   "id": "8e8909e3",
   "metadata": {},
   "outputs": [],
   "source": [
    "import pandas as pd\n",
    "from tqdm.notebook import trange, tqdm"
   ]
  },
  {
   "cell_type": "code",
   "execution_count": 15,
   "id": "d70ea8f0",
   "metadata": {},
   "outputs": [],
   "source": [
    "df = pd.read_json(r'dataset/photos.json', lines=True)\n",
    "df = df.drop(columns = ['business_id', 'caption'])"
   ]
  },
  {
   "cell_type": "code",
   "execution_count": 16,
   "id": "6682f447",
   "metadata": {},
   "outputs": [
    {
     "data": {
      "text/html": [
       "<div>\n",
       "<style scoped>\n",
       "    .dataframe tbody tr th:only-of-type {\n",
       "        vertical-align: middle;\n",
       "    }\n",
       "\n",
       "    .dataframe tbody tr th {\n",
       "        vertical-align: top;\n",
       "    }\n",
       "\n",
       "    .dataframe thead th {\n",
       "        text-align: right;\n",
       "    }\n",
       "</style>\n",
       "<table border=\"1\" class=\"dataframe\">\n",
       "  <thead>\n",
       "    <tr style=\"text-align: right;\">\n",
       "      <th></th>\n",
       "      <th>photo_id</th>\n",
       "      <th>label</th>\n",
       "    </tr>\n",
       "  </thead>\n",
       "  <tbody>\n",
       "    <tr>\n",
       "      <th>0</th>\n",
       "      <td>zsvj7vloL4L5jhYyPIuVwg</td>\n",
       "      <td>inside</td>\n",
       "    </tr>\n",
       "  </tbody>\n",
       "</table>\n",
       "</div>"
      ],
      "text/plain": [
       "                 photo_id   label\n",
       "0  zsvj7vloL4L5jhYyPIuVwg  inside"
      ]
     },
     "execution_count": 16,
     "metadata": {},
     "output_type": "execute_result"
    }
   ],
   "source": [
    "df.loc[df.photo_id == 'zsvj7vloL4L5jhYyPIuVwg']"
   ]
  },
  {
   "cell_type": "code",
   "execution_count": 28,
   "id": "323b360d",
   "metadata": {},
   "outputs": [
    {
     "data": {
      "application/vnd.jupyter.widget-view+json": {
       "model_id": "0e0784121e3f4d648d1f665aaa0475b1",
       "version_major": 2,
       "version_minor": 0
      },
      "text/plain": [
       "Photos processed:   0%|          | 0/200099 [00:00<?, ?it/s]"
      ]
     },
     "metadata": {},
     "output_type": "display_data"
    }
   ],
   "source": [
    "for img in tqdm(df.photo_id.tolist(), desc='Photos processed', miniters=500):\n",
    "    try:\n",
    "        image.verify('dataset/photos/'+img+'.jpg')\n",
    "    except:\n",
    "        # file is corrupt\n",
    "        df = df.drop(df.loc[df.photo_id == 'zsvj7vloL4L5jhYyPIuVwg'].index)"
   ]
  },
  {
   "cell_type": "code",
   "execution_count": 29,
   "id": "af760b66",
   "metadata": {},
   "outputs": [],
   "source": [
    "import pickle"
   ]
  },
  {
   "cell_type": "code",
   "execution_count": 33,
   "id": "d34b2ed9",
   "metadata": {},
   "outputs": [],
   "source": [
    "# dataframe('photo_id', 'label') contains only valid labeled pictures\n",
    "pickle.dump(df, open('checkpoints/valid.pkl', 'wb'))"
   ]
  },
  {
   "cell_type": "code",
   "execution_count": 34,
   "id": "e210b500",
   "metadata": {},
   "outputs": [],
   "source": [
    "categorias = df.label.value_counts().index"
   ]
  },
  {
   "cell_type": "code",
   "execution_count": 36,
   "id": "23741b83",
   "metadata": {},
   "outputs": [],
   "source": [
    "dataset = {'train' : [],\n",
    "          'test': [],\n",
    "          'validate': []}"
   ]
  },
  {
   "cell_type": "code",
   "execution_count": null,
   "id": "580c784a",
   "metadata": {},
   "outputs": [],
   "source": [
    "for categoria in categorias:\n",
    "    slice_80 = int(len(df.loc[df.label == categoria]) * 0.8)\n",
    "    slice_10 = int(len(df.loc[df.label == categoria]) * 0.1)\n",
    "    dataset['train'].update({categoria: df.loc[df.label == categoria][0:slice_80]})\n",
    "    dataset['test'].update({categoria: df.loc[df.label == categoria][slice_80:slice_80+slice_10]})\n",
    "    dataset['validate'].update({categoria: df.loc[df.label == categoria][slice_80+slice_10:]})"
   ]
  },
  {
   "cell_type": "code",
   "execution_count": null,
   "id": "bd299c3c",
   "metadata": {},
   "outputs": [],
   "source": [
    "# resample train\n",
    "random_state = 42 # La solución de Douglas Adams para todo\n",
    "\n",
    "subset_max_photos = {\n",
    "    train: int(max_photos * 0.8),\n",
    "    test: int(max_photos * 0.1),\n",
    "    validate: int(max_photos * 0.1)\n",
    "}\n",
    "\n",
    "for subset in ['train', 'test', 'validate']\n",
    "    for categoria in categorias:\n",
    "        # keep only the requested number o\n",
    "        if len(dataset[subset][categoria]) > subset_max_photos[subset]: # demasiadas fotos - resample\n",
    "            dataset[subset][categoria] = dataset[subset][categoria].sample(n=subset_max_photos[subset],\n",
    "                                                                           random_state=random_state,\n",
    "                                                                           replace=False, # solo 1x cada foto\n",
    "                                                                           ignore_index=True)\n",
    "        else:\n",
    "            dataset[subset][categoria] = dataset[subset][categoria].sample(n=subset_max_photos[subset],\n",
    "                                                                           random_state=random_state,\n",
    "                                                                           replace=True,\n",
    "                                                                           ignore_index=True)"
   ]
  },
  {
   "cell_type": "code",
   "execution_count": null,
   "id": "ad0ca96f",
   "metadata": {},
   "outputs": [],
   "source": []
  }
 ],
 "metadata": {
  "kernelspec": {
   "display_name": "Python 3 (ipykernel)",
   "language": "python",
   "name": "python3"
  },
  "language_info": {
   "codemirror_mode": {
    "name": "ipython",
    "version": 3
   },
   "file_extension": ".py",
   "mimetype": "text/x-python",
   "name": "python",
   "nbconvert_exporter": "python",
   "pygments_lexer": "ipython3",
   "version": "3.8.10"
  }
 },
 "nbformat": 4,
 "nbformat_minor": 5
}
