{
 "cells": [
  {
   "cell_type": "markdown",
   "id": "f2a00c6b",
   "metadata": {},
   "source": [
    "# Preparación para el TF MDS\n",
    "\n",
    "## Preparación de los datos\n",
    "\n",
    "Dataset: https://www.yelp.com/dataset/documentation/main\n",
    "\n",
    "Crea un dataframe con 100 fotos de cada categoría (label), escaladas y recortadas a 100 x 100\n",
    "\n",
    "**Requiere ejecución del notebook '00_EDA.ipynb'** para generar el archivo checkpoints/df3.pkl"
   ]
  },
  {
   "cell_type": "code",
   "execution_count": null,
   "id": "22a5b218",
   "metadata": {},
   "outputs": [],
   "source": [
    "import os\n",
    "import pickle\n",
    "import pandas as pd\n",
    "from PIL import Image\n",
    "from tqdm.notebook import trange, tqdm\n",
    "import torchvision.transforms as T\n",
    "import shutil\n",
    "import math\n",
    "import numpy as np\n",
    "from keras.utils import np_utils"
   ]
  },
  {
   "cell_type": "code",
   "execution_count": 2,
   "id": "1f70e47a",
   "metadata": {},
   "outputs": [],
   "source": [
    "dataset_photos_path = 'dataset/photos'\n",
    "dataset_output_path = 'dataset/toy_flat'\n",
    "photo_size = 100 # 100 x 100 pixeles\n",
    "df_pickle_file='checkpoints/df5.pkl'\n",
    "max_photos=100 # numero de fotos de cada categoria"
   ]
  },
  {
   "cell_type": "code",
   "execution_count": 3,
   "id": "359cb19a",
   "metadata": {},
   "outputs": [],
   "source": [
    "df = pickle.load(open('checkpoints/df3.pkl','rb'))"
   ]
  },
  {
   "cell_type": "code",
   "execution_count": 4,
   "id": "c595c31e",
   "metadata": {},
   "outputs": [
    {
     "data": {
      "text/html": [
       "<div>\n",
       "<style scoped>\n",
       "    .dataframe tbody tr th:only-of-type {\n",
       "        vertical-align: middle;\n",
       "    }\n",
       "\n",
       "    .dataframe tbody tr th {\n",
       "        vertical-align: top;\n",
       "    }\n",
       "\n",
       "    .dataframe thead th {\n",
       "        text-align: right;\n",
       "    }\n",
       "</style>\n",
       "<table border=\"1\" class=\"dataframe\">\n",
       "  <thead>\n",
       "    <tr style=\"text-align: right;\">\n",
       "      <th></th>\n",
       "      <th>label</th>\n",
       "      <th>x_dim</th>\n",
       "      <th>y_dim</th>\n",
       "      <th>z_channels</th>\n",
       "      <th>pixels</th>\n",
       "      <th>corrupt</th>\n",
       "    </tr>\n",
       "    <tr>\n",
       "      <th>photo_id</th>\n",
       "      <th></th>\n",
       "      <th></th>\n",
       "      <th></th>\n",
       "      <th></th>\n",
       "      <th></th>\n",
       "      <th></th>\n",
       "    </tr>\n",
       "  </thead>\n",
       "  <tbody>\n",
       "    <tr>\n",
       "      <th>--0h6FMC0V8aMtKQylojEg</th>\n",
       "      <td>inside</td>\n",
       "      <td>400.0</td>\n",
       "      <td>300.0</td>\n",
       "      <td>3.0</td>\n",
       "      <td>120000.0</td>\n",
       "      <td>False</td>\n",
       "    </tr>\n",
       "    <tr>\n",
       "      <th>--3JQ4MlO-jHT9xbo7liug</th>\n",
       "      <td>food</td>\n",
       "      <td>400.0</td>\n",
       "      <td>400.0</td>\n",
       "      <td>3.0</td>\n",
       "      <td>160000.0</td>\n",
       "      <td>False</td>\n",
       "    </tr>\n",
       "    <tr>\n",
       "      <th>--3P3fjPrScy06XVLi4vhg</th>\n",
       "      <td>inside</td>\n",
       "      <td>400.0</td>\n",
       "      <td>560.0</td>\n",
       "      <td>3.0</td>\n",
       "      <td>224000.0</td>\n",
       "      <td>False</td>\n",
       "    </tr>\n",
       "    <tr>\n",
       "      <th>--4DfhW2sJvjeC90KEDX3g</th>\n",
       "      <td>inside</td>\n",
       "      <td>400.0</td>\n",
       "      <td>300.0</td>\n",
       "      <td>3.0</td>\n",
       "      <td>120000.0</td>\n",
       "      <td>False</td>\n",
       "    </tr>\n",
       "    <tr>\n",
       "      <th>--5V3mRlhb3zqE5yF4Gpaw</th>\n",
       "      <td>inside</td>\n",
       "      <td>400.0</td>\n",
       "      <td>300.0</td>\n",
       "      <td>3.0</td>\n",
       "      <td>120000.0</td>\n",
       "      <td>False</td>\n",
       "    </tr>\n",
       "  </tbody>\n",
       "</table>\n",
       "</div>"
      ],
      "text/plain": [
       "                         label  x_dim  y_dim  z_channels    pixels  corrupt\n",
       "photo_id                                                                   \n",
       "--0h6FMC0V8aMtKQylojEg  inside  400.0  300.0         3.0  120000.0    False\n",
       "--3JQ4MlO-jHT9xbo7liug    food  400.0  400.0         3.0  160000.0    False\n",
       "--3P3fjPrScy06XVLi4vhg  inside  400.0  560.0         3.0  224000.0    False\n",
       "--4DfhW2sJvjeC90KEDX3g  inside  400.0  300.0         3.0  120000.0    False\n",
       "--5V3mRlhb3zqE5yF4Gpaw  inside  400.0  300.0         3.0  120000.0    False"
      ]
     },
     "execution_count": 4,
     "metadata": {},
     "output_type": "execute_result"
    }
   ],
   "source": [
    "df.head()"
   ]
  },
  {
   "cell_type": "code",
   "execution_count": 5,
   "id": "175c3264",
   "metadata": {},
   "outputs": [],
   "source": [
    "# nos quedamos solo con los archivos válidos\n",
    "df = df.loc[df.corrupt == False]"
   ]
  },
  {
   "cell_type": "code",
   "execution_count": 6,
   "id": "7a9838bb",
   "metadata": {},
   "outputs": [
    {
     "data": {
      "text/html": [
       "<div>\n",
       "<style scoped>\n",
       "    .dataframe tbody tr th:only-of-type {\n",
       "        vertical-align: middle;\n",
       "    }\n",
       "\n",
       "    .dataframe tbody tr th {\n",
       "        vertical-align: top;\n",
       "    }\n",
       "\n",
       "    .dataframe thead th {\n",
       "        text-align: right;\n",
       "    }\n",
       "</style>\n",
       "<table border=\"1\" class=\"dataframe\">\n",
       "  <thead>\n",
       "    <tr style=\"text-align: right;\">\n",
       "      <th></th>\n",
       "      <th>photo_id</th>\n",
       "      <th>label</th>\n",
       "    </tr>\n",
       "  </thead>\n",
       "  <tbody>\n",
       "    <tr>\n",
       "      <th>0</th>\n",
       "      <td>--0h6FMC0V8aMtKQylojEg</td>\n",
       "      <td>inside</td>\n",
       "    </tr>\n",
       "    <tr>\n",
       "      <th>1</th>\n",
       "      <td>--3JQ4MlO-jHT9xbo7liug</td>\n",
       "      <td>food</td>\n",
       "    </tr>\n",
       "    <tr>\n",
       "      <th>2</th>\n",
       "      <td>--3P3fjPrScy06XVLi4vhg</td>\n",
       "      <td>inside</td>\n",
       "    </tr>\n",
       "    <tr>\n",
       "      <th>3</th>\n",
       "      <td>--4DfhW2sJvjeC90KEDX3g</td>\n",
       "      <td>inside</td>\n",
       "    </tr>\n",
       "    <tr>\n",
       "      <th>4</th>\n",
       "      <td>--5V3mRlhb3zqE5yF4Gpaw</td>\n",
       "      <td>inside</td>\n",
       "    </tr>\n",
       "    <tr>\n",
       "      <th>...</th>\n",
       "      <td>...</td>\n",
       "      <td>...</td>\n",
       "    </tr>\n",
       "    <tr>\n",
       "      <th>199993</th>\n",
       "      <td>zzvNHEgplGVXAzxDJ_I0dg</td>\n",
       "      <td>drink</td>\n",
       "    </tr>\n",
       "    <tr>\n",
       "      <th>199994</th>\n",
       "      <td>zzwVMQ3NIAHCmNe4hJa4qw</td>\n",
       "      <td>outside</td>\n",
       "    </tr>\n",
       "    <tr>\n",
       "      <th>199995</th>\n",
       "      <td>zzwXBLKbKiJnEPTqKTHAiw</td>\n",
       "      <td>food</td>\n",
       "    </tr>\n",
       "    <tr>\n",
       "      <th>199996</th>\n",
       "      <td>zzyP051L-ROFT9nMzMDPjQ</td>\n",
       "      <td>food</td>\n",
       "    </tr>\n",
       "    <tr>\n",
       "      <th>199997</th>\n",
       "      <td>zzyhsUoIrOMxfqWEJ9YSCA</td>\n",
       "      <td>inside</td>\n",
       "    </tr>\n",
       "  </tbody>\n",
       "</table>\n",
       "<p>199998 rows × 2 columns</p>\n",
       "</div>"
      ],
      "text/plain": [
       "                      photo_id    label\n",
       "0       --0h6FMC0V8aMtKQylojEg   inside\n",
       "1       --3JQ4MlO-jHT9xbo7liug     food\n",
       "2       --3P3fjPrScy06XVLi4vhg   inside\n",
       "3       --4DfhW2sJvjeC90KEDX3g   inside\n",
       "4       --5V3mRlhb3zqE5yF4Gpaw   inside\n",
       "...                        ...      ...\n",
       "199993  zzvNHEgplGVXAzxDJ_I0dg    drink\n",
       "199994  zzwVMQ3NIAHCmNe4hJa4qw  outside\n",
       "199995  zzwXBLKbKiJnEPTqKTHAiw     food\n",
       "199996  zzyP051L-ROFT9nMzMDPjQ     food\n",
       "199997  zzyhsUoIrOMxfqWEJ9YSCA   inside\n",
       "\n",
       "[199998 rows x 2 columns]"
      ]
     },
     "execution_count": 6,
     "metadata": {},
     "output_type": "execute_result"
    }
   ],
   "source": [
    "# nos quedamos con photo_id y label\n",
    "df = df.drop(columns=['x_dim', 'y_dim', 'z_channels', 'pixels','corrupt']).reset_index()\n",
    "df"
   ]
  },
  {
   "cell_type": "markdown",
   "id": "388cee19",
   "metadata": {},
   "source": [
    "## Generar Train"
   ]
  },
  {
   "cell_type": "code",
   "execution_count": 7,
   "id": "cbf3a0ad",
   "metadata": {},
   "outputs": [],
   "source": [
    "## Seleccionar 80% x max_photos fotos de cada categoría\n",
    "df_subset = pd.DataFrame([], columns=['photo_id',\n",
    "                                'label'])\n",
    "total_photos = df.label.value_counts()\n",
    "for label in total_photos.index:\n",
    "    if total_photos[label] > max_photos: # Hay muchas fotos. Preservar un subconjunto.\n",
    "        df_subset = pd.concat([df_subset,\n",
    "                            df.loc[df.label == label].sample(n=int(max_photos*0.8))])\n",
    "    else: # Hay pocas fotos. Preservar todas.\n",
    "        df_subset = pd.concat([df_subset,\n",
    "                            df.loc[df.label == label]])\n",
    "df_train = df_subset"
   ]
  },
  {
   "cell_type": "markdown",
   "id": "8c6090e7",
   "metadata": {},
   "source": [
    "## Generar Test"
   ]
  },
  {
   "cell_type": "code",
   "execution_count": 8,
   "id": "b55a513f",
   "metadata": {},
   "outputs": [],
   "source": [
    "## Seleccionar 20% x max_photos de cada categoría\n",
    "df_subset = pd.DataFrame([], columns=['photo_id',\n",
    "                                'label'])\n",
    "for label in total_photos.index:\n",
    "    if total_photos[label] > max_photos: # Hay muchas fotos. Preservar un subconjunto.\n",
    "        df_subset = pd.concat([df_subset,\n",
    "                            df.loc[df.label == label].sample(n=int(max_photos*0.2))])\n",
    "    else: # Hay pocas fotos. Preservar todas.\n",
    "        df_subset = pd.concat([df_subset,\n",
    "                            df.loc[df.label == label]])\n",
    "df_test = df_subset"
   ]
  },
  {
   "cell_type": "code",
   "execution_count": 9,
   "id": "c271946e",
   "metadata": {},
   "outputs": [
    {
     "data": {
      "text/plain": [
       "food       80\n",
       "inside     80\n",
       "outside    80\n",
       "drink      80\n",
       "menu       80\n",
       "Name: label, dtype: int64"
      ]
     },
     "execution_count": 9,
     "metadata": {},
     "output_type": "execute_result"
    }
   ],
   "source": [
    "df_train.label.value_counts()"
   ]
  },
  {
   "cell_type": "code",
   "execution_count": 10,
   "id": "6e5ae80e",
   "metadata": {},
   "outputs": [
    {
     "data": {
      "text/plain": [
       "food       20\n",
       "inside     20\n",
       "outside    20\n",
       "drink      20\n",
       "menu       20\n",
       "Name: label, dtype: int64"
      ]
     },
     "execution_count": 10,
     "metadata": {},
     "output_type": "execute_result"
    }
   ],
   "source": [
    "df_test.label.value_counts()"
   ]
  },
  {
   "cell_type": "markdown",
   "id": "86134605",
   "metadata": {},
   "source": [
    "## Cargar fotos el el dataframe\n",
    "Queremos:\n",
    "\n",
    "`X.shape = (N, photo_size, photo_size, 3)\n",
    "y.shape = (N, P)`\n",
    "\n",
    "Donde:\n",
    "- N es el número de imagenes (P x max_photos).\n",
    "- P es el número de categorías (labels)\n",
    "\n",
    "Las fotos se escalarán y recortarán a 224 x 224."
   ]
  },
  {
   "cell_type": "markdown",
   "id": "71894206",
   "metadata": {},
   "source": [
    "### Train"
   ]
  },
  {
   "cell_type": "code",
   "execution_count": 11,
   "id": "9c927284",
   "metadata": {},
   "outputs": [],
   "source": [
    "df2_train = df_train.copy()\n",
    "df2_train['image']=\"\""
   ]
  },
  {
   "cell_type": "code",
   "execution_count": 12,
   "id": "cf65851a",
   "metadata": {},
   "outputs": [
    {
     "data": {
      "text/html": [
       "<div>\n",
       "<style scoped>\n",
       "    .dataframe tbody tr th:only-of-type {\n",
       "        vertical-align: middle;\n",
       "    }\n",
       "\n",
       "    .dataframe tbody tr th {\n",
       "        vertical-align: top;\n",
       "    }\n",
       "\n",
       "    .dataframe thead th {\n",
       "        text-align: right;\n",
       "    }\n",
       "</style>\n",
       "<table border=\"1\" class=\"dataframe\">\n",
       "  <thead>\n",
       "    <tr style=\"text-align: right;\">\n",
       "      <th></th>\n",
       "      <th>photo_id</th>\n",
       "      <th>label</th>\n",
       "      <th>image</th>\n",
       "    </tr>\n",
       "  </thead>\n",
       "  <tbody>\n",
       "    <tr>\n",
       "      <th>74432</th>\n",
       "      <td>MlYpwAeZtzG4DXdklk4BYQ</td>\n",
       "      <td>food</td>\n",
       "      <td></td>\n",
       "    </tr>\n",
       "    <tr>\n",
       "      <th>160946</th>\n",
       "      <td>nWSVIZ8Ap01LI_oJ3NEsRw</td>\n",
       "      <td>food</td>\n",
       "      <td></td>\n",
       "    </tr>\n",
       "    <tr>\n",
       "      <th>24416</th>\n",
       "      <td>6oGua7BmeCTxLX9krvr_XQ</td>\n",
       "      <td>food</td>\n",
       "      <td></td>\n",
       "    </tr>\n",
       "    <tr>\n",
       "      <th>94874</th>\n",
       "      <td>THj2Is-2OkYO-DvggsXoJQ</td>\n",
       "      <td>food</td>\n",
       "      <td></td>\n",
       "    </tr>\n",
       "    <tr>\n",
       "      <th>171196</th>\n",
       "      <td>qkPngYufBT6-72tzq9m3BA</td>\n",
       "      <td>food</td>\n",
       "      <td></td>\n",
       "    </tr>\n",
       "  </tbody>\n",
       "</table>\n",
       "</div>"
      ],
      "text/plain": [
       "                      photo_id label image\n",
       "74432   MlYpwAeZtzG4DXdklk4BYQ  food      \n",
       "160946  nWSVIZ8Ap01LI_oJ3NEsRw  food      \n",
       "24416   6oGua7BmeCTxLX9krvr_XQ  food      \n",
       "94874   THj2Is-2OkYO-DvggsXoJQ  food      \n",
       "171196  qkPngYufBT6-72tzq9m3BA  food      "
      ]
     },
     "execution_count": 12,
     "metadata": {},
     "output_type": "execute_result"
    }
   ],
   "source": [
    "df2_train.head()"
   ]
  },
  {
   "cell_type": "code",
   "execution_count": 13,
   "id": "969a6860",
   "metadata": {},
   "outputs": [],
   "source": [
    "example_photo = Image.open('{}/{}.jpg'.format(dataset_photos_path, df2_train.iloc[1].photo_id))"
   ]
  },
  {
   "cell_type": "code",
   "execution_count": 14,
   "id": "f1799407",
   "metadata": {},
   "outputs": [
    {
     "data": {
      "image/png": "[encoded data removed]",
      "text/plain": [
       "<PIL.JpegImagePlugin.JpegImageFile image mode=RGB size=275x183>"
      ]
     },
     "execution_count": 14,
     "metadata": {},
     "output_type": "execute_result"
    }
   ],
   "source": [
    "example_photo"
   ]
  },
  {
   "cell_type": "code",
   "execution_count": 15,
   "id": "0d8396ef",
   "metadata": {},
   "outputs": [
    {
     "data": {
      "text/plain": [
       "(275, 183)"
      ]
     },
     "execution_count": 15,
     "metadata": {},
     "output_type": "execute_result"
    }
   ],
   "source": [
    "example_photo.size"
   ]
  },
  {
   "cell_type": "code",
   "execution_count": 16,
   "id": "d59f8cbe",
   "metadata": {},
   "outputs": [
    {
     "data": {
      "application/vnd.jupyter.widget-view+json": {
       "model_id": "8a7bddf9ce9b4a1a93d140b5b64d7524",
       "version_major": 2,
       "version_minor": 0
      },
      "text/plain": [
       "Photos cropped:   0%|          | 0/400 [00:00<?, ?it/s]"
      ]
     },
     "metadata": {},
     "output_type": "display_data"
    }
   ],
   "source": [
    "# redimensionar, recortar y guardar fotos\n",
    "\n",
    "for im_pos in tqdm(range(len(df_train)), desc='Photos cropped', miniters=len(df_train)//100):\n",
    "    \n",
    "    with Image.open('{}/{}.jpg'.format(dataset_photos_path, df_train.iloc[im_pos].photo_id)) as image:\n",
    "\n",
    "        width = image.size[0]\n",
    "        height = image.size[1]\n",
    "\n",
    "        # redimensionar\n",
    "        if (height < width): # imagen estrecha\n",
    "            height = int(photo_size)\n",
    "            height = math.floor(photo_size * width/height)\n",
    "        else: # imagen ancha\n",
    "            width = math.floor(photo_size * height/width)\n",
    "            height = int(photo_size)\n",
    "\n",
    "        resized = T.Resize((height, width))(image)\n",
    "        cropped = T.CenterCrop(size=int(photo_size))(resized)\n",
    "        \n",
    "        df2_train.iloc[im_pos,2]=cropped"
   ]
  },
  {
   "cell_type": "code",
   "execution_count": 17,
   "id": "77a79c0c",
   "metadata": {},
   "outputs": [
    {
     "data": {
      "text/html": [
       "<div>\n",
       "<style scoped>\n",
       "    .dataframe tbody tr th:only-of-type {\n",
       "        vertical-align: middle;\n",
       "    }\n",
       "\n",
       "    .dataframe tbody tr th {\n",
       "        vertical-align: top;\n",
       "    }\n",
       "\n",
       "    .dataframe thead th {\n",
       "        text-align: right;\n",
       "    }\n",
       "</style>\n",
       "<table border=\"1\" class=\"dataframe\">\n",
       "  <thead>\n",
       "    <tr style=\"text-align: right;\">\n",
       "      <th></th>\n",
       "      <th>photo_id</th>\n",
       "      <th>label</th>\n",
       "      <th>image</th>\n",
       "    </tr>\n",
       "  </thead>\n",
       "  <tbody>\n",
       "    <tr>\n",
       "      <th>74432</th>\n",
       "      <td>MlYpwAeZtzG4DXdklk4BYQ</td>\n",
       "      <td>food</td>\n",
       "      <td>&lt;PIL.Image.Image image mode=RGB size=100x100 a...</td>\n",
       "    </tr>\n",
       "    <tr>\n",
       "      <th>160946</th>\n",
       "      <td>nWSVIZ8Ap01LI_oJ3NEsRw</td>\n",
       "      <td>food</td>\n",
       "      <td>&lt;PIL.Image.Image image mode=RGB size=100x100 a...</td>\n",
       "    </tr>\n",
       "    <tr>\n",
       "      <th>24416</th>\n",
       "      <td>6oGua7BmeCTxLX9krvr_XQ</td>\n",
       "      <td>food</td>\n",
       "      <td>&lt;PIL.Image.Image image mode=RGB size=100x100 a...</td>\n",
       "    </tr>\n",
       "    <tr>\n",
       "      <th>94874</th>\n",
       "      <td>THj2Is-2OkYO-DvggsXoJQ</td>\n",
       "      <td>food</td>\n",
       "      <td>&lt;PIL.Image.Image image mode=RGB size=100x100 a...</td>\n",
       "    </tr>\n",
       "    <tr>\n",
       "      <th>171196</th>\n",
       "      <td>qkPngYufBT6-72tzq9m3BA</td>\n",
       "      <td>food</td>\n",
       "      <td>&lt;PIL.Image.Image image mode=RGB size=100x100 a...</td>\n",
       "    </tr>\n",
       "  </tbody>\n",
       "</table>\n",
       "</div>"
      ],
      "text/plain": [
       "                      photo_id label  \\\n",
       "74432   MlYpwAeZtzG4DXdklk4BYQ  food   \n",
       "160946  nWSVIZ8Ap01LI_oJ3NEsRw  food   \n",
       "24416   6oGua7BmeCTxLX9krvr_XQ  food   \n",
       "94874   THj2Is-2OkYO-DvggsXoJQ  food   \n",
       "171196  qkPngYufBT6-72tzq9m3BA  food   \n",
       "\n",
       "                                                    image  \n",
       "74432   <PIL.Image.Image image mode=RGB size=100x100 a...  \n",
       "160946  <PIL.Image.Image image mode=RGB size=100x100 a...  \n",
       "24416   <PIL.Image.Image image mode=RGB size=100x100 a...  \n",
       "94874   <PIL.Image.Image image mode=RGB size=100x100 a...  \n",
       "171196  <PIL.Image.Image image mode=RGB size=100x100 a...  "
      ]
     },
     "execution_count": 17,
     "metadata": {},
     "output_type": "execute_result"
    }
   ],
   "source": [
    "df2_train.head()"
   ]
  },
  {
   "cell_type": "code",
   "execution_count": 18,
   "id": "7ff1cf7f",
   "metadata": {},
   "outputs": [
    {
     "data": {
      "image/png": "[encoded data removed]",
      "text/plain": [
       "<PIL.Image.Image image mode=RGB size=100x100>"
      ]
     },
     "execution_count": 18,
     "metadata": {},
     "output_type": "execute_result"
    }
   ],
   "source": [
    "df2_train.iloc[1,2] # 2 = columna 'image'"
   ]
  },
  {
   "cell_type": "markdown",
   "id": "a205b75d",
   "metadata": {},
   "source": [
    "### Test"
   ]
  },
  {
   "cell_type": "code",
   "execution_count": 19,
   "id": "893ad3e0",
   "metadata": {},
   "outputs": [],
   "source": [
    "df2_test = df_test.copy()\n",
    "df2_test['image']=\"\""
   ]
  },
  {
   "cell_type": "code",
   "execution_count": 20,
   "id": "16779c62",
   "metadata": {},
   "outputs": [
    {
     "data": {
      "application/vnd.jupyter.widget-view+json": {
       "model_id": "9a7680c2ae544862aff306ea7fadba51",
       "version_major": 2,
       "version_minor": 0
      },
      "text/plain": [
       "Photos cropped:   0%|          | 0/100 [00:00<?, ?it/s]"
      ]
     },
     "metadata": {},
     "output_type": "display_data"
    }
   ],
   "source": [
    "# redimensionar, recortar y guardar fotos\n",
    "\n",
    "for im_pos in tqdm(range(len(df_test)), desc='Photos cropped', miniters=len(df_test)//100):\n",
    "    \n",
    "    with Image.open('{}/{}.jpg'.format(dataset_photos_path, df_test.iloc[im_pos].photo_id)) as image:\n",
    "\n",
    "        width = image.size[0]\n",
    "        height = image.size[1]\n",
    "\n",
    "        # redimensionar\n",
    "        if (height < width): # imagen estrecha\n",
    "            height = int(photo_size)\n",
    "            height = math.floor(photo_size * width/height)\n",
    "        else: # imagen ancha\n",
    "            width = math.floor(photo_size * height/width)\n",
    "            height = int(photo_size)\n",
    "\n",
    "        resized = T.Resize((height, width))(image)\n",
    "        cropped = T.CenterCrop(size=int(photo_size))(resized)\n",
    "        \n",
    "        df2_test.iloc[im_pos,2]=cropped"
   ]
  },
  {
   "cell_type": "code",
   "execution_count": 22,
   "id": "d6fbe5ca",
   "metadata": {},
   "outputs": [
    {
     "data": {
      "text/html": [
       "<div>\n",
       "<style scoped>\n",
       "    .dataframe tbody tr th:only-of-type {\n",
       "        vertical-align: middle;\n",
       "    }\n",
       "\n",
       "    .dataframe tbody tr th {\n",
       "        vertical-align: top;\n",
       "    }\n",
       "\n",
       "    .dataframe thead th {\n",
       "        text-align: right;\n",
       "    }\n",
       "</style>\n",
       "<table border=\"1\" class=\"dataframe\">\n",
       "  <thead>\n",
       "    <tr style=\"text-align: right;\">\n",
       "      <th></th>\n",
       "      <th>photo_id</th>\n",
       "      <th>label</th>\n",
       "      <th>image</th>\n",
       "    </tr>\n",
       "  </thead>\n",
       "  <tbody>\n",
       "    <tr>\n",
       "      <th>45549</th>\n",
       "      <td>D_EpdvT3AnBy5ywS79YubA</td>\n",
       "      <td>food</td>\n",
       "      <td>&lt;PIL.Image.Image image mode=RGB size=100x100 a...</td>\n",
       "    </tr>\n",
       "    <tr>\n",
       "      <th>26846</th>\n",
       "      <td>7ae9QsqXdKC-BvFJ7j1ukg</td>\n",
       "      <td>food</td>\n",
       "      <td>&lt;PIL.Image.Image image mode=RGB size=100x100 a...</td>\n",
       "    </tr>\n",
       "    <tr>\n",
       "      <th>56237</th>\n",
       "      <td>H-0cnfhX-KL9rkGKzMl-Qw</td>\n",
       "      <td>food</td>\n",
       "      <td>&lt;PIL.Image.Image image mode=RGB size=100x100 a...</td>\n",
       "    </tr>\n",
       "    <tr>\n",
       "      <th>92532</th>\n",
       "      <td>SWrMDtuCnDrUswIsIvKAWg</td>\n",
       "      <td>food</td>\n",
       "      <td>&lt;PIL.Image.Image image mode=RGB size=100x100 a...</td>\n",
       "    </tr>\n",
       "    <tr>\n",
       "      <th>87364</th>\n",
       "      <td>Qra6xPoIGpnw4cO1DomPVQ</td>\n",
       "      <td>food</td>\n",
       "      <td>&lt;PIL.Image.Image image mode=RGB size=100x100 a...</td>\n",
       "    </tr>\n",
       "  </tbody>\n",
       "</table>\n",
       "</div>"
      ],
      "text/plain": [
       "                     photo_id label  \\\n",
       "45549  D_EpdvT3AnBy5ywS79YubA  food   \n",
       "26846  7ae9QsqXdKC-BvFJ7j1ukg  food   \n",
       "56237  H-0cnfhX-KL9rkGKzMl-Qw  food   \n",
       "92532  SWrMDtuCnDrUswIsIvKAWg  food   \n",
       "87364  Qra6xPoIGpnw4cO1DomPVQ  food   \n",
       "\n",
       "                                                   image  \n",
       "45549  <PIL.Image.Image image mode=RGB size=100x100 a...  \n",
       "26846  <PIL.Image.Image image mode=RGB size=100x100 a...  \n",
       "56237  <PIL.Image.Image image mode=RGB size=100x100 a...  \n",
       "92532  <PIL.Image.Image image mode=RGB size=100x100 a...  \n",
       "87364  <PIL.Image.Image image mode=RGB size=100x100 a...  "
      ]
     },
     "execution_count": 22,
     "metadata": {},
     "output_type": "execute_result"
    }
   ],
   "source": [
    "df2_test.head()"
   ]
  },
  {
   "cell_type": "markdown",
   "id": "097d16f3",
   "metadata": {},
   "source": [
    "## Generar X"
   ]
  },
  {
   "cell_type": "markdown",
   "id": "cf95ecda",
   "metadata": {},
   "source": [
    "### X_train"
   ]
  },
  {
   "cell_type": "code",
   "execution_count": 23,
   "id": "57b9c50b",
   "metadata": {},
   "outputs": [],
   "source": [
    "series_X_train = df2_train.image.map(lambda img: np.array(img.getdata()).reshape(photo_size, photo_size, 3))"
   ]
  },
  {
   "cell_type": "code",
   "execution_count": 24,
   "id": "a11bf67b",
   "metadata": {},
   "outputs": [],
   "source": [
    "X_train = np.stack(series_X_train.to_numpy(copy=True))"
   ]
  },
  {
   "cell_type": "code",
   "execution_count": 25,
   "id": "f1afef4d",
   "metadata": {},
   "outputs": [
    {
     "data": {
      "text/plain": [
       "(400, 100, 100, 3)"
      ]
     },
     "execution_count": 25,
     "metadata": {},
     "output_type": "execute_result"
    }
   ],
   "source": [
    "X_train.shape"
   ]
  },
  {
   "cell_type": "markdown",
   "id": "7df8a036",
   "metadata": {},
   "source": [
    "### X_test"
   ]
  },
  {
   "cell_type": "code",
   "execution_count": 26,
   "id": "5cf50652",
   "metadata": {},
   "outputs": [],
   "source": [
    "series_X_test = df2_test.image.map(lambda img: np.array(img.getdata()).reshape(photo_size, photo_size, 3))"
   ]
  },
  {
   "cell_type": "code",
   "execution_count": 27,
   "id": "6f861b84",
   "metadata": {},
   "outputs": [],
   "source": [
    "X_test = np.stack(series_X_test.to_numpy(copy=True))"
   ]
  },
  {
   "cell_type": "code",
   "execution_count": 28,
   "id": "948b7284",
   "metadata": {},
   "outputs": [
    {
     "data": {
      "text/plain": [
       "(100, 100, 100, 3)"
      ]
     },
     "execution_count": 28,
     "metadata": {},
     "output_type": "execute_result"
    }
   ],
   "source": [
    "X_test.shape"
   ]
  },
  {
   "cell_type": "markdown",
   "id": "dedb967b",
   "metadata": {},
   "source": [
    "## Generar y"
   ]
  },
  {
   "cell_type": "markdown",
   "id": "3a904f0b",
   "metadata": {},
   "source": [
    "### y_train"
   ]
  },
  {
   "cell_type": "code",
   "execution_count": 32,
   "id": "a0ef30b9",
   "metadata": {},
   "outputs": [],
   "source": [
    "labels_train = df2_train.label"
   ]
  },
  {
   "cell_type": "code",
   "execution_count": 33,
   "id": "52930484",
   "metadata": {
    "scrolled": true
   },
   "outputs": [
    {
     "data": {
      "text/plain": [
       "74432     food\n",
       "160946    food\n",
       "24416     food\n",
       "94874     food\n",
       "171196    food\n",
       "Name: label, dtype: object"
      ]
     },
     "execution_count": 33,
     "metadata": {},
     "output_type": "execute_result"
    }
   ],
   "source": [
    "labels_train.head()"
   ]
  },
  {
   "cell_type": "code",
   "execution_count": 34,
   "id": "5a8d8ee2",
   "metadata": {},
   "outputs": [
    {
     "data": {
      "text/plain": [
       "['food', 'inside', 'outside', 'drink', 'menu']"
      ]
     },
     "execution_count": 34,
     "metadata": {},
     "output_type": "execute_result"
    }
   ],
   "source": [
    "categories = list(labels_train.unique())\n",
    "categories"
   ]
  },
  {
   "cell_type": "code",
   "execution_count": 35,
   "id": "74ab2d03",
   "metadata": {},
   "outputs": [
    {
     "data": {
      "text/plain": [
       "74432     0\n",
       "160946    0\n",
       "24416     0\n",
       "94874     0\n",
       "171196    0\n",
       "Name: label, dtype: int64"
      ]
     },
     "execution_count": 35,
     "metadata": {},
     "output_type": "execute_result"
    }
   ],
   "source": [
    "y_train_int = labels_train.map(lambda label: categories.index(label))\n",
    "y_train_int.head()"
   ]
  },
  {
   "cell_type": "code",
   "execution_count": 42,
   "id": "08b9ca80",
   "metadata": {},
   "outputs": [
    {
     "data": {
      "text/plain": [
       "array([[1., 0., 0., 0., 0.],\n",
       "       [1., 0., 0., 0., 0.],\n",
       "       [1., 0., 0., 0., 0.],\n",
       "       ...,\n",
       "       [0., 0., 0., 0., 1.],\n",
       "       [0., 0., 0., 0., 1.],\n",
       "       [0., 0., 0., 0., 1.]], dtype=float32)"
      ]
     },
     "execution_count": 42,
     "metadata": {},
     "output_type": "execute_result"
    }
   ],
   "source": [
    "y_train = np_utils.to_categorical(y_train_int, len(categories))\n",
    "y_train"
   ]
  },
  {
   "cell_type": "markdown",
   "id": "46eee2a2",
   "metadata": {},
   "source": [
    "### y_test"
   ]
  },
  {
   "cell_type": "code",
   "execution_count": 43,
   "id": "968cc6f4",
   "metadata": {},
   "outputs": [],
   "source": [
    "labels_test = df2_test.label"
   ]
  },
  {
   "cell_type": "code",
   "execution_count": 44,
   "id": "daf7b51a",
   "metadata": {},
   "outputs": [],
   "source": [
    "y_test_int = labels_test.map(lambda label: categories.index(label))"
   ]
  },
  {
   "cell_type": "code",
   "execution_count": 45,
   "id": "ebe2e0eb",
   "metadata": {},
   "outputs": [
    {
     "data": {
      "text/plain": [
       "array([[1., 0., 0., 0., 0.],\n",
       "       [1., 0., 0., 0., 0.],\n",
       "       [1., 0., 0., 0., 0.],\n",
       "       [1., 0., 0., 0., 0.],\n",
       "       [1., 0., 0., 0., 0.],\n",
       "       [1., 0., 0., 0., 0.],\n",
       "       [1., 0., 0., 0., 0.],\n",
       "       [1., 0., 0., 0., 0.],\n",
       "       [1., 0., 0., 0., 0.],\n",
       "       [1., 0., 0., 0., 0.],\n",
       "       [1., 0., 0., 0., 0.],\n",
       "       [1., 0., 0., 0., 0.],\n",
       "       [1., 0., 0., 0., 0.],\n",
       "       [1., 0., 0., 0., 0.],\n",
       "       [1., 0., 0., 0., 0.],\n",
       "       [1., 0., 0., 0., 0.],\n",
       "       [1., 0., 0., 0., 0.],\n",
       "       [1., 0., 0., 0., 0.],\n",
       "       [1., 0., 0., 0., 0.],\n",
       "       [1., 0., 0., 0., 0.],\n",
       "       [0., 1., 0., 0., 0.],\n",
       "       [0., 1., 0., 0., 0.],\n",
       "       [0., 1., 0., 0., 0.],\n",
       "       [0., 1., 0., 0., 0.],\n",
       "       [0., 1., 0., 0., 0.],\n",
       "       [0., 1., 0., 0., 0.],\n",
       "       [0., 1., 0., 0., 0.],\n",
       "       [0., 1., 0., 0., 0.],\n",
       "       [0., 1., 0., 0., 0.],\n",
       "       [0., 1., 0., 0., 0.],\n",
       "       [0., 1., 0., 0., 0.],\n",
       "       [0., 1., 0., 0., 0.],\n",
       "       [0., 1., 0., 0., 0.],\n",
       "       [0., 1., 0., 0., 0.],\n",
       "       [0., 1., 0., 0., 0.],\n",
       "       [0., 1., 0., 0., 0.],\n",
       "       [0., 1., 0., 0., 0.],\n",
       "       [0., 1., 0., 0., 0.],\n",
       "       [0., 1., 0., 0., 0.],\n",
       "       [0., 1., 0., 0., 0.],\n",
       "       [0., 0., 1., 0., 0.],\n",
       "       [0., 0., 1., 0., 0.],\n",
       "       [0., 0., 1., 0., 0.],\n",
       "       [0., 0., 1., 0., 0.],\n",
       "       [0., 0., 1., 0., 0.],\n",
       "       [0., 0., 1., 0., 0.],\n",
       "       [0., 0., 1., 0., 0.],\n",
       "       [0., 0., 1., 0., 0.],\n",
       "       [0., 0., 1., 0., 0.],\n",
       "       [0., 0., 1., 0., 0.],\n",
       "       [0., 0., 1., 0., 0.],\n",
       "       [0., 0., 1., 0., 0.],\n",
       "       [0., 0., 1., 0., 0.],\n",
       "       [0., 0., 1., 0., 0.],\n",
       "       [0., 0., 1., 0., 0.],\n",
       "       [0., 0., 1., 0., 0.],\n",
       "       [0., 0., 1., 0., 0.],\n",
       "       [0., 0., 1., 0., 0.],\n",
       "       [0., 0., 1., 0., 0.],\n",
       "       [0., 0., 1., 0., 0.],\n",
       "       [0., 0., 0., 1., 0.],\n",
       "       [0., 0., 0., 1., 0.],\n",
       "       [0., 0., 0., 1., 0.],\n",
       "       [0., 0., 0., 1., 0.],\n",
       "       [0., 0., 0., 1., 0.],\n",
       "       [0., 0., 0., 1., 0.],\n",
       "       [0., 0., 0., 1., 0.],\n",
       "       [0., 0., 0., 1., 0.],\n",
       "       [0., 0., 0., 1., 0.],\n",
       "       [0., 0., 0., 1., 0.],\n",
       "       [0., 0., 0., 1., 0.],\n",
       "       [0., 0., 0., 1., 0.],\n",
       "       [0., 0., 0., 1., 0.],\n",
       "       [0., 0., 0., 1., 0.],\n",
       "       [0., 0., 0., 1., 0.],\n",
       "       [0., 0., 0., 1., 0.],\n",
       "       [0., 0., 0., 1., 0.],\n",
       "       [0., 0., 0., 1., 0.],\n",
       "       [0., 0., 0., 1., 0.],\n",
       "       [0., 0., 0., 1., 0.],\n",
       "       [0., 0., 0., 0., 1.],\n",
       "       [0., 0., 0., 0., 1.],\n",
       "       [0., 0., 0., 0., 1.],\n",
       "       [0., 0., 0., 0., 1.],\n",
       "       [0., 0., 0., 0., 1.],\n",
       "       [0., 0., 0., 0., 1.],\n",
       "       [0., 0., 0., 0., 1.],\n",
       "       [0., 0., 0., 0., 1.],\n",
       "       [0., 0., 0., 0., 1.],\n",
       "       [0., 0., 0., 0., 1.],\n",
       "       [0., 0., 0., 0., 1.],\n",
       "       [0., 0., 0., 0., 1.],\n",
       "       [0., 0., 0., 0., 1.],\n",
       "       [0., 0., 0., 0., 1.],\n",
       "       [0., 0., 0., 0., 1.],\n",
       "       [0., 0., 0., 0., 1.],\n",
       "       [0., 0., 0., 0., 1.],\n",
       "       [0., 0., 0., 0., 1.],\n",
       "       [0., 0., 0., 0., 1.],\n",
       "       [0., 0., 0., 0., 1.]], dtype=float32)"
      ]
     },
     "execution_count": 45,
     "metadata": {},
     "output_type": "execute_result"
    }
   ],
   "source": [
    "y_test = np_utils.to_categorical(y_test_int, len(categories))\n",
    "y_test"
   ]
  },
  {
   "cell_type": "markdown",
   "id": "57c44842",
   "metadata": {},
   "source": [
    "## WIP / Prueba normalización"
   ]
  },
  {
   "cell_type": "raw",
   "id": "a8583003",
   "metadata": {},
   "source": [
    "from PIL import Image, ImageStat\n",
    "im_pos = 2\n",
    "with Image.open('{}/{}.jpg'.format(dataset_photos_path, df1.iloc[im_pos].photo_id)) as img:\n",
    "\n",
    "    mean = ImageStat.Stat(img).mean\n",
    "    std = ImageStat.Stat(img).stddev\n",
    "    width = image.size[0]\n",
    "    height = image.size[1]\n",
    "\n",
    "    transform = T.Compose([\n",
    "        T.Resize((height, width)),\n",
    "        T.CenterCrop(size=int(photo_size)),\n",
    "        T.ToTensor(),\n",
    "        T.Normalize(mean, std),\n",
    "        T.ToPILImage()\n",
    "    ])\n",
    "\n",
    "    img_tr = transform(img)\n",
    "\n",
    "    img_np = np.array(img_tr)"
   ]
  },
  {
   "cell_type": "code",
   "execution_count": null,
   "id": "f1d4a529",
   "metadata": {},
   "outputs": [],
   "source": [
    "img"
   ]
  },
  {
   "cell_type": "code",
   "execution_count": null,
   "id": "8473931b",
   "metadata": {},
   "outputs": [],
   "source": [
    "img_tr"
   ]
  },
  {
   "cell_type": "code",
   "execution_count": null,
   "id": "335fda58",
   "metadata": {},
   "outputs": [],
   "source": [
    "img_np"
   ]
  }
 ],
 "metadata": {
  "kernelspec": {
   "display_name": "Python 3 (ipykernel)",
   "language": "python",
   "name": "python3"
  },
  "language_info": {
   "codemirror_mode": {
    "name": "ipython",
    "version": 3
   },
   "file_extension": ".py",
   "mimetype": "text/x-python",
   "name": "python",
   "nbconvert_exporter": "python",
   "pygments_lexer": "ipython3",
   "version": "3.8.10"
  }
 },
 "nbformat": 4,
 "nbformat_minor": 5
}
