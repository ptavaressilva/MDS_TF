{
 "cells": [
  {
   "cell_type": "markdown",
   "id": "f2a00c6b",
   "metadata": {},
   "source": [
    "# Preparación para el TF MDS\n",
    "\n",
    "## Preparación de los datos\n",
    "\n",
    "Dataset: https://www.yelp.com/dataset/documentation/main\n",
    "\n",
    "Crea un dataframe con 100 fotos de cada categoría (label), escaladas y recortadas a 100 x 100\n",
    "\n",
    "**Requiere ejecución del notebook '00_EDA.ipynb'** para generar el archivo checkpoints/df3.pkl"
   ]
  },
  {
   "cell_type": "code",
   "execution_count": 1,
   "id": "22a5b218",
   "metadata": {},
   "outputs": [
    {
     "name": "stderr",
     "output_type": "stream",
     "text": [
      "/usr/lib/python3/dist-packages/requests/__init__.py:89: RequestsDependencyWarning: urllib3 (1.26.11) or chardet (3.0.4) doesn't match a supported version!\n",
      "  warnings.warn(\"urllib3 ({}) or chardet ({}) doesn't match a supported \"\n",
      "2022-09-05 15:24:43.100994: W tensorflow/stream_executor/platform/default/dso_loader.cc:64] Could not load dynamic library 'libcudart.so.11.0'; dlerror: libcudart.so.11.0: cannot open shared object file: No such file or directory\n",
      "2022-09-05 15:24:43.101140: I tensorflow/stream_executor/cuda/cudart_stub.cc:29] Ignore above cudart dlerror if you do not have a GPU set up on your machine.\n"
     ]
    }
   ],
   "source": [
    "import os\n",
    "import pickle\n",
    "import pandas as pd\n",
    "from PIL import Image\n",
    "from tqdm.notebook import trange, tqdm\n",
    "import torchvision.transforms as T\n",
    "import shutil\n",
    "import math\n",
    "import numpy as np\n",
    "from keras.utils import np_utils"
   ]
  },
  {
   "cell_type": "code",
   "execution_count": 2,
   "id": "1f70e47a",
   "metadata": {},
   "outputs": [],
   "source": [
    "dataset_photos_path = 'dataset/photos'\n",
    "dataset_output_path = 'dataset/toy_flat'\n",
    "photo_size = 100 # 100 x 100 pixeles\n",
    "df_pickle_file='checkpoints/df5.pkl'\n",
    "max_photos=100 # numero de fotos de cada categoria"
   ]
  },
  {
   "cell_type": "code",
   "execution_count": 3,
   "id": "99781f61",
   "metadata": {},
   "outputs": [],
   "source": [
    "df = pickle.load(open('checkpoints/df3.pkl','rb'))"
   ]
  },
  {
   "cell_type": "code",
   "execution_count": 4,
   "id": "f093fbaa",
   "metadata": {},
   "outputs": [
    {
     "data": {
      "text/html": [
       "<div>\n",
       "<style scoped>\n",
       "    .dataframe tbody tr th:only-of-type {\n",
       "        vertical-align: middle;\n",
       "    }\n",
       "\n",
       "    .dataframe tbody tr th {\n",
       "        vertical-align: top;\n",
       "    }\n",
       "\n",
       "    .dataframe thead th {\n",
       "        text-align: right;\n",
       "    }\n",
       "</style>\n",
       "<table border=\"1\" class=\"dataframe\">\n",
       "  <thead>\n",
       "    <tr style=\"text-align: right;\">\n",
       "      <th></th>\n",
       "      <th>label</th>\n",
       "      <th>x_dim</th>\n",
       "      <th>y_dim</th>\n",
       "      <th>z_channels</th>\n",
       "      <th>pixels</th>\n",
       "      <th>corrupt</th>\n",
       "    </tr>\n",
       "    <tr>\n",
       "      <th>photo_id</th>\n",
       "      <th></th>\n",
       "      <th></th>\n",
       "      <th></th>\n",
       "      <th></th>\n",
       "      <th></th>\n",
       "      <th></th>\n",
       "    </tr>\n",
       "  </thead>\n",
       "  <tbody>\n",
       "    <tr>\n",
       "      <th>--0h6FMC0V8aMtKQylojEg</th>\n",
       "      <td>inside</td>\n",
       "      <td>400.0</td>\n",
       "      <td>300.0</td>\n",
       "      <td>3.0</td>\n",
       "      <td>120000.0</td>\n",
       "      <td>False</td>\n",
       "    </tr>\n",
       "    <tr>\n",
       "      <th>--3JQ4MlO-jHT9xbo7liug</th>\n",
       "      <td>food</td>\n",
       "      <td>400.0</td>\n",
       "      <td>400.0</td>\n",
       "      <td>3.0</td>\n",
       "      <td>160000.0</td>\n",
       "      <td>False</td>\n",
       "    </tr>\n",
       "    <tr>\n",
       "      <th>--3P3fjPrScy06XVLi4vhg</th>\n",
       "      <td>inside</td>\n",
       "      <td>400.0</td>\n",
       "      <td>560.0</td>\n",
       "      <td>3.0</td>\n",
       "      <td>224000.0</td>\n",
       "      <td>False</td>\n",
       "    </tr>\n",
       "    <tr>\n",
       "      <th>--4DfhW2sJvjeC90KEDX3g</th>\n",
       "      <td>inside</td>\n",
       "      <td>400.0</td>\n",
       "      <td>300.0</td>\n",
       "      <td>3.0</td>\n",
       "      <td>120000.0</td>\n",
       "      <td>False</td>\n",
       "    </tr>\n",
       "    <tr>\n",
       "      <th>--5V3mRlhb3zqE5yF4Gpaw</th>\n",
       "      <td>inside</td>\n",
       "      <td>400.0</td>\n",
       "      <td>300.0</td>\n",
       "      <td>3.0</td>\n",
       "      <td>120000.0</td>\n",
       "      <td>False</td>\n",
       "    </tr>\n",
       "  </tbody>\n",
       "</table>\n",
       "</div>"
      ],
      "text/plain": [
       "                         label  x_dim  y_dim  z_channels    pixels  corrupt\n",
       "photo_id                                                                   \n",
       "--0h6FMC0V8aMtKQylojEg  inside  400.0  300.0         3.0  120000.0    False\n",
       "--3JQ4MlO-jHT9xbo7liug    food  400.0  400.0         3.0  160000.0    False\n",
       "--3P3fjPrScy06XVLi4vhg  inside  400.0  560.0         3.0  224000.0    False\n",
       "--4DfhW2sJvjeC90KEDX3g  inside  400.0  300.0         3.0  120000.0    False\n",
       "--5V3mRlhb3zqE5yF4Gpaw  inside  400.0  300.0         3.0  120000.0    False"
      ]
     },
     "execution_count": 4,
     "metadata": {},
     "output_type": "execute_result"
    }
   ],
   "source": [
    "df.head()"
   ]
  },
  {
   "cell_type": "code",
   "execution_count": 5,
   "id": "73f57e00",
   "metadata": {},
   "outputs": [],
   "source": [
    "# nos quedamos solo con los archivos válidos\n",
    "df = df.loc[df.corrupt == False]"
   ]
  },
  {
   "cell_type": "code",
   "execution_count": 6,
   "id": "2456f169",
   "metadata": {},
   "outputs": [
    {
     "data": {
      "text/html": [
       "<div>\n",
       "<style scoped>\n",
       "    .dataframe tbody tr th:only-of-type {\n",
       "        vertical-align: middle;\n",
       "    }\n",
       "\n",
       "    .dataframe tbody tr th {\n",
       "        vertical-align: top;\n",
       "    }\n",
       "\n",
       "    .dataframe thead th {\n",
       "        text-align: right;\n",
       "    }\n",
       "</style>\n",
       "<table border=\"1\" class=\"dataframe\">\n",
       "  <thead>\n",
       "    <tr style=\"text-align: right;\">\n",
       "      <th></th>\n",
       "      <th>photo_id</th>\n",
       "      <th>label</th>\n",
       "    </tr>\n",
       "  </thead>\n",
       "  <tbody>\n",
       "    <tr>\n",
       "      <th>0</th>\n",
       "      <td>--0h6FMC0V8aMtKQylojEg</td>\n",
       "      <td>inside</td>\n",
       "    </tr>\n",
       "    <tr>\n",
       "      <th>1</th>\n",
       "      <td>--3JQ4MlO-jHT9xbo7liug</td>\n",
       "      <td>food</td>\n",
       "    </tr>\n",
       "    <tr>\n",
       "      <th>2</th>\n",
       "      <td>--3P3fjPrScy06XVLi4vhg</td>\n",
       "      <td>inside</td>\n",
       "    </tr>\n",
       "    <tr>\n",
       "      <th>3</th>\n",
       "      <td>--4DfhW2sJvjeC90KEDX3g</td>\n",
       "      <td>inside</td>\n",
       "    </tr>\n",
       "    <tr>\n",
       "      <th>4</th>\n",
       "      <td>--5V3mRlhb3zqE5yF4Gpaw</td>\n",
       "      <td>inside</td>\n",
       "    </tr>\n",
       "    <tr>\n",
       "      <th>...</th>\n",
       "      <td>...</td>\n",
       "      <td>...</td>\n",
       "    </tr>\n",
       "    <tr>\n",
       "      <th>199993</th>\n",
       "      <td>zzvNHEgplGVXAzxDJ_I0dg</td>\n",
       "      <td>drink</td>\n",
       "    </tr>\n",
       "    <tr>\n",
       "      <th>199994</th>\n",
       "      <td>zzwVMQ3NIAHCmNe4hJa4qw</td>\n",
       "      <td>outside</td>\n",
       "    </tr>\n",
       "    <tr>\n",
       "      <th>199995</th>\n",
       "      <td>zzwXBLKbKiJnEPTqKTHAiw</td>\n",
       "      <td>food</td>\n",
       "    </tr>\n",
       "    <tr>\n",
       "      <th>199996</th>\n",
       "      <td>zzyP051L-ROFT9nMzMDPjQ</td>\n",
       "      <td>food</td>\n",
       "    </tr>\n",
       "    <tr>\n",
       "      <th>199997</th>\n",
       "      <td>zzyhsUoIrOMxfqWEJ9YSCA</td>\n",
       "      <td>inside</td>\n",
       "    </tr>\n",
       "  </tbody>\n",
       "</table>\n",
       "<p>199998 rows × 2 columns</p>\n",
       "</div>"
      ],
      "text/plain": [
       "                      photo_id    label\n",
       "0       --0h6FMC0V8aMtKQylojEg   inside\n",
       "1       --3JQ4MlO-jHT9xbo7liug     food\n",
       "2       --3P3fjPrScy06XVLi4vhg   inside\n",
       "3       --4DfhW2sJvjeC90KEDX3g   inside\n",
       "4       --5V3mRlhb3zqE5yF4Gpaw   inside\n",
       "...                        ...      ...\n",
       "199993  zzvNHEgplGVXAzxDJ_I0dg    drink\n",
       "199994  zzwVMQ3NIAHCmNe4hJa4qw  outside\n",
       "199995  zzwXBLKbKiJnEPTqKTHAiw     food\n",
       "199996  zzyP051L-ROFT9nMzMDPjQ     food\n",
       "199997  zzyhsUoIrOMxfqWEJ9YSCA   inside\n",
       "\n",
       "[199998 rows x 2 columns]"
      ]
     },
     "execution_count": 6,
     "metadata": {},
     "output_type": "execute_result"
    }
   ],
   "source": [
    "# nos quedamos con photo_id y label\n",
    "df = df.drop(columns=['x_dim', 'y_dim', 'z_channels', 'pixels','corrupt']).reset_index()\n",
    "df"
   ]
  },
  {
   "cell_type": "markdown",
   "id": "6d0d97bf",
   "metadata": {},
   "source": [
    "## Generar Train"
   ]
  },
  {
   "cell_type": "code",
   "execution_count": 7,
   "id": "cbf3a0ad",
   "metadata": {},
   "outputs": [],
   "source": [
    "## Seleccionar 80% x max_photos fotos de cada categoría\n",
    "df_subset = pd.DataFrame([], columns=['photo_id',\n",
    "                                'label'])\n",
    "total_photos = df.label.value_counts()\n",
    "for label in total_photos.index:\n",
    "    if total_photos[label] > max_photos: # Hay muchas fotos. Preservar un subconjunto.\n",
    "        df_subset = pd.concat([df_subset,\n",
    "                            df.loc[df.label == label].sample(n=int(max_photos*0.8))])\n",
    "    else: # Hay pocas fotos. Preservar todas.\n",
    "        df_subset = pd.concat([df_subset,\n",
    "                            df.loc[df.label == label]])\n",
    "df_train = df_subset"
   ]
  },
  {
   "cell_type": "markdown",
   "id": "02c574cb",
   "metadata": {},
   "source": [
    "## Generar Test"
   ]
  },
  {
   "cell_type": "code",
   "execution_count": 8,
   "id": "8bb01cf3",
   "metadata": {},
   "outputs": [],
   "source": [
    "fotos_que_quedan = df[~df['photo_id'].isin(df_train['photo_id'])]"
   ]
  },
  {
   "cell_type": "code",
   "execution_count": 9,
   "id": "698d2338",
   "metadata": {},
   "outputs": [],
   "source": [
    "## Seleccionar 20% x max_photos de cada categoría\n",
    "df_subset = pd.DataFrame([], columns=['photo_id',\n",
    "                                'label'])\n",
    "for label in total_photos.index:\n",
    "    if total_photos[label] > max_photos: # Hay muchas fotos. Preservar un subconjunto.\n",
    "        df_subset = pd.concat([df_subset,\n",
    "                            fotos_que_quedan.loc[fotos_que_quedan.label == label].sample(n=int(max_photos*0.2))])\n",
    "    else: # Hay pocas fotos. Preservar todas.\n",
    "        df_subset = pd.concat([df_subset,\n",
    "                            fotos_que_quedan.loc[fotos_que_quedan.label == label]])\n",
    "df_test = df_subset"
   ]
  },
  {
   "cell_type": "code",
   "execution_count": 10,
   "id": "e993f38d",
   "metadata": {},
   "outputs": [
    {
     "data": {
      "text/plain": [
       "food       80\n",
       "inside     80\n",
       "outside    80\n",
       "drink      80\n",
       "menu       80\n",
       "Name: label, dtype: int64"
      ]
     },
     "execution_count": 10,
     "metadata": {},
     "output_type": "execute_result"
    }
   ],
   "source": [
    "df_train.label.value_counts()"
   ]
  },
  {
   "cell_type": "code",
   "execution_count": 11,
   "id": "f1bbde45",
   "metadata": {},
   "outputs": [
    {
     "data": {
      "text/plain": [
       "food       20\n",
       "inside     20\n",
       "outside    20\n",
       "drink      20\n",
       "menu       20\n",
       "Name: label, dtype: int64"
      ]
     },
     "execution_count": 11,
     "metadata": {},
     "output_type": "execute_result"
    }
   ],
   "source": [
    "df_test.label.value_counts()"
   ]
  },
  {
   "cell_type": "markdown",
   "id": "eab634e6",
   "metadata": {},
   "source": [
    "Confirmar que no hay fotos de df_test en df_train"
   ]
  },
  {
   "cell_type": "code",
   "execution_count": 44,
   "id": "6830d125",
   "metadata": {},
   "outputs": [
    {
     "data": {
      "text/html": [
       "<div>\n",
       "<style scoped>\n",
       "    .dataframe tbody tr th:only-of-type {\n",
       "        vertical-align: middle;\n",
       "    }\n",
       "\n",
       "    .dataframe tbody tr th {\n",
       "        vertical-align: top;\n",
       "    }\n",
       "\n",
       "    .dataframe thead th {\n",
       "        text-align: right;\n",
       "    }\n",
       "</style>\n",
       "<table border=\"1\" class=\"dataframe\">\n",
       "  <thead>\n",
       "    <tr style=\"text-align: right;\">\n",
       "      <th></th>\n",
       "      <th>photo_id</th>\n",
       "      <th>label</th>\n",
       "    </tr>\n",
       "  </thead>\n",
       "  <tbody>\n",
       "  </tbody>\n",
       "</table>\n",
       "</div>"
      ],
      "text/plain": [
       "Empty DataFrame\n",
       "Columns: [photo_id, label]\n",
       "Index: []"
      ]
     },
     "execution_count": 44,
     "metadata": {},
     "output_type": "execute_result"
    }
   ],
   "source": [
    "df_train[df_train['photo_id'].isin(df_test['photo_id'])]"
   ]
  },
  {
   "cell_type": "markdown",
   "id": "7fb09820",
   "metadata": {},
   "source": [
    "## Cargar fotos el el dataframe\n",
    "Queremos:\n",
    "\n",
    "`X.shape = (N, photo_size, photo_size, 3)\n",
    "y.shape = (N, P)`\n",
    "\n",
    "Donde:\n",
    "- N es el número de imagenes (P x max_photos).\n",
    "- P es el número de categorías (labels)\n",
    "\n",
    "Las fotos se escalarán y recortarán a 224 x 224."
   ]
  },
  {
   "cell_type": "markdown",
   "id": "d3a6df63",
   "metadata": {},
   "source": [
    "### Train"
   ]
  },
  {
   "cell_type": "code",
   "execution_count": 12,
   "id": "9f2708a6",
   "metadata": {},
   "outputs": [],
   "source": [
    "df2_train = df_train.copy()\n",
    "df2_train['image']=\"\""
   ]
  },
  {
   "cell_type": "code",
   "execution_count": 13,
   "id": "c0c7304b",
   "metadata": {},
   "outputs": [
    {
     "data": {
      "text/html": [
       "<div>\n",
       "<style scoped>\n",
       "    .dataframe tbody tr th:only-of-type {\n",
       "        vertical-align: middle;\n",
       "    }\n",
       "\n",
       "    .dataframe tbody tr th {\n",
       "        vertical-align: top;\n",
       "    }\n",
       "\n",
       "    .dataframe thead th {\n",
       "        text-align: right;\n",
       "    }\n",
       "</style>\n",
       "<table border=\"1\" class=\"dataframe\">\n",
       "  <thead>\n",
       "    <tr style=\"text-align: right;\">\n",
       "      <th></th>\n",
       "      <th>photo_id</th>\n",
       "      <th>label</th>\n",
       "      <th>image</th>\n",
       "    </tr>\n",
       "  </thead>\n",
       "  <tbody>\n",
       "    <tr>\n",
       "      <th>165105</th>\n",
       "      <td>oph_MmD3MzCGTA2-LFn2ZA</td>\n",
       "      <td>food</td>\n",
       "      <td></td>\n",
       "    </tr>\n",
       "    <tr>\n",
       "      <th>6084</th>\n",
       "      <td>0vwZDyv0D83AjR3ESCf53A</td>\n",
       "      <td>food</td>\n",
       "      <td></td>\n",
       "    </tr>\n",
       "    <tr>\n",
       "      <th>128415</th>\n",
       "      <td>d2q50ccC-mqxb-muROfqOA</td>\n",
       "      <td>food</td>\n",
       "      <td></td>\n",
       "    </tr>\n",
       "    <tr>\n",
       "      <th>166656</th>\n",
       "      <td>pKoEaI8K0ED_Z9VfEqCLfw</td>\n",
       "      <td>food</td>\n",
       "      <td></td>\n",
       "    </tr>\n",
       "    <tr>\n",
       "      <th>8716</th>\n",
       "      <td>1kKPGF3lXeABuUU1tFnm-g</td>\n",
       "      <td>food</td>\n",
       "      <td></td>\n",
       "    </tr>\n",
       "  </tbody>\n",
       "</table>\n",
       "</div>"
      ],
      "text/plain": [
       "                      photo_id label image\n",
       "165105  oph_MmD3MzCGTA2-LFn2ZA  food      \n",
       "6084    0vwZDyv0D83AjR3ESCf53A  food      \n",
       "128415  d2q50ccC-mqxb-muROfqOA  food      \n",
       "166656  pKoEaI8K0ED_Z9VfEqCLfw  food      \n",
       "8716    1kKPGF3lXeABuUU1tFnm-g  food      "
      ]
     },
     "execution_count": 13,
     "metadata": {},
     "output_type": "execute_result"
    }
   ],
   "source": [
    "df2_train.head()"
   ]
  },
  {
   "cell_type": "code",
   "execution_count": 14,
   "id": "77192ad5",
   "metadata": {},
   "outputs": [],
   "source": [
    "example_photo = Image.open('{}/{}.jpg'.format(dataset_photos_path, df2_train.iloc[1].photo_id))"
   ]
  },
  {
   "cell_type": "code",
   "execution_count": 15,
   "id": "cde1fa03",
   "metadata": {},
   "outputs": [
    {
     "data": {
      "image/png": "[encoded data removed]",
      "text/plain": [
       "<PIL.JpegImagePlugin.JpegImageFile image mode=RGB size=128x190>"
      ]
     },
     "execution_count": 15,
     "metadata": {},
     "output_type": "execute_result"
    }
   ],
   "source": [
    "example_photo"
   ]
  },
  {
   "cell_type": "code",
   "execution_count": 16,
   "id": "2e92eb50",
   "metadata": {},
   "outputs": [
    {
     "data": {
      "text/plain": [
       "(128, 190)"
      ]
     },
     "execution_count": 16,
     "metadata": {},
     "output_type": "execute_result"
    }
   ],
   "source": [
    "example_photo.size"
   ]
  },
  {
   "cell_type": "code",
   "execution_count": 17,
   "id": "d59f8cbe",
   "metadata": {},
   "outputs": [
    {
     "data": {
      "application/vnd.jupyter.widget-view+json": {
       "model_id": "d6886fc6b66f400c8c09522cdf954d91",
       "version_major": 2,
       "version_minor": 0
      },
      "text/plain": [
       "Photos cropped:   0%|          | 0/400 [00:00<?, ?it/s]"
      ]
     },
     "metadata": {},
     "output_type": "display_data"
    }
   ],
   "source": [
    "# redimensionar, recortar y guardar fotos\n",
    "\n",
    "for im_pos in tqdm(range(len(df_train)), desc='Photos cropped', miniters=len(df_train)//100):\n",
    "    \n",
    "    with Image.open('{}/{}.jpg'.format(dataset_photos_path, df_train.iloc[im_pos].photo_id)) as image:\n",
    "\n",
    "        width = image.size[0]\n",
    "        height = image.size[1]\n",
    "\n",
    "        # redimensionar\n",
    "        if (height < width): # imagen estrecha\n",
    "            height = int(photo_size)\n",
    "            height = math.floor(photo_size * width/height)\n",
    "        else: # imagen ancha\n",
    "            width = math.floor(photo_size * height/width)\n",
    "            height = int(photo_size)\n",
    "\n",
    "        resized = T.Resize((height, width))(image)\n",
    "        cropped = T.CenterCrop(size=int(photo_size))(resized)\n",
    "        \n",
    "        df2_train.iloc[im_pos,2]=cropped"
   ]
  },
  {
   "cell_type": "code",
   "execution_count": 18,
   "id": "f8002a19",
   "metadata": {},
   "outputs": [
    {
     "data": {
      "text/html": [
       "<div>\n",
       "<style scoped>\n",
       "    .dataframe tbody tr th:only-of-type {\n",
       "        vertical-align: middle;\n",
       "    }\n",
       "\n",
       "    .dataframe tbody tr th {\n",
       "        vertical-align: top;\n",
       "    }\n",
       "\n",
       "    .dataframe thead th {\n",
       "        text-align: right;\n",
       "    }\n",
       "</style>\n",
       "<table border=\"1\" class=\"dataframe\">\n",
       "  <thead>\n",
       "    <tr style=\"text-align: right;\">\n",
       "      <th></th>\n",
       "      <th>photo_id</th>\n",
       "      <th>label</th>\n",
       "      <th>image</th>\n",
       "    </tr>\n",
       "  </thead>\n",
       "  <tbody>\n",
       "    <tr>\n",
       "      <th>165105</th>\n",
       "      <td>oph_MmD3MzCGTA2-LFn2ZA</td>\n",
       "      <td>food</td>\n",
       "      <td>&lt;PIL.Image.Image image mode=RGB size=100x100 a...</td>\n",
       "    </tr>\n",
       "    <tr>\n",
       "      <th>6084</th>\n",
       "      <td>0vwZDyv0D83AjR3ESCf53A</td>\n",
       "      <td>food</td>\n",
       "      <td>&lt;PIL.Image.Image image mode=RGB size=100x100 a...</td>\n",
       "    </tr>\n",
       "    <tr>\n",
       "      <th>128415</th>\n",
       "      <td>d2q50ccC-mqxb-muROfqOA</td>\n",
       "      <td>food</td>\n",
       "      <td>&lt;PIL.Image.Image image mode=RGB size=100x100 a...</td>\n",
       "    </tr>\n",
       "    <tr>\n",
       "      <th>166656</th>\n",
       "      <td>pKoEaI8K0ED_Z9VfEqCLfw</td>\n",
       "      <td>food</td>\n",
       "      <td>&lt;PIL.Image.Image image mode=RGB size=100x100 a...</td>\n",
       "    </tr>\n",
       "    <tr>\n",
       "      <th>8716</th>\n",
       "      <td>1kKPGF3lXeABuUU1tFnm-g</td>\n",
       "      <td>food</td>\n",
       "      <td>&lt;PIL.Image.Image image mode=RGB size=100x100 a...</td>\n",
       "    </tr>\n",
       "  </tbody>\n",
       "</table>\n",
       "</div>"
      ],
      "text/plain": [
       "                      photo_id label  \\\n",
       "165105  oph_MmD3MzCGTA2-LFn2ZA  food   \n",
       "6084    0vwZDyv0D83AjR3ESCf53A  food   \n",
       "128415  d2q50ccC-mqxb-muROfqOA  food   \n",
       "166656  pKoEaI8K0ED_Z9VfEqCLfw  food   \n",
       "8716    1kKPGF3lXeABuUU1tFnm-g  food   \n",
       "\n",
       "                                                    image  \n",
       "165105  <PIL.Image.Image image mode=RGB size=100x100 a...  \n",
       "6084    <PIL.Image.Image image mode=RGB size=100x100 a...  \n",
       "128415  <PIL.Image.Image image mode=RGB size=100x100 a...  \n",
       "166656  <PIL.Image.Image image mode=RGB size=100x100 a...  \n",
       "8716    <PIL.Image.Image image mode=RGB size=100x100 a...  "
      ]
     },
     "execution_count": 18,
     "metadata": {},
     "output_type": "execute_result"
    }
   ],
   "source": [
    "df2_train.head()"
   ]
  },
  {
   "cell_type": "code",
   "execution_count": 19,
   "id": "ace1008e",
   "metadata": {},
   "outputs": [
    {
     "data": {
      "image/png": "[encoded data removed]",
      "text/plain": [
       "<PIL.Image.Image image mode=RGB size=100x100>"
      ]
     },
     "execution_count": 19,
     "metadata": {},
     "output_type": "execute_result"
    }
   ],
   "source": [
    "df2_train.iloc[1,2] # 2 = columna 'image'"
   ]
  },
  {
   "cell_type": "markdown",
   "id": "d7cb28d3",
   "metadata": {},
   "source": [
    "### Test"
   ]
  },
  {
   "cell_type": "code",
   "execution_count": 20,
   "id": "0b0288c8",
   "metadata": {},
   "outputs": [],
   "source": [
    "df2_test = df_test.copy()\n",
    "df2_test['image']=\"\""
   ]
  },
  {
   "cell_type": "code",
   "execution_count": 21,
   "id": "1095cc74",
   "metadata": {},
   "outputs": [
    {
     "data": {
      "application/vnd.jupyter.widget-view+json": {
       "model_id": "c396c19fc5f9447dad49bafdb8438a91",
       "version_major": 2,
       "version_minor": 0
      },
      "text/plain": [
       "Photos cropped:   0%|          | 0/100 [00:00<?, ?it/s]"
      ]
     },
     "metadata": {},
     "output_type": "display_data"
    }
   ],
   "source": [
    "# redimensionar, recortar y guardar fotos\n",
    "\n",
    "for im_pos in tqdm(range(len(df_test)), desc='Photos cropped', miniters=len(df_test)//100):\n",
    "    \n",
    "    with Image.open('{}/{}.jpg'.format(dataset_photos_path, df_test.iloc[im_pos].photo_id)) as image:\n",
    "\n",
    "        width = image.size[0]\n",
    "        height = image.size[1]\n",
    "\n",
    "        # redimensionar\n",
    "        if (height < width): # imagen estrecha\n",
    "            height = int(photo_size)\n",
    "            height = math.floor(photo_size * width/height)\n",
    "        else: # imagen ancha\n",
    "            width = math.floor(photo_size * height/width)\n",
    "            height = int(photo_size)\n",
    "\n",
    "        resized = T.Resize((height, width))(image)\n",
    "        cropped = T.CenterCrop(size=int(photo_size))(resized)\n",
    "        \n",
    "        df2_test.iloc[im_pos,2]=cropped"
   ]
  },
  {
   "cell_type": "code",
   "execution_count": 22,
   "id": "5f379d6d",
   "metadata": {},
   "outputs": [
    {
     "data": {
      "text/html": [
       "<div>\n",
       "<style scoped>\n",
       "    .dataframe tbody tr th:only-of-type {\n",
       "        vertical-align: middle;\n",
       "    }\n",
       "\n",
       "    .dataframe tbody tr th {\n",
       "        vertical-align: top;\n",
       "    }\n",
       "\n",
       "    .dataframe thead th {\n",
       "        text-align: right;\n",
       "    }\n",
       "</style>\n",
       "<table border=\"1\" class=\"dataframe\">\n",
       "  <thead>\n",
       "    <tr style=\"text-align: right;\">\n",
       "      <th></th>\n",
       "      <th>photo_id</th>\n",
       "      <th>label</th>\n",
       "      <th>image</th>\n",
       "    </tr>\n",
       "  </thead>\n",
       "  <tbody>\n",
       "    <tr>\n",
       "      <th>3637</th>\n",
       "      <td>0AK1Dud1GBqaIAPC9PS1HQ</td>\n",
       "      <td>food</td>\n",
       "      <td>&lt;PIL.Image.Image image mode=RGB size=100x100 a...</td>\n",
       "    </tr>\n",
       "    <tr>\n",
       "      <th>136093</th>\n",
       "      <td>fXqYxRJP1RrNVDqvTWMEvg</td>\n",
       "      <td>food</td>\n",
       "      <td>&lt;PIL.Image.Image image mode=RGB size=100x100 a...</td>\n",
       "    </tr>\n",
       "    <tr>\n",
       "      <th>47074</th>\n",
       "      <td>E2i4snhK1y2vu7AlbDqLYQ</td>\n",
       "      <td>food</td>\n",
       "      <td>&lt;PIL.Image.Image image mode=RGB size=100x100 a...</td>\n",
       "    </tr>\n",
       "    <tr>\n",
       "      <th>179056</th>\n",
       "      <td>tEv4_2iC6HS3STpPxxGmeg</td>\n",
       "      <td>food</td>\n",
       "      <td>&lt;PIL.Image.Image image mode=RGB size=100x100 a...</td>\n",
       "    </tr>\n",
       "    <tr>\n",
       "      <th>59023</th>\n",
       "      <td>HreXxc8QcTG_jTWX9CM4Hg</td>\n",
       "      <td>food</td>\n",
       "      <td>&lt;PIL.Image.Image image mode=RGB size=100x100 a...</td>\n",
       "    </tr>\n",
       "  </tbody>\n",
       "</table>\n",
       "</div>"
      ],
      "text/plain": [
       "                      photo_id label  \\\n",
       "3637    0AK1Dud1GBqaIAPC9PS1HQ  food   \n",
       "136093  fXqYxRJP1RrNVDqvTWMEvg  food   \n",
       "47074   E2i4snhK1y2vu7AlbDqLYQ  food   \n",
       "179056  tEv4_2iC6HS3STpPxxGmeg  food   \n",
       "59023   HreXxc8QcTG_jTWX9CM4Hg  food   \n",
       "\n",
       "                                                    image  \n",
       "3637    <PIL.Image.Image image mode=RGB size=100x100 a...  \n",
       "136093  <PIL.Image.Image image mode=RGB size=100x100 a...  \n",
       "47074   <PIL.Image.Image image mode=RGB size=100x100 a...  \n",
       "179056  <PIL.Image.Image image mode=RGB size=100x100 a...  \n",
       "59023   <PIL.Image.Image image mode=RGB size=100x100 a...  "
      ]
     },
     "execution_count": 22,
     "metadata": {},
     "output_type": "execute_result"
    }
   ],
   "source": [
    "df2_test.head()"
   ]
  },
  {
   "cell_type": "markdown",
   "id": "b6c51256",
   "metadata": {},
   "source": [
    "## Generar X"
   ]
  },
  {
   "cell_type": "markdown",
   "id": "807c5b9f",
   "metadata": {},
   "source": [
    "### X_train"
   ]
  },
  {
   "cell_type": "code",
   "execution_count": 23,
   "id": "413c5bde",
   "metadata": {},
   "outputs": [],
   "source": [
    "series_X_train = df2_train.image.map(lambda img: np.array(img.getdata()).reshape(photo_size, photo_size, 3))"
   ]
  },
  {
   "cell_type": "code",
   "execution_count": 24,
   "id": "0077cfe1",
   "metadata": {},
   "outputs": [],
   "source": [
    "X_train = np.stack(series_X_train.to_numpy(copy=True))"
   ]
  },
  {
   "cell_type": "code",
   "execution_count": 25,
   "id": "446ee0eb",
   "metadata": {},
   "outputs": [
    {
     "data": {
      "text/plain": [
       "(400, 100, 100, 3)"
      ]
     },
     "execution_count": 25,
     "metadata": {},
     "output_type": "execute_result"
    }
   ],
   "source": [
    "X_train.shape"
   ]
  },
  {
   "cell_type": "markdown",
   "id": "84a1279b",
   "metadata": {},
   "source": [
    "### X_test"
   ]
  },
  {
   "cell_type": "code",
   "execution_count": 26,
   "id": "8de03b2b",
   "metadata": {},
   "outputs": [],
   "source": [
    "series_X_test = df2_test.image.map(lambda img: np.array(img.getdata()).reshape(photo_size, photo_size, 3))"
   ]
  },
  {
   "cell_type": "code",
   "execution_count": 27,
   "id": "96dd9927",
   "metadata": {},
   "outputs": [],
   "source": [
    "X_test = np.stack(series_X_test.to_numpy(copy=True))"
   ]
  },
  {
   "cell_type": "code",
   "execution_count": 28,
   "id": "4ec85a6e",
   "metadata": {},
   "outputs": [
    {
     "data": {
      "text/plain": [
       "(100, 100, 100, 3)"
      ]
     },
     "execution_count": 28,
     "metadata": {},
     "output_type": "execute_result"
    }
   ],
   "source": [
    "X_test.shape"
   ]
  },
  {
   "cell_type": "markdown",
   "id": "2ef591ec",
   "metadata": {},
   "source": [
    "## Generar y"
   ]
  },
  {
   "cell_type": "markdown",
   "id": "81e2ed2d",
   "metadata": {},
   "source": [
    "### y_train"
   ]
  },
  {
   "cell_type": "code",
   "execution_count": 29,
   "id": "ff0120e0",
   "metadata": {},
   "outputs": [],
   "source": [
    "labels_train = df2_train.label"
   ]
  },
  {
   "cell_type": "code",
   "execution_count": 30,
   "id": "eb9876e3",
   "metadata": {
    "scrolled": true
   },
   "outputs": [
    {
     "data": {
      "text/plain": [
       "165105    food\n",
       "6084      food\n",
       "128415    food\n",
       "166656    food\n",
       "8716      food\n",
       "Name: label, dtype: object"
      ]
     },
     "execution_count": 30,
     "metadata": {},
     "output_type": "execute_result"
    }
   ],
   "source": [
    "labels_train.head()"
   ]
  },
  {
   "cell_type": "code",
   "execution_count": 31,
   "id": "0fd44397",
   "metadata": {},
   "outputs": [
    {
     "data": {
      "text/plain": [
       "['food', 'inside', 'outside', 'drink', 'menu']"
      ]
     },
     "execution_count": 31,
     "metadata": {},
     "output_type": "execute_result"
    }
   ],
   "source": [
    "categories = list(labels_train.unique())\n",
    "categories"
   ]
  },
  {
   "cell_type": "code",
   "execution_count": 32,
   "id": "33a6be20",
   "metadata": {},
   "outputs": [
    {
     "data": {
      "text/plain": [
       "165105    0\n",
       "6084      0\n",
       "128415    0\n",
       "166656    0\n",
       "8716      0\n",
       "Name: label, dtype: int64"
      ]
     },
     "execution_count": 32,
     "metadata": {},
     "output_type": "execute_result"
    }
   ],
   "source": [
    "y_train_int = labels_train.map(lambda label: categories.index(label))\n",
    "y_train_int.head()"
   ]
  },
  {
   "cell_type": "code",
   "execution_count": 33,
   "id": "7fe24b34",
   "metadata": {},
   "outputs": [
    {
     "data": {
      "text/plain": [
       "array([[1., 0., 0., 0., 0.],\n",
       "       [1., 0., 0., 0., 0.],\n",
       "       [1., 0., 0., 0., 0.],\n",
       "       ...,\n",
       "       [0., 0., 0., 0., 1.],\n",
       "       [0., 0., 0., 0., 1.],\n",
       "       [0., 0., 0., 0., 1.]], dtype=float32)"
      ]
     },
     "execution_count": 33,
     "metadata": {},
     "output_type": "execute_result"
    }
   ],
   "source": [
    "y_train = np_utils.to_categorical(y_train_int, len(categories))\n",
    "y_train"
   ]
  },
  {
   "cell_type": "markdown",
   "id": "66828ac9",
   "metadata": {},
   "source": [
    "### y_test"
   ]
  },
  {
   "cell_type": "code",
   "execution_count": 34,
   "id": "9f389f89",
   "metadata": {},
   "outputs": [],
   "source": [
    "labels_test = df2_test.label"
   ]
  },
  {
   "cell_type": "code",
   "execution_count": 35,
   "id": "ec7872e6",
   "metadata": {},
   "outputs": [],
   "source": [
    "y_test_int = labels_test.map(lambda label: categories.index(label))"
   ]
  },
  {
   "cell_type": "code",
   "execution_count": 36,
   "id": "fc385df1",
   "metadata": {},
   "outputs": [
    {
     "data": {
      "text/plain": [
       "array([[1., 0., 0., 0., 0.],\n",
       "       [1., 0., 0., 0., 0.],\n",
       "       [1., 0., 0., 0., 0.],\n",
       "       [1., 0., 0., 0., 0.],\n",
       "       [1., 0., 0., 0., 0.],\n",
       "       [1., 0., 0., 0., 0.],\n",
       "       [1., 0., 0., 0., 0.],\n",
       "       [1., 0., 0., 0., 0.],\n",
       "       [1., 0., 0., 0., 0.],\n",
       "       [1., 0., 0., 0., 0.],\n",
       "       [1., 0., 0., 0., 0.],\n",
       "       [1., 0., 0., 0., 0.],\n",
       "       [1., 0., 0., 0., 0.],\n",
       "       [1., 0., 0., 0., 0.],\n",
       "       [1., 0., 0., 0., 0.],\n",
       "       [1., 0., 0., 0., 0.],\n",
       "       [1., 0., 0., 0., 0.],\n",
       "       [1., 0., 0., 0., 0.],\n",
       "       [1., 0., 0., 0., 0.],\n",
       "       [1., 0., 0., 0., 0.],\n",
       "       [0., 1., 0., 0., 0.],\n",
       "       [0., 1., 0., 0., 0.],\n",
       "       [0., 1., 0., 0., 0.],\n",
       "       [0., 1., 0., 0., 0.],\n",
       "       [0., 1., 0., 0., 0.],\n",
       "       [0., 1., 0., 0., 0.],\n",
       "       [0., 1., 0., 0., 0.],\n",
       "       [0., 1., 0., 0., 0.],\n",
       "       [0., 1., 0., 0., 0.],\n",
       "       [0., 1., 0., 0., 0.],\n",
       "       [0., 1., 0., 0., 0.],\n",
       "       [0., 1., 0., 0., 0.],\n",
       "       [0., 1., 0., 0., 0.],\n",
       "       [0., 1., 0., 0., 0.],\n",
       "       [0., 1., 0., 0., 0.],\n",
       "       [0., 1., 0., 0., 0.],\n",
       "       [0., 1., 0., 0., 0.],\n",
       "       [0., 1., 0., 0., 0.],\n",
       "       [0., 1., 0., 0., 0.],\n",
       "       [0., 1., 0., 0., 0.],\n",
       "       [0., 0., 1., 0., 0.],\n",
       "       [0., 0., 1., 0., 0.],\n",
       "       [0., 0., 1., 0., 0.],\n",
       "       [0., 0., 1., 0., 0.],\n",
       "       [0., 0., 1., 0., 0.],\n",
       "       [0., 0., 1., 0., 0.],\n",
       "       [0., 0., 1., 0., 0.],\n",
       "       [0., 0., 1., 0., 0.],\n",
       "       [0., 0., 1., 0., 0.],\n",
       "       [0., 0., 1., 0., 0.],\n",
       "       [0., 0., 1., 0., 0.],\n",
       "       [0., 0., 1., 0., 0.],\n",
       "       [0., 0., 1., 0., 0.],\n",
       "       [0., 0., 1., 0., 0.],\n",
       "       [0., 0., 1., 0., 0.],\n",
       "       [0., 0., 1., 0., 0.],\n",
       "       [0., 0., 1., 0., 0.],\n",
       "       [0., 0., 1., 0., 0.],\n",
       "       [0., 0., 1., 0., 0.],\n",
       "       [0., 0., 1., 0., 0.],\n",
       "       [0., 0., 0., 1., 0.],\n",
       "       [0., 0., 0., 1., 0.],\n",
       "       [0., 0., 0., 1., 0.],\n",
       "       [0., 0., 0., 1., 0.],\n",
       "       [0., 0., 0., 1., 0.],\n",
       "       [0., 0., 0., 1., 0.],\n",
       "       [0., 0., 0., 1., 0.],\n",
       "       [0., 0., 0., 1., 0.],\n",
       "       [0., 0., 0., 1., 0.],\n",
       "       [0., 0., 0., 1., 0.],\n",
       "       [0., 0., 0., 1., 0.],\n",
       "       [0., 0., 0., 1., 0.],\n",
       "       [0., 0., 0., 1., 0.],\n",
       "       [0., 0., 0., 1., 0.],\n",
       "       [0., 0., 0., 1., 0.],\n",
       "       [0., 0., 0., 1., 0.],\n",
       "       [0., 0., 0., 1., 0.],\n",
       "       [0., 0., 0., 1., 0.],\n",
       "       [0., 0., 0., 1., 0.],\n",
       "       [0., 0., 0., 1., 0.],\n",
       "       [0., 0., 0., 0., 1.],\n",
       "       [0., 0., 0., 0., 1.],\n",
       "       [0., 0., 0., 0., 1.],\n",
       "       [0., 0., 0., 0., 1.],\n",
       "       [0., 0., 0., 0., 1.],\n",
       "       [0., 0., 0., 0., 1.],\n",
       "       [0., 0., 0., 0., 1.],\n",
       "       [0., 0., 0., 0., 1.],\n",
       "       [0., 0., 0., 0., 1.],\n",
       "       [0., 0., 0., 0., 1.],\n",
       "       [0., 0., 0., 0., 1.],\n",
       "       [0., 0., 0., 0., 1.],\n",
       "       [0., 0., 0., 0., 1.],\n",
       "       [0., 0., 0., 0., 1.],\n",
       "       [0., 0., 0., 0., 1.],\n",
       "       [0., 0., 0., 0., 1.],\n",
       "       [0., 0., 0., 0., 1.],\n",
       "       [0., 0., 0., 0., 1.],\n",
       "       [0., 0., 0., 0., 1.],\n",
       "       [0., 0., 0., 0., 1.]], dtype=float32)"
      ]
     },
     "execution_count": 36,
     "metadata": {},
     "output_type": "execute_result"
    }
   ],
   "source": [
    "y_test = np_utils.to_categorical(y_test_int, len(categories))\n",
    "y_test"
   ]
  },
  {
   "cell_type": "markdown",
   "id": "57a3113d",
   "metadata": {},
   "source": [
    "## Guardar flat_toy"
   ]
  },
  {
   "cell_type": "code",
   "execution_count": 37,
   "id": "c76b1e7a",
   "metadata": {},
   "outputs": [],
   "source": [
    "pickle.dump(X_train, open('checkpoints/flat_toy_X_train.pkl','wb'))"
   ]
  },
  {
   "cell_type": "code",
   "execution_count": 38,
   "id": "90984b6f",
   "metadata": {},
   "outputs": [],
   "source": [
    "pickle.dump(X_test, open('checkpoints/flat_toy_X_test.pkl','wb'))"
   ]
  },
  {
   "cell_type": "code",
   "execution_count": 39,
   "id": "052f58d9",
   "metadata": {},
   "outputs": [],
   "source": [
    "pickle.dump(y_train, open('checkpoints/flat_toy_y_train.pkl','wb'))"
   ]
  },
  {
   "cell_type": "code",
   "execution_count": 40,
   "id": "ebaa39ef",
   "metadata": {},
   "outputs": [],
   "source": [
    "pickle.dump(y_test, open('checkpoints/flat_toy_y_test.pkl','wb'))"
   ]
  },
  {
   "cell_type": "code",
   "execution_count": 41,
   "id": "9d5b7363",
   "metadata": {},
   "outputs": [],
   "source": [
    "pickle.dump(categories, open('checkpoints/flat_toy_categories.pkl','wb'))"
   ]
  }
 ],
 "metadata": {
  "kernelspec": {
   "display_name": "Python 3 (ipykernel)",
   "language": "python",
   "name": "python3"
  },
  "language_info": {
   "codemirror_mode": {
    "name": "ipython",
    "version": 3
   },
   "file_extension": ".py",
   "mimetype": "text/x-python",
   "name": "python",
   "nbconvert_exporter": "python",
   "pygments_lexer": "ipython3",
   "version": "3.8.10"
  }
 },
 "nbformat": 4,
 "nbformat_minor": 5
}
