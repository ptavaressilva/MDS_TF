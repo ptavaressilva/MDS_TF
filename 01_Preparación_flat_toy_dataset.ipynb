{
 "cells": [
  {
   "cell_type": "markdown",
   "id": "f2a00c6b",
   "metadata": {},
   "source": [
    "# Preparación para el TF MDS\n",
    "\n",
    "## Preparación de los datos\n",
    "\n",
    "Repo para trabajo de preparación\n",
    "\n",
    "Dataset: https://www.yelp.com/dataset/documentation/main\n",
    "\n",
    "Crea un repositório:\n",
    "- con una única carpeta\n",
    "- 100 fotos de cada categoría (label)\n",
    "- fotos escaladas y recortadas a 100 x 100\n",
    "\n",
    "**Requiere ejecución del notebook '00_EDA.ipynb'** para generar el archivo checkpoints/df5.pkl"
   ]
  },
  {
   "cell_type": "code",
   "execution_count": 1,
   "id": "22a5b218",
   "metadata": {},
   "outputs": [],
   "source": [
    "import os\n",
    "import pickle\n",
    "import pandas as pd\n",
    "from PIL import Image\n",
    "from tqdm.notebook import trange, tqdm\n",
    "import torchvision.transforms as T"
   ]
  },
  {
   "cell_type": "code",
   "execution_count": 4,
   "id": "1f70e47a",
   "metadata": {},
   "outputs": [],
   "source": [
    "dataset_photos_path = 'dataset/photos'\n",
    "dataset_output_path = 'dataset/toy_flat'\n",
    "photo_size = 100 # 100 x 100 pixeles\n",
    "df_pickle_file='checkpoints/df5.pkl'\n",
    "max_photos=100"
   ]
  },
  {
   "cell_type": "code",
   "execution_count": 5,
   "id": "0f46c341",
   "metadata": {},
   "outputs": [],
   "source": [
    "# crear carpeta para el repositorio o vaciarla si ya existe\n",
    "if os.path.isdir(dataset_output_path): # carpeta de salida ya existe. Se elimina (vacia)\n",
    "    shutil.rmtree(dataset_output_path, ignore_errors=False,\n",
    "                  onerror=None)  # remove tree\n",
    "os.mkdir(dataset_output_path)"
   ]
  },
  {
   "cell_type": "code",
   "execution_count": null,
   "id": "fc0e3796",
   "metadata": {},
   "outputs": [],
   "source": [
    "# Cargar fichero\n",
    "df = pickle.load(open(df_pickle_file,'rb'))"
   ]
  },
  {
   "cell_type": "code",
   "execution_count": null,
   "id": "cbf3a0ad",
   "metadata": {},
   "outputs": [],
   "source": [
    "# Seleccionar fotos a usar\n",
    "if max_photos > 0: # max_photos == 0 significa usar todas las fotos\n",
    "    df_subset = pd.DataFrame([], columns=['photo_id',\n",
    "                                    'label',\n",
    "                                    'x_dim', \n",
    "                                    'y_dim', \n",
    "                                    'z_channels', \n",
    "                                    'pixels', \n",
    "                                    'drink',\n",
    "                                    'food',\n",
    "                                    'inside',\n",
    "                                    'menu',\n",
    "                                    'outside'])\n",
    "    total_photos = df.label.value_counts()\n",
    "    for label in total_photos.index:\n",
    "        if total_photos[label] > max_photos: # Hay muchas fotos. Preservar un subconjunto.\n",
    "            df_subset = pd.concat([df_subset,\n",
    "                                df.loc[df.label == label].sample(n=max_photos)])\n",
    "        else: # Hay pocas fotos. Preservar todas.\n",
    "            df_subset = pd.concat([df_subset,\n",
    "                                df.loc[df.label == label]])\n",
    "    df = df_subset\n",
    "    del(df_subset)"
   ]
  },
  {
   "cell_type": "code",
   "execution_count": null,
   "id": "d59f8cbe",
   "metadata": {},
   "outputs": [],
   "source": [
    "# redimensionar, recortar y guardar fotos\n",
    "\n",
    "for img in tqdm(range(len(df)), desc='Photos cropped', miniters=len(df)//100):\n",
    "    im = Image.open('{}/{}.jpg'.format(dataset_photos_path, df.iloc[img].photo_id))\n",
    "\n",
    "    # redimensionar\n",
    "    if (df.iloc[img].y_dim < df.iloc[img].x_dim): # imagen estrecha\n",
    "        width = int(photo_size)\n",
    "        height = math.floor(photo_size * df.iloc[img].x_dim/df.iloc[img].y_dim)\n",
    "    else: # imagen ancha\n",
    "        width = math.floor(photo_size * df.iloc[img].y_dim/df.iloc[img].x_dim)\n",
    "        height = int(photo_size)\n",
    "\n",
    "    resized = T.Resize((height, width))(im)\n",
    "    cropped = T.CenterCrop(size=int(photo_size))(resized)\n",
    "\n",
    "    cropped.save('{}/{}/{}.png'.format(\n",
    "        dataset_output_path, \n",
    "        df.iloc[img].label, \n",
    "        df.iloc[img].photo_id))"
   ]
  },
  {
   "cell_type": "code",
   "execution_count": null,
   "id": "8391e546",
   "metadata": {},
   "outputs": [],
   "source": [
    "pickle.dump(df,open('{}/df.pkl'.format(dataset_output_path,'wb'))"
   ]
  },
  {
   "cell_type": "code",
   "execution_count": null,
   "id": "8884d7e0",
   "metadata": {},
   "outputs": [],
   "source": []
  },
  {
   "cell_type": "code",
   "execution_count": null,
   "id": "75e7c55e",
   "metadata": {},
   "outputs": [],
   "source": []
  },
  {
   "cell_type": "code",
   "execution_count": null,
   "id": "a54121e6",
   "metadata": {},
   "outputs": [],
   "source": []
  },
  {
   "cell_type": "code",
   "execution_count": null,
   "id": "846e0002",
   "metadata": {},
   "outputs": [],
   "source": []
  },
  {
   "cell_type": "code",
   "execution_count": null,
   "id": "5fe9a2fb",
   "metadata": {},
   "outputs": [],
   "source": [
    "from email.mime import image\n",
    "import math\n"
   ]
  }
 ],
 "metadata": {
  "kernelspec": {
   "display_name": "Python 3 (ipykernel)",
   "language": "python",
   "name": "python3"
  },
  "language_info": {
   "codemirror_mode": {
    "name": "ipython",
    "version": 3
   },
   "file_extension": ".py",
   "mimetype": "text/x-python",
   "name": "python",
   "nbconvert_exporter": "python",
   "pygments_lexer": "ipython3",
   "version": "3.8.10"
  }
 },
 "nbformat": 4,
 "nbformat_minor": 5
}
