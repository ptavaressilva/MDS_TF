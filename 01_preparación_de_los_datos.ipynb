{
 "cells": [
  {
   "cell_type": "markdown",
   "id": "60f19223",
   "metadata": {},
   "source": [
    "# Preparación para el TF MDS\n",
    "\n",
    "## Preparación de los datos\n",
    "\n",
    "Repo para trabajo de preparación\n",
    "\n",
    "Dataset: https://www.yelp.com/dataset/documentation/main\n",
    "\n",
    "**Requiere ejecución del notebook '00_EDA.ipynb'** para generar el archivo checkpoints/df5.pkl\n",
    "\n",
    "Se crean dos repositorios de fotos recortadas al tamaño photo_size x photo_size:\n",
    "- dataset/photos (todas las fotos)\n",
    "- dataset/photos (solo 100 fotos por categoría)"
   ]
  },
  {
   "cell_type": "code",
   "execution_count": 2,
   "id": "6ae1ee93",
   "metadata": {},
   "outputs": [
    {
     "name": "stderr",
     "output_type": "stream",
     "text": [
      "/usr/lib/python3/dist-packages/requests/__init__.py:89: RequestsDependencyWarning: urllib3 (1.26.11) or chardet (3.0.4) doesn't match a supported version!\n",
      "  warnings.warn(\"urllib3 ({}) or chardet ({}) doesn't match a supported \"\n"
     ]
    },
    {
     "data": {
      "text/plain": [
       "<module 'image_preparation' from '/Projetos_dev/image_preparation.py'>"
      ]
     },
     "execution_count": 2,
     "metadata": {},
     "output_type": "execute_result"
    }
   ],
   "source": [
    "import importlib\n",
    "import image_preparation\n",
    "importlib.reload(image_preparation)"
   ]
  },
  {
   "cell_type": "markdown",
   "id": "c72bc7ca",
   "metadata": {},
   "source": [
    "## Crea repo con fotos validas recortadas 224 x 224"
   ]
  },
  {
   "cell_type": "code",
   "execution_count": 3,
   "id": "9f58c8cb",
   "metadata": {},
   "outputs": [
    {
     "name": "stdout",
     "output_type": "stream",
     "text": [
      "Creando carpeta dataset/recortadas/food.\n",
      "Creando carpeta dataset/recortadas/inside.\n",
      "Creando carpeta dataset/recortadas/outside.\n",
      "Creando carpeta dataset/recortadas/drink.\n",
      "Creando carpeta dataset/recortadas/menu.\n"
     ]
    },
    {
     "data": {
      "application/vnd.jupyter.widget-view+json": {
       "model_id": "2c76d818623d4564b5b0a27f82da7e00",
       "version_major": 2,
       "version_minor": 0
      },
      "text/plain": [
       "Photos cropped:   0%|          | 0/196660 [00:00<?, ?it/s]"
      ]
     },
     "metadata": {},
     "output_type": "display_data"
    }
   ],
   "source": [
    "image_preparation.main(dataset_photos_path = 'dataset/photos',\n",
    "    dataset_output_path = 'dataset/recortadas',\n",
    "    photo_size = 224,\n",
    "    df_pickle_file='checkpoints/df5.pkl',\n",
    "    max_photos=0)"
   ]
  },
  {
   "cell_type": "markdown",
   "id": "0b860611",
   "metadata": {},
   "source": [
    "## Crear toy dataset con 100 fotos por categoría"
   ]
  },
  {
   "cell_type": "code",
   "execution_count": 4,
   "id": "514664f1",
   "metadata": {},
   "outputs": [
    {
     "name": "stdout",
     "output_type": "stream",
     "text": [
      "Carpeta dataset/toy/food existe. Vaciandola.\n",
      "Carpeta dataset/toy/inside existe. Vaciandola.\n",
      "Carpeta dataset/toy/outside existe. Vaciandola.\n",
      "Carpeta dataset/toy/drink existe. Vaciandola.\n",
      "Carpeta dataset/toy/menu existe. Vaciandola.\n"
     ]
    },
    {
     "data": {
      "application/vnd.jupyter.widget-view+json": {
       "model_id": "ceff928ae6634bc29cd0b16f44ffdd99",
       "version_major": 2,
       "version_minor": 0
      },
      "text/plain": [
       "Photos cropped:   0%|          | 0/500 [00:00<?, ?it/s]"
      ]
     },
     "metadata": {},
     "output_type": "display_data"
    }
   ],
   "source": [
    "image_preparation.main(dataset_photos_path = 'dataset/photos',\n",
    "    dataset_output_path = 'dataset/toy',\n",
    "    photo_size = 224,\n",
    "    df_pickle_file='checkpoints/df5.pkl',\n",
    "    max_photos=100)"
   ]
  }
 ],
 "metadata": {
  "kernelspec": {
   "display_name": "Python 3 (ipykernel)",
   "language": "python",
   "name": "python3"
  },
  "language_info": {
   "codemirror_mode": {
    "name": "ipython",
    "version": 3
   },
   "file_extension": ".py",
   "mimetype": "text/x-python",
   "name": "python",
   "nbconvert_exporter": "python",
   "pygments_lexer": "ipython3",
   "version": "3.8.10"
  }
 },
 "nbformat": 4,
 "nbformat_minor": 5
}
