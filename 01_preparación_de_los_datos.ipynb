{
 "cells": [
  {
   "cell_type": "markdown",
   "id": "3dc67b1d",
   "metadata": {},
   "source": [
    "# Preparación para el TF MDS\n",
    "\n",
    "## Preparación de los datos\n",
    "\n",
    "Dataset: https://www.yelp.com/dataset/documentation/main\n",
    "\n",
    "Extraer fotos del RAR en /dataset/photos.\n",
    "\n",
    "Extraer archivo photos.json en /dataset"
   ]
  },
  {
   "cell_type": "code",
   "execution_count": 2,
   "id": "032dd7fe",
   "metadata": {},
   "outputs": [],
   "source": [
    "import pandas as pd\n",
    "from progress.bar import Bar\n",
    "from PIL import Image\n",
    "import math\n",
    "import numpy as np\n",
    "import pickle"
   ]
  },
  {
   "cell_type": "code",
   "execution_count": null,
   "id": "7218e3f4",
   "metadata": {},
   "outputs": [],
   "source": [
    "photo_data = pickle.load(open('df4.pkl','rb'))"
   ]
  },
  {
   "cell_type": "markdown",
   "id": "a6691edb",
   "metadata": {},
   "source": [
    "### Cargar fotos (con Pillow), escalar y recortar"
   ]
  },
  {
   "cell_type": "code",
   "execution_count": null,
   "id": "cf5e4aa3",
   "metadata": {},
   "outputs": [],
   "source": [
    "bar = Bar('Processing photos', fill='#', suffix='%(percent)d%%', max=20)\n",
    "photo_counter = 0\n",
    "PHOTO_SIZE = 224.0 # https://huggingface.co/facebook/deit-tiny-patch16-224\n",
    "\n",
    "for img in photo_data:\n",
    "    if !img.corrupt:\n",
    "        \n",
    "        # load image\n",
    "        im = Image.open('dataset/photos/'+img.photo_id+'.jpg')\n",
    "                \n",
    "        # resize smallest dimension to PHOTO_SIZE\n",
    "        if (img.y_dim < img.x_dim): # narrow image\n",
    "            width = int(PHOTO_SIZE)\n",
    "            height = math.floor(PHOTO_SIZE * x_dim/y_dim)\n",
    "        else: # wide image\n",
    "            width = math.floor(PHOTO_SIZE * y_dim/x_dim)\n",
    "            height = int(PHOTO_SIZE)\n",
    "        resized = im.resize(width, height)\n",
    "        \n",
    "        # crop PHOTO_SIZE x PHOTO_SIZE at center\n",
    "        if (img.y_dim < img.x_dim): # narrow image\n",
    "            offset = math.floor((height - PHOTO_SIZE) / 2)\n",
    "            cropped = im.crop(offset, 0, int(PHOTO_SIZE)+1+offset, int(PHOTO_SIZE)+1) # left, upper, right, lower. (0, 0) is the upper left corner\n",
    "        else:\n",
    "            offset = math.floor((width - PHOTO_SIZE) / 2)\n",
    "            cropped = im.crop(0, offset, int(PHOTO_SIZE)+1, int(PHOTO_SIZE)+1+offset)\n",
    "        \n",
    "        # convert to numpy array\n",
    "        img_np = np.array(cropped)\n",
    "        \n",
    "        # save in list\n",
    "        if photo_counter == 0:\n",
    "            images = np.array(image.imread('dataset/photos/'+img))\n",
    "        else:\n",
    "            images = np.stack((images, image.imread('dataset/photos/'+img)), axis=0)\n",
    "        \n",
    "        if photo_counter == 5:\n",
    "            break # for testing purposes\n",
    "    \n",
    "    photo_counter +=1\n",
    "    if photo_counter % 1000 == 0:\n",
    "        bar.next()\n",
    "        #print('Processed {}k photos in {:0.1f} seconds'.format(photo_counter // 1000, time.time() - start_time))\n",
    "        #start_time = time.time()\n",
    "        \n",
    "bar.finish()"
   ]
  },
  {
   "cell_type": "code",
   "execution_count": null,
   "id": "ed04c124",
   "metadata": {},
   "outputs": [],
   "source": [
    "pickle.save(open('images.pkl','wb'))"
   ]
  },
  {
   "cell_type": "code",
   "execution_count": null,
   "id": "765c9c00",
   "metadata": {},
   "outputs": [],
   "source": [
    "#append data to the photo_data dataframe\n",
    "df5 = df4.copy()\n",
    "df5['photo'] = images.tolist()"
   ]
  },
  {
   "cell_type": "code",
   "execution_count": null,
   "id": "6fa3fc09",
   "metadata": {},
   "outputs": [],
   "source": [
    "df5.head()"
   ]
  },
  {
   "cell_type": "code",
   "execution_count": null,
   "id": "8f38b45b",
   "metadata": {},
   "outputs": [],
   "source": [
    "df5.to_pickle('df5.pkl')"
   ]
  },
  {
   "cell_type": "code",
   "execution_count": null,
   "id": "271fd4c8",
   "metadata": {},
   "outputs": [],
   "source": [
    "Formato esperado\n",
    "X_train = numpy.ndarray shape=(200102, 100, 100, 3), dtype=uint8\n",
    "\n",
    "y_train=  numpy.ndarray shape=(200102, 5), dtype=float32"
   ]
  },
  {
   "cell_type": "markdown",
   "id": "e820bfb6",
   "metadata": {},
   "source": [
    "### Convertir valores de los pixeles en coma flotante de simple precisión"
   ]
  },
  {
   "cell_type": "markdown",
   "id": "e9658acc",
   "metadata": {},
   "source": [
    "### Normalizar (rango 0 - 1)"
   ]
  },
  {
   "cell_type": "markdown",
   "id": "0f0f27b3",
   "metadata": {},
   "source": [
    "### one-hot encoding de las etiquetas"
   ]
  },
  {
   "cell_type": "markdown",
   "id": "e36c2f90",
   "metadata": {},
   "source": [
    "## división en train, test (1%) y validate (1%)"
   ]
  },
  {
   "cell_type": "markdown",
   "id": "07d6e53d",
   "metadata": {},
   "source": [
    "## Guardar datos preparados"
   ]
  },
  {
   "cell_type": "code",
   "execution_count": null,
   "id": "322393d0",
   "metadata": {},
   "outputs": [],
   "source": []
  }
 ],
 "metadata": {
  "kernelspec": {
   "display_name": "Python 3 (ipykernel)",
   "language": "python",
   "name": "python3"
  },
  "language_info": {
   "codemirror_mode": {
    "name": "ipython",
    "version": 3
   },
   "file_extension": ".py",
   "mimetype": "text/x-python",
   "name": "python",
   "nbconvert_exporter": "python",
   "pygments_lexer": "ipython3",
   "version": "3.8.10"
  }
 },
 "nbformat": 4,
 "nbformat_minor": 5
}
