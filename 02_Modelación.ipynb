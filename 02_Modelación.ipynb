{
 "cells": [
  {
   "cell_type": "markdown",
   "id": "3c71679f",
   "metadata": {},
   "source": [
    "# Preparación TF MDS\n",
    "\n",
    "--> transformers: https://colab.research.google.com/github/NielsRogge/Transformers-Tutorials/blob/master/VisionTransformer/Quick_demo_of_HuggingFace_version_of_Vision_Transformer_inference.ipynb\n",
    "\n",
    "--> setup ML Flow"
   ]
  },
  {
   "cell_type": "code",
   "execution_count": null,
   "id": "894e2287",
   "metadata": {},
   "outputs": [],
   "source": []
  }
 ],
 "metadata": {
  "kernelspec": {
   "display_name": "Python 3 (ipykernel)",
   "language": "python",
   "name": "python3"
  },
  "language_info": {
   "codemirror_mode": {
    "name": "ipython",
    "version": 3
   },
   "file_extension": ".py",
   "mimetype": "text/x-python",
   "name": "python",
   "nbconvert_exporter": "python",
   "pygments_lexer": "ipython3",
   "version": "3.8.10"
  }
 },
 "nbformat": 4,
 "nbformat_minor": 5
}
