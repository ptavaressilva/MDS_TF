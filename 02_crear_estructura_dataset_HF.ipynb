{
 "cells": [
  {
   "cell_type": "markdown",
   "id": "9994e3eb",
   "metadata": {},
   "source": [
    "## Crear &#129303; Huggin Face dataset"
   ]
  },
  {
   "cell_type": "code",
   "execution_count": 1,
   "id": "2be5e933",
   "metadata": {},
   "outputs": [
    {
     "name": "stdout",
     "output_type": "stream",
     "text": [
      "usage: create_hf_dataset [-h] [--dataset_origin_path DATASET_ORIGIN_PATH]\n",
      "                         [--dataset_output_path DATASET_OUTPUT_PATH]\n",
      "                         [--dataset_json_file DATASET_JSON_FILE]\n",
      "                         [--max_photos MAX_PHOTOS]\n",
      "\n",
      "optional arguments:\n",
      "  -h, --help            show this help message and exit\n",
      "  --dataset_origin_path DATASET_ORIGIN_PATH\n",
      "                        Carpeta donde está el repositório de fotos. Por\n",
      "                        defecto 'dataset/photos'.\n",
      "  --dataset_output_path DATASET_OUTPUT_PATH\n",
      "                        Raiz donde se generará el repositório con la\n",
      "                        estructura de Hugging Face (split/label/foto). Por\n",
      "                        defecto 'dataset/yelp'.\n",
      "  --dataset_json_file DATASET_JSON_FILE\n",
      "                        Fichero JSON con las categorías de las fotos. Por\n",
      "                        defecto 'dataset/photos.json'\n",
      "  --max_photos MAX_PHOTOS\n",
      "                        Número máximo de fotos de cada categoría a procesar.\n",
      "                        Omitir o cero para procesar todas. número de fotos en\n",
      "                        train (80%) + test (10%) + evaluate (10%) = max_photos\n"
     ]
    },
    {
     "name": "stderr",
     "output_type": "stream",
     "text": [
      "/usr/lib/python3/dist-packages/requests/__init__.py:89: RequestsDependencyWarning: urllib3 (1.26.11) or chardet (3.0.4) doesn't match a supported version!\n",
      "  warnings.warn(\"urllib3 ({}) or chardet ({}) doesn't match a supported \"\n"
     ]
    }
   ],
   "source": [
    "%run create_hf_dataset -h"
   ]
  },
  {
   "cell_type": "code",
   "execution_count": 3,
   "id": "e69bf249",
   "metadata": {},
   "outputs": [
    {
     "name": "stdout",
     "output_type": "stream",
     "text": [
      "Procesando:\n",
      "  dataset_origin_path=dataset/photos\n",
      "  dataset_output_path=dataset/yelp\n",
      "  dataset_json_file=dataset/photos.json\n",
      "  max_photos=5000\n",
      "Listado de fotos disponible en \"checkpoints/valid.pkl\"\n",
      "Listado de fotos cargado.\n",
      "Carpeta dataset/yelp creada\n",
      "Carpeta dataset/yelp/train creada\n",
      "Carpeta dataset/yelp/train/food creada\n",
      "Carpeta dataset/yelp/train/inside creada\n",
      "Carpeta dataset/yelp/train/outside creada\n",
      "Carpeta dataset/yelp/train/drink creada\n",
      "Carpeta dataset/yelp/train/menu creada\n",
      "Carpeta dataset/yelp/test creada\n",
      "Carpeta dataset/yelp/test/food creada\n",
      "Carpeta dataset/yelp/test/inside creada\n",
      "Carpeta dataset/yelp/test/outside creada\n",
      "Carpeta dataset/yelp/test/drink creada\n",
      "Carpeta dataset/yelp/test/menu creada\n",
      "Carpeta dataset/yelp/validation creada\n",
      "Carpeta dataset/yelp/validation/food creada\n",
      "Carpeta dataset/yelp/validation/inside creada\n",
      "Carpeta dataset/yelp/validation/outside creada\n",
      "Carpeta dataset/yelp/validation/drink creada\n",
      "Carpeta dataset/yelp/validation/menu creada\n",
      "dataset/yelp/train/food - copiadas   4,000 fotos\n",
      "dataset/yelp/train/inside - copiadas   4,000 fotos\n",
      "dataset/yelp/train/outside - copiadas   4,000 fotos\n",
      "dataset/yelp/train/drink - copiadas   4,000 fotos\n",
      "dataset/yelp/train/menu - copiadas   1,342 fotos\n",
      "Faltan 2658 imagenes en train\\menu\n",
      "dataset/yelp/train/menu - generadas   2,658 fotos\n",
      "dataset/yelp/test/food - copiadas     500 fotos\n",
      "dataset/yelp/test/inside - copiadas     500 fotos\n",
      "dataset/yelp/test/outside - copiadas     500 fotos\n",
      "dataset/yelp/test/drink - copiadas     500 fotos\n",
      "dataset/yelp/test/menu - copiadas     167 fotos\n",
      "Faltan 333 imagenes en test\\menu\n",
      "dataset/yelp/test/menu - generadas     333 fotos\n",
      "dataset/yelp/validation/food - copiadas     500 fotos\n",
      "dataset/yelp/validation/inside - copiadas     500 fotos\n",
      "dataset/yelp/validation/outside - copiadas     500 fotos\n",
      "dataset/yelp/validation/drink - copiadas     500 fotos\n",
      "dataset/yelp/validation/menu - copiadas     169 fotos\n",
      "Faltan 331 imagenes en validation\\menu\n",
      "dataset/yelp/validation/menu - generadas     331 fotos\n"
     ]
    }
   ],
   "source": [
    "%run create_hf_dataset\\\n",
    "--dataset_origin_path \"dataset/photos\"\\\n",
    "--dataset_output_path \"dataset/yelp\"\\\n",
    "--dataset_json_file \"dataset/photos.json\"\\\n",
    "--max_photos 5000"
   ]
  }
 ],
 "metadata": {
  "kernelspec": {
   "display_name": "Python 3 (ipykernel)",
   "language": "python",
   "name": "python3"
  },
  "language_info": {
   "codemirror_mode": {
    "name": "ipython",
    "version": 3
   },
   "file_extension": ".py",
   "mimetype": "text/x-python",
   "name": "python",
   "nbconvert_exporter": "python",
   "pygments_lexer": "ipython3",
   "version": "3.8.10"
  }
 },
 "nbformat": 4,
 "nbformat_minor": 5
}
