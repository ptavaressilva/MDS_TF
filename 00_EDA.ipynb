{
 "cells": [
  {
   "cell_type": "markdown",
   "id": "1cacf06a",
   "metadata": {},
   "source": [
    "# Preparación para el PF MDS+\n",
    "\n",
    "## Exploración de los datos (EDA)\n",
    "\n",
    "Repo para trabajo de preparación\n",
    "\n",
    "Dataset: https://www.yelp.com/dataset/documentation/main\n",
    "\n",
    "Extraer fotos del RAR en /dataset/photos.\n",
    "\n",
    "Extraer archivo photos.json en /dataset"
   ]
  },
  {
   "cell_type": "code",
   "execution_count": 10,
   "id": "3e6cb0d5",
   "metadata": {},
   "outputs": [],
   "source": [
    "import pandas as pd\n",
    "import pathlib\n",
    "# pip install imageio==2.21.1\n",
    "import imageio as iio\n",
    "import numpy as np\n",
    "import matplotlib.pyplot as plt\n",
    "# pip install scikit-image==0.19.3\n",
    "from skimage.color import rgb2gray\n",
    "import os\n",
    "from matplotlib import image\n",
    "import pickle\n",
    "from sklearn.preprocessing import OneHotEncoder"
   ]
  },
  {
   "cell_type": "markdown",
   "id": "88321790",
   "metadata": {},
   "source": [
    "## EDA del JSON"
   ]
  },
  {
   "cell_type": "code",
   "execution_count": 11,
   "id": "cbe49fe0",
   "metadata": {},
   "outputs": [
    {
     "name": "stdout",
     "output_type": "stream",
     "text": [
      "CPU times: user 419 ms, sys: 103 ms, total: 521 ms\n",
      "Wall time: 686 ms\n"
     ]
    }
   ],
   "source": [
    "%%time\n",
    "df = pd.read_json(r'dataset/photos.json', lines=True)"
   ]
  },
  {
   "cell_type": "code",
   "execution_count": 12,
   "id": "ed8010ff",
   "metadata": {},
   "outputs": [
    {
     "data": {
      "text/html": [
       "<div>\n",
       "<style scoped>\n",
       "    .dataframe tbody tr th:only-of-type {\n",
       "        vertical-align: middle;\n",
       "    }\n",
       "\n",
       "    .dataframe tbody tr th {\n",
       "        vertical-align: top;\n",
       "    }\n",
       "\n",
       "    .dataframe thead th {\n",
       "        text-align: right;\n",
       "    }\n",
       "</style>\n",
       "<table border=\"1\" class=\"dataframe\">\n",
       "  <thead>\n",
       "    <tr style=\"text-align: right;\">\n",
       "      <th></th>\n",
       "      <th>photo_id</th>\n",
       "      <th>business_id</th>\n",
       "      <th>caption</th>\n",
       "      <th>label</th>\n",
       "    </tr>\n",
       "  </thead>\n",
       "  <tbody>\n",
       "    <tr>\n",
       "      <th>0</th>\n",
       "      <td>zsvj7vloL4L5jhYyPIuVwg</td>\n",
       "      <td>Nk-SJhPlDBkAZvfsADtccA</td>\n",
       "      <td>Nice rock artwork everywhere and craploads of ...</td>\n",
       "      <td>inside</td>\n",
       "    </tr>\n",
       "    <tr>\n",
       "      <th>1</th>\n",
       "      <td>HCUdRJHHm_e0OCTlZetGLg</td>\n",
       "      <td>yVZtL5MmrpiivyCIrVkGgA</td>\n",
       "      <td></td>\n",
       "      <td>outside</td>\n",
       "    </tr>\n",
       "    <tr>\n",
       "      <th>2</th>\n",
       "      <td>vkr8T0scuJmGVvN2HJelEA</td>\n",
       "      <td>_ab50qdWOk0DdB6XOrBitw</td>\n",
       "      <td>oyster shooter</td>\n",
       "      <td>drink</td>\n",
       "    </tr>\n",
       "    <tr>\n",
       "      <th>3</th>\n",
       "      <td>pve7D6NUrafHW3EAORubyw</td>\n",
       "      <td>SZU9c8V2GuREDN5KgyHFJw</td>\n",
       "      <td>Shrimp scampi</td>\n",
       "      <td>food</td>\n",
       "    </tr>\n",
       "    <tr>\n",
       "      <th>4</th>\n",
       "      <td>H52Er-uBg6rNrHcReWTD2w</td>\n",
       "      <td>Gzur0f0XMkrVxIwYJvOt2g</td>\n",
       "      <td></td>\n",
       "      <td>food</td>\n",
       "    </tr>\n",
       "  </tbody>\n",
       "</table>\n",
       "</div>"
      ],
      "text/plain": [
       "                 photo_id             business_id  \\\n",
       "0  zsvj7vloL4L5jhYyPIuVwg  Nk-SJhPlDBkAZvfsADtccA   \n",
       "1  HCUdRJHHm_e0OCTlZetGLg  yVZtL5MmrpiivyCIrVkGgA   \n",
       "2  vkr8T0scuJmGVvN2HJelEA  _ab50qdWOk0DdB6XOrBitw   \n",
       "3  pve7D6NUrafHW3EAORubyw  SZU9c8V2GuREDN5KgyHFJw   \n",
       "4  H52Er-uBg6rNrHcReWTD2w  Gzur0f0XMkrVxIwYJvOt2g   \n",
       "\n",
       "                                             caption    label  \n",
       "0  Nice rock artwork everywhere and craploads of ...   inside  \n",
       "1                                                     outside  \n",
       "2                                     oyster shooter    drink  \n",
       "3                                      Shrimp scampi     food  \n",
       "4                                                        food  "
      ]
     },
     "execution_count": 12,
     "metadata": {},
     "output_type": "execute_result"
    }
   ],
   "source": [
    "df.head()"
   ]
  },
  {
   "cell_type": "markdown",
   "id": "10e6f75c",
   "metadata": {},
   "source": [
    "No vamos usar 'business_id' ni 'caption' en el trabajo"
   ]
  },
  {
   "cell_type": "code",
   "execution_count": 13,
   "id": "ee477ab0",
   "metadata": {},
   "outputs": [
    {
     "data": {
      "text/html": [
       "<div>\n",
       "<style scoped>\n",
       "    .dataframe tbody tr th:only-of-type {\n",
       "        vertical-align: middle;\n",
       "    }\n",
       "\n",
       "    .dataframe tbody tr th {\n",
       "        vertical-align: top;\n",
       "    }\n",
       "\n",
       "    .dataframe thead th {\n",
       "        text-align: right;\n",
       "    }\n",
       "</style>\n",
       "<table border=\"1\" class=\"dataframe\">\n",
       "  <thead>\n",
       "    <tr style=\"text-align: right;\">\n",
       "      <th></th>\n",
       "      <th>photo_id</th>\n",
       "      <th>label</th>\n",
       "    </tr>\n",
       "  </thead>\n",
       "  <tbody>\n",
       "    <tr>\n",
       "      <th>0</th>\n",
       "      <td>zsvj7vloL4L5jhYyPIuVwg</td>\n",
       "      <td>inside</td>\n",
       "    </tr>\n",
       "    <tr>\n",
       "      <th>1</th>\n",
       "      <td>HCUdRJHHm_e0OCTlZetGLg</td>\n",
       "      <td>outside</td>\n",
       "    </tr>\n",
       "  </tbody>\n",
       "</table>\n",
       "</div>"
      ],
      "text/plain": [
       "                 photo_id    label\n",
       "0  zsvj7vloL4L5jhYyPIuVwg   inside\n",
       "1  HCUdRJHHm_e0OCTlZetGLg  outside"
      ]
     },
     "execution_count": 13,
     "metadata": {},
     "output_type": "execute_result"
    }
   ],
   "source": [
    "df = df.drop(columns = ['business_id', 'caption'])\n",
    "df.head(2)"
   ]
  },
  {
   "cell_type": "code",
   "execution_count": 14,
   "id": "60b8eae7",
   "metadata": {},
   "outputs": [
    {
     "data": {
      "text/plain": [
       "(200100, 2)"
      ]
     },
     "execution_count": 14,
     "metadata": {},
     "output_type": "execute_result"
    }
   ],
   "source": [
    "df.shape"
   ]
  },
  {
   "cell_type": "code",
   "execution_count": 15,
   "id": "ec7e91c1",
   "metadata": {},
   "outputs": [
    {
     "data": {
      "text/html": [
       "<div>\n",
       "<style scoped>\n",
       "    .dataframe tbody tr th:only-of-type {\n",
       "        vertical-align: middle;\n",
       "    }\n",
       "\n",
       "    .dataframe tbody tr th {\n",
       "        vertical-align: top;\n",
       "    }\n",
       "\n",
       "    .dataframe thead th {\n",
       "        text-align: right;\n",
       "    }\n",
       "</style>\n",
       "<table border=\"1\" class=\"dataframe\">\n",
       "  <thead>\n",
       "    <tr style=\"text-align: right;\">\n",
       "      <th></th>\n",
       "      <th>photo_id</th>\n",
       "      <th>label</th>\n",
       "    </tr>\n",
       "  </thead>\n",
       "  <tbody>\n",
       "    <tr>\n",
       "      <th>count</th>\n",
       "      <td>200100</td>\n",
       "      <td>200100</td>\n",
       "    </tr>\n",
       "    <tr>\n",
       "      <th>unique</th>\n",
       "      <td>200098</td>\n",
       "      <td>5</td>\n",
       "    </tr>\n",
       "    <tr>\n",
       "      <th>top</th>\n",
       "      <td>_CYoxbCIKuAwpq4crHCPWg</td>\n",
       "      <td>food</td>\n",
       "    </tr>\n",
       "    <tr>\n",
       "      <th>freq</th>\n",
       "      <td>2</td>\n",
       "      <td>108152</td>\n",
       "    </tr>\n",
       "  </tbody>\n",
       "</table>\n",
       "</div>"
      ],
      "text/plain": [
       "                      photo_id   label\n",
       "count                   200100  200100\n",
       "unique                  200098       5\n",
       "top     _CYoxbCIKuAwpq4crHCPWg    food\n",
       "freq                         2  108152"
      ]
     },
     "execution_count": 15,
     "metadata": {},
     "output_type": "execute_result"
    }
   ],
   "source": [
    "df.describe()"
   ]
  },
  {
   "cell_type": "code",
   "execution_count": 16,
   "id": "5b4190c2",
   "metadata": {},
   "outputs": [
    {
     "data": {
      "text/plain": [
       "food       108152\n",
       "inside      56031\n",
       "outside     18569\n",
       "drink       15670\n",
       "menu         1678\n",
       "Name: label, dtype: int64"
      ]
     },
     "execution_count": 16,
     "metadata": {},
     "output_type": "execute_result"
    }
   ],
   "source": [
    "df.label.value_counts()"
   ]
  },
  {
   "cell_type": "code",
   "execution_count": 17,
   "id": "1fe9fca9",
   "metadata": {},
   "outputs": [
    {
     "data": {
      "image/png": "[encoded data removed]",
      "text/plain": [
       "<Figure size 432x288 with 1 Axes>"
      ]
     },
     "metadata": {
      "needs_background": "light"
     },
     "output_type": "display_data"
    }
   ],
   "source": [
    "plt.hist(df.label);"
   ]
  },
  {
   "cell_type": "markdown",
   "id": "87005ab6",
   "metadata": {},
   "source": [
    "Hay pocas fotos de 'menu'"
   ]
  },
  {
   "cell_type": "code",
   "execution_count": 18,
   "id": "ce96a716",
   "metadata": {},
   "outputs": [
    {
     "data": {
      "text/plain": [
       "2"
      ]
     },
     "execution_count": 18,
     "metadata": {},
     "output_type": "execute_result"
    }
   ],
   "source": [
    "df.photo_id.value_counts().max()"
   ]
  },
  {
   "cell_type": "markdown",
   "id": "5bfefe6e",
   "metadata": {},
   "source": [
    "Hay fotos con dos etiquetas (labels)"
   ]
  },
  {
   "cell_type": "code",
   "execution_count": 19,
   "id": "f6cb01f7",
   "metadata": {},
   "outputs": [
    {
     "data": {
      "text/plain": [
       "_CYoxbCIKuAwpq4crHCPWg    2\n",
       "qtl5YDIc2q0yelW_e9FfqQ    2\n",
       "zsvj7vloL4L5jhYyPIuVwg    1\n",
       "Name: photo_id, dtype: int64"
      ]
     },
     "execution_count": 19,
     "metadata": {},
     "output_type": "execute_result"
    }
   ],
   "source": [
    "df.photo_id.value_counts().nlargest(n=3)"
   ]
  },
  {
   "cell_type": "markdown",
   "id": "0c71e7f0",
   "metadata": {},
   "source": [
    "Solo hay dos fotos que tienen dos etiquetas."
   ]
  },
  {
   "cell_type": "code",
   "execution_count": 20,
   "id": "2c1b89a0",
   "metadata": {},
   "outputs": [
    {
     "data": {
      "text/html": [
       "<div>\n",
       "<style scoped>\n",
       "    .dataframe tbody tr th:only-of-type {\n",
       "        vertical-align: middle;\n",
       "    }\n",
       "\n",
       "    .dataframe tbody tr th {\n",
       "        vertical-align: top;\n",
       "    }\n",
       "\n",
       "    .dataframe thead th {\n",
       "        text-align: right;\n",
       "    }\n",
       "</style>\n",
       "<table border=\"1\" class=\"dataframe\">\n",
       "  <thead>\n",
       "    <tr style=\"text-align: right;\">\n",
       "      <th></th>\n",
       "      <th>photo_id</th>\n",
       "      <th>label</th>\n",
       "    </tr>\n",
       "  </thead>\n",
       "  <tbody>\n",
       "    <tr>\n",
       "      <th>29695</th>\n",
       "      <td>_CYoxbCIKuAwpq4crHCPWg</td>\n",
       "      <td>inside</td>\n",
       "    </tr>\n",
       "    <tr>\n",
       "      <th>174504</th>\n",
       "      <td>_CYoxbCIKuAwpq4crHCPWg</td>\n",
       "      <td>drink</td>\n",
       "    </tr>\n",
       "  </tbody>\n",
       "</table>\n",
       "</div>"
      ],
      "text/plain": [
       "                      photo_id   label\n",
       "29695   _CYoxbCIKuAwpq4crHCPWg  inside\n",
       "174504  _CYoxbCIKuAwpq4crHCPWg   drink"
      ]
     },
     "execution_count": 20,
     "metadata": {},
     "output_type": "execute_result"
    }
   ],
   "source": [
    "df[df.photo_id == '_CYoxbCIKuAwpq4crHCPWg']"
   ]
  },
  {
   "cell_type": "code",
   "execution_count": 21,
   "id": "fd486ad5",
   "metadata": {},
   "outputs": [
    {
     "data": {
      "text/html": [
       "<div>\n",
       "<style scoped>\n",
       "    .dataframe tbody tr th:only-of-type {\n",
       "        vertical-align: middle;\n",
       "    }\n",
       "\n",
       "    .dataframe tbody tr th {\n",
       "        vertical-align: top;\n",
       "    }\n",
       "\n",
       "    .dataframe thead th {\n",
       "        text-align: right;\n",
       "    }\n",
       "</style>\n",
       "<table border=\"1\" class=\"dataframe\">\n",
       "  <thead>\n",
       "    <tr style=\"text-align: right;\">\n",
       "      <th></th>\n",
       "      <th>photo_id</th>\n",
       "      <th>label</th>\n",
       "    </tr>\n",
       "  </thead>\n",
       "  <tbody>\n",
       "    <tr>\n",
       "      <th>173977</th>\n",
       "      <td>qtl5YDIc2q0yelW_e9FfqQ</td>\n",
       "      <td>inside</td>\n",
       "    </tr>\n",
       "    <tr>\n",
       "      <th>188850</th>\n",
       "      <td>qtl5YDIc2q0yelW_e9FfqQ</td>\n",
       "      <td>food</td>\n",
       "    </tr>\n",
       "  </tbody>\n",
       "</table>\n",
       "</div>"
      ],
      "text/plain": [
       "                      photo_id   label\n",
       "173977  qtl5YDIc2q0yelW_e9FfqQ  inside\n",
       "188850  qtl5YDIc2q0yelW_e9FfqQ    food"
      ]
     },
     "execution_count": 21,
     "metadata": {},
     "output_type": "execute_result"
    }
   ],
   "source": [
    "df[df.photo_id == 'qtl5YDIc2q0yelW_e9FfqQ']"
   ]
  },
  {
   "cell_type": "markdown",
   "id": "fc0587ba",
   "metadata": {},
   "source": [
    "## EDA de las fotos"
   ]
  },
  {
   "cell_type": "code",
   "execution_count": null,
   "id": "7d07a0ff",
   "metadata": {},
   "outputs": [],
   "source": [
    "%%time\n",
    "img_path = 'dataset/photos/'\n",
    "lista = os.listdir(img_path)"
   ]
  },
  {
   "cell_type": "code",
   "execution_count": null,
   "id": "0929d52d",
   "metadata": {},
   "outputs": [],
   "source": [
    "lista.to_pickle('lista.pkl')"
   ]
  },
  {
   "cell_type": "code",
   "execution_count": null,
   "id": "724f495b",
   "metadata": {},
   "outputs": [],
   "source": [
    "# checkpoint\n",
    "lista = pd.read_pickle('lista.pkl')"
   ]
  },
  {
   "cell_type": "code",
   "execution_count": null,
   "id": "c4a0599f",
   "metadata": {},
   "outputs": [],
   "source": [
    "df.head()"
   ]
  },
  {
   "cell_type": "code",
   "execution_count": null,
   "id": "98cb1369",
   "metadata": {},
   "outputs": [],
   "source": [
    "example_photo_name = lista[0]\n",
    "example_photo_index = df[df.photo_id == example_photo_name[:-4]].index[0]\n",
    "im = iio.v3.imread('dataset/photos/'+example_photo_name)"
   ]
  },
  {
   "cell_type": "code",
   "execution_count": null,
   "id": "95320cb3",
   "metadata": {},
   "outputs": [],
   "source": [
    "im.shape"
   ]
  },
  {
   "cell_type": "code",
   "execution_count": null,
   "id": "ec87f71c",
   "metadata": {},
   "outputs": [],
   "source": [
    "plt.imshow(im);\n",
    "print('Photo: {}   Tag: {}'.format(example_photo_name,\n",
    "                                   df.loc[df.photo_id == example_photo_name[:-4],\n",
    "                                          'label'][example_photo_index]))"
   ]
  },
  {
   "cell_type": "code",
   "execution_count": null,
   "id": "814e1dc3",
   "metadata": {},
   "outputs": [],
   "source": [
    "# Convertir en gris\n",
    "im_gray = rgb2gray(im)"
   ]
  },
  {
   "cell_type": "code",
   "execution_count": null,
   "id": "1fe0b9c7",
   "metadata": {},
   "outputs": [],
   "source": [
    "im_gray.shape"
   ]
  },
  {
   "cell_type": "code",
   "execution_count": null,
   "id": "6bca5c28",
   "metadata": {},
   "outputs": [],
   "source": [
    "plt.imshow(im_gray, cmap='gray', interpolation='nearest');\n",
    "print('Photo: {}   Tag: {}'.format(example_photo_name, \n",
    "                                   df.loc[df.photo_id == example_photo_name[:-4], \n",
    "                                          'label'][example_photo_index]))"
   ]
  },
  {
   "cell_type": "markdown",
   "id": "db8f377a",
   "metadata": {},
   "source": [
    "Convertir en gris reduce la información a procesar a un tercio. Si el coste de entrenar el modelo es muy alto, se probará con la versión gris de las imagenes."
   ]
  },
  {
   "cell_type": "markdown",
   "id": "f5b6361a",
   "metadata": {},
   "source": [
    "Vamos comprobar si las imagenes tienen distintos tamaños y si son todas validas."
   ]
  },
  {
   "cell_type": "code",
   "execution_count": null,
   "id": "46057987",
   "metadata": {},
   "outputs": [],
   "source": [
    "%%time\n",
    "#import time\n",
    "from progress.bar import Bar\n",
    "bar = Bar('Processing photos', fill='#', suffix='%(percent)d%%', max=20)\n",
    "\n",
    "photo_counter = 0\n",
    "#start_time = time.time()\n",
    "photo_data =[]\n",
    "for img in df.photo_id:\n",
    "    try:\n",
    "        shape = image.imread(img_path+img).shape\n",
    "        photo_data.append([img[:-4],     # photo_id sin extensión '.jpg'\n",
    "                    shape[0],            # x_dim\n",
    "                    shape[1],            # y_dim\n",
    "                    shape[2],            # z_channels\n",
    "                    shape[0] * shape[1], # size\n",
    "                    False])              # corrupt\n",
    "    except:\n",
    "        # file is corrupt\n",
    "        photo_data.append([img[:-4],    # photo_id sin extensión '.jpg'\n",
    "                           np.nan,      # x_dim\n",
    "                           np.nan,      # y_dim\n",
    "                           np.nan,      # z_channels\n",
    "                           np.nan,      # size\n",
    "                           True])       # corrupt\n",
    "    photo_counter +=1\n",
    "    if photo_counter % 1000 == 0:\n",
    "        bar.next()\n",
    "        #print('Processed {}k photos in {:0.1f} seconds'.format(photo_counter // 1000, time.time() - start_time))\n",
    "        #start_time = time.time()\n",
    "bar.finish()"
   ]
  },
  {
   "cell_type": "code",
   "execution_count": null,
   "id": "2842b2ba",
   "metadata": {},
   "outputs": [],
   "source": [
    "df2 = pd.DataFrame(photo_data, columns=['photo_id', 'x_dim', 'y_dim', 'z_channels', 'size', 'corrupt'])"
   ]
  },
  {
   "cell_type": "code",
   "execution_count": null,
   "id": "25ccde22",
   "metadata": {},
   "outputs": [],
   "source": [
    "df2.head()"
   ]
  },
  {
   "cell_type": "code",
   "execution_count": null,
   "id": "a265efdb",
   "metadata": {},
   "outputs": [],
   "source": [
    "pickle.dump(df2, open(\"df2.pkl\", \"wb\"))"
   ]
  },
  {
   "cell_type": "code",
   "execution_count": null,
   "id": "919bb443",
   "metadata": {},
   "outputs": [],
   "source": [
    "# df2 = pickle.load(open('df2.pkl','rb'))"
   ]
  },
  {
   "cell_type": "code",
   "execution_count": null,
   "id": "4242fda3",
   "metadata": {},
   "outputs": [],
   "source": [
    "df2.corrupt.value_counts()"
   ]
  },
  {
   "cell_type": "markdown",
   "id": "4d0d5457",
   "metadata": {},
   "source": [
    "Hay 106 imagenes corruptas."
   ]
  },
  {
   "cell_type": "code",
   "execution_count": null,
   "id": "6d72489d",
   "metadata": {},
   "outputs": [],
   "source": [
    "df2.head()"
   ]
  },
  {
   "cell_type": "code",
   "execution_count": null,
   "id": "36252dd8",
   "metadata": {},
   "outputs": [],
   "source": [
    "print('El dataset tiene {} imagenes validas y {} imagenes corruptas.'.format(len(df2[df2.corrupt == False]),len(df2[df2.corrupt == True])))\n",
    "print('El tamaño de las imagenes en el eje x está entre {} y {} pixeles'.format(df2.x_dim.min(),df2.x_dim.max()))\n",
    "print('El tamaño de las imagenes en el eje y está entre {} y {} pixeles'.format(df2.y_dim.min(),df2.y_dim.max()))\n",
    "print('El número de canales está entre {} y {}'.format(df2.z_channels.min(),df2.z_channels.max()))\n",
    "print('La resolución de las imagenes varia entre {} y {} miles de pixels'.format(df2.pixels.min()/1000, df2.pixels.max()/1000))"
   ]
  },
  {
   "cell_type": "markdown",
   "id": "c0a0408d",
   "metadata": {},
   "source": [
    "Vamos crear un dataframe que tenga las etiquetas y los datos de las imagenes."
   ]
  },
  {
   "cell_type": "code",
   "execution_count": null,
   "id": "1dbac82e",
   "metadata": {},
   "outputs": [],
   "source": [
    "df3 = df.set_index('photo_id').join(df2.set_index('photo_id'), how=\"inner\")#.drop('index', axis=1)"
   ]
  },
  {
   "cell_type": "code",
   "execution_count": null,
   "id": "827bea76",
   "metadata": {},
   "outputs": [],
   "source": [
    "df3.head()"
   ]
  },
  {
   "cell_type": "code",
   "execution_count": null,
   "id": "28e33411",
   "metadata": {},
   "outputs": [],
   "source": [
    "pickle.dump(df3, open(\"df3.pkl\", \"wb\"))"
   ]
  },
  {
   "cell_type": "code",
   "execution_count": null,
   "id": "5c38c9b3",
   "metadata": {},
   "outputs": [],
   "source": [
    "# df3 = pickle.load(open('df3.pkl','rb'))"
   ]
  },
  {
   "cell_type": "markdown",
   "id": "5a564708",
   "metadata": {},
   "source": [
    "Vamos analizar de la distribución de fotos por tipo."
   ]
  },
  {
   "cell_type": "code",
   "execution_count": null,
   "id": "c5691c2d",
   "metadata": {},
   "outputs": [],
   "source": [
    "enc = OneHotEncoder(sparse=False, drop=None)\n",
    "enc.fit(df3[['label']])\n",
    "df4 = df3.copy()\n",
    "df4 = df4.reset_index()\n",
    "df4[enc.categories_[0]] = pd.DataFrame(enc.transform(df4[['label']]))\n",
    "df4.head()"
   ]
  },
  {
   "cell_type": "code",
   "execution_count": null,
   "id": "40e41099",
   "metadata": {},
   "outputs": [],
   "source": [
    "pickle.dump(df4, open('df4.pkl','wb'))"
   ]
  },
  {
   "cell_type": "code",
   "execution_count": null,
   "id": "5165244e",
   "metadata": {},
   "outputs": [],
   "source": [
    "# df4 = pickle.load(open('df4.pkl','rb'))"
   ]
  },
  {
   "cell_type": "code",
   "execution_count": null,
   "id": "c11f3f41",
   "metadata": {
    "scrolled": true
   },
   "outputs": [],
   "source": [
    "plt.hist(df4[['drink', 'food', 'inside', 'menu', 'outside']]);"
   ]
  },
  {
   "cell_type": "markdown",
   "id": "8a733738",
   "metadata": {},
   "source": [
    "Miremos la foto mas grande."
   ]
  },
  {
   "cell_type": "code",
   "execution_count": null,
   "id": "1cad8cf2",
   "metadata": {},
   "outputs": [],
   "source": [
    "largest_photo = df4.iloc[df4.loc[df4.pixels == df4.pixels.max()].index[0],0]\n",
    "im = iio.v3.imread('dataset/photos/'+largest_photo+'.jpg')\n",
    "plt.imshow(im);\n",
    "df4.iloc[df4.loc[df4.pixels == df4.pixels.max()].index[0], 0:6]"
   ]
  },
  {
   "cell_type": "markdown",
   "id": "2788d64e",
   "metadata": {},
   "source": [
    "...y la mas pequeña."
   ]
  },
  {
   "cell_type": "code",
   "execution_count": null,
   "id": "e11298be",
   "metadata": {},
   "outputs": [],
   "source": [
    "smallest_photo = df4.iloc[df4.loc[df4.pixels == df4.pixels.min()].index[0],0]\n",
    "im = iio.v3.imread('dataset/photos/'+smallest_photo+'.jpg')\n",
    "plt.imshow(im);\n",
    "df4.iloc[df4.loc[df4.pixels == df4.pixels.min()].index[0], 0:6]"
   ]
  },
  {
   "cell_type": "markdown",
   "id": "4b6f9100",
   "metadata": {},
   "source": [
    "Miremos la distribución de las fotos en función de su tamaño."
   ]
  },
  {
   "cell_type": "code",
   "execution_count": null,
   "id": "f21bc4db",
   "metadata": {},
   "outputs": [],
   "source": [
    "plt.hist(df4.pixels.dropna(), bins=240, cumulative=True);"
   ]
  },
  {
   "cell_type": "markdown",
   "id": "b7f488df",
   "metadata": {},
   "source": [
    "Hay relativamente pocas fotos con menos de 100 mil pixeles.\n",
    "\n",
    "Miremos si eso también se aplica para cada label."
   ]
  },
  {
   "cell_type": "code",
   "execution_count": null,
   "id": "c33ba1be",
   "metadata": {},
   "outputs": [],
   "source": [
    "df_drink = df4.loc[(df4.drink == 1.0) & (df4.corrupt == False)].pixels\n",
    "df_food = df4.loc[(df4.food == 1.0) & (df4.corrupt == False)].pixels\n",
    "df_inside = df4.loc[(df4.inside == 1.0) & (df4.corrupt == False)].pixels\n",
    "df_menu = df4.loc[(df4.menu == 1.0) & (df4.corrupt == False)].pixels\n",
    "df_outside = df4.loc[(df4.outside == 1.0) & (df4.corrupt == False)].pixels"
   ]
  },
  {
   "cell_type": "code",
   "execution_count": null,
   "id": "42e2e352",
   "metadata": {},
   "outputs": [],
   "source": [
    "plt.hist([df_drink, df_food, df_inside, df_menu, df_outside], cumulative=True);"
   ]
  },
  {
   "cell_type": "markdown",
   "id": "425a453d",
   "metadata": {},
   "source": [
    "No parece haber problema si no usamos las fotos que tengan menos de 100k pixeles."
   ]
  },
  {
   "cell_type": "code",
   "execution_count": null,
   "id": "4e98cd80",
   "metadata": {},
   "outputs": [],
   "source": [
    "len(df_menu.loc[df_menu > 100000])"
   ]
  },
  {
   "cell_type": "markdown",
   "id": "d52c1015",
   "metadata": {},
   "source": [
    "# Conclusiones\n",
    "\n",
    "1. Hay 199.992 fotos validas\n",
    "    - food = 108.152\n",
    "    - inside = 56.031\n",
    "    - outside = 18.569\n",
    "    - drink = 15.670\n",
    "    - menu = 1.678\n",
    "2. Todas las imagenes son en color (tienen 3 canales)\n",
    "3. Practicamente todas las fotos tienen solo una etiqueta\n",
    "4. La llave se llama 'photo_id' y no tiene extensión\n",
    "5. Las imagenes tienen distintos tamaños.\n",
    "     - En vertical varian entre 62 y 400 pixeles\n",
    "     - En horizontal varian entre 49 y 600 pixeles\n",
    "6. Hay un número significativo de fotos para todas las etiquetas si solo se usan imagenes con más de 100k pixeles (menu pasaría de 1.678 a 1.495 imagenes)"
   ]
  }
 ],
 "metadata": {
  "kernelspec": {
   "display_name": "Python 3 (ipykernel)",
   "language": "python",
   "name": "python3"
  },
  "language_info": {
   "codemirror_mode": {
    "name": "ipython",
    "version": 3
   },
   "file_extension": ".py",
   "mimetype": "text/x-python",
   "name": "python",
   "nbconvert_exporter": "python",
   "pygments_lexer": "ipython3",
   "version": "3.8.10"
  }
 },
 "nbformat": 4,
 "nbformat_minor": 5
}
